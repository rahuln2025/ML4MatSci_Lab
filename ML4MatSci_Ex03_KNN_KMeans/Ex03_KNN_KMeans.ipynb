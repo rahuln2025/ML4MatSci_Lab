{
 "cells": [
  {
   "cell_type": "markdown",
   "id": "7457d8c4",
   "metadata": {},
   "source": [
    "# K-Nearest Neighbours and K-Means Clustering\n",
    "\n",
    "In this exercise, we shall use k-nearest neighbours (KNN) and k-means clustering for classficiation of digits from the MNIST handwritten dataset. \n",
    "\n",
    "KNN is a supervised learning method, whereas k-means clustering is an unsupervised learning method. "
   ]
  },
  {
   "cell_type": "code",
   "execution_count": 15,
   "id": "f39c314c",
   "metadata": {},
   "outputs": [
    {
     "name": "stdout",
     "output_type": "stream",
     "text": [
      "Requirement already satisfied: threadpoolctl==3.1.0 in c:\\users\\narkh\\anaconda3\\lib\\site-packages (3.1.0)\n"
     ]
    },
    {
     "name": "stderr",
     "output_type": "stream",
     "text": [
      "WARNING: Ignoring invalid distribution -atplotlib (c:\\users\\narkh\\anaconda3\\lib\\site-packages)\n",
      "WARNING: Ignoring invalid distribution -ensorflow-intel (c:\\users\\narkh\\anaconda3\\lib\\site-packages)\n",
      "WARNING: Ignoring invalid distribution -atplotlib (c:\\users\\narkh\\anaconda3\\lib\\site-packages)\n",
      "WARNING: Ignoring invalid distribution -ensorflow-intel (c:\\users\\narkh\\anaconda3\\lib\\site-packages)\n",
      "DEPRECATION: pyodbc 4.0.0-unsupported has a non-standard version number. pip 24.1 will enforce this behaviour change. A possible replacement is to upgrade to a newer version of pyodbc or contact the author to suggest that they release a version with a conforming version number. Discussion can be found at https://github.com/pypa/pip/issues/12063\n"
     ]
    }
   ],
   "source": [
    "#optional if the following error arises with sklearn implemenations:\n",
    "#AttributeError: 'NoneType' object has no attribute 'split'\n",
    "# refer the link: \n",
    "# https://stackoverflow.com/questions/71352354/sklearn-kmeans-is-not-working-as-i-only-get-nonetype-object-has-no-attribute\n",
    "\n",
    "! pip install threadpoolctl==3.1.0"
   ]
  },
  {
   "cell_type": "code",
   "execution_count": 16,
   "id": "ef3dda4f",
   "metadata": {},
   "outputs": [],
   "source": [
    "import numpy as np\n",
    "import timeit\n",
    "import matplotlib as mpl\n",
    "mpl.use('Agg')\n",
    "import matplotlib.pyplot as plt\n",
    "plt.style.use('fivethirtyeight')\n",
    "from ipywidgets import interact\n",
    "import random\n",
    "\n",
    "%matplotlib inline"
   ]
  },
  {
   "cell_type": "code",
   "execution_count": 17,
   "id": "74ee57bd",
   "metadata": {},
   "outputs": [],
   "source": [
    "# Will not work until a Python script named 'MyPCA.py' is created\n",
    "# which contains the PCA class from the exercise 02.\n",
    "\n",
    "# If such a file does not exist, use sklearn's PCA implementation as disccused in exercise 02\n",
    "\n",
    "#import the PCA class implemention\n",
    "from MyPCA import *"
   ]
  },
  {
   "cell_type": "code",
   "execution_count": 18,
   "id": "0dcab4ae",
   "metadata": {},
   "outputs": [
    {
     "name": "stdout",
     "output_type": "stream",
     "text": [
      "<class 'pandas.core.frame.DataFrame'> (70000, 784)\n",
      "<class 'pandas.core.series.Series'> (70000,)\n",
      "<class 'numpy.ndarray'> (784,)\n",
      "<class 'str'> 5\n"
     ]
    }
   ],
   "source": [
    "# import MNIST dataset (might take a few seconds)\n",
    "\n",
    "from sklearn.datasets import fetch_openml\n",
    "images, labels = fetch_openml('mnist_784', version=1, return_X_y=True, parser = 'auto')\n",
    "\n",
    "# check the datatype and shape of the data\n",
    "print(type(images), images.shape)\n",
    "print(type(labels), labels.shape)\n",
    "\n",
    "# if not in NumPy, convert the data to NumPy array\n",
    "\n",
    "images = np.array(images)\n",
    "labels = np.array(labels)\n",
    "\n",
    "# check the shape of an individual image sample\n",
    "print(type(images[0]), images[0].shape)\n",
    "print(type(labels[0]), labels[0])\n",
    "\n",
    "# select 2000 samples from the whole MNIST dataset\n",
    "num_datapoints = 2000\n",
    "# some preprocessing\n",
    "X = (images.reshape(-1, 28*28)[:num_datapoints])/ 255 \n",
    "# dividing by 255 will scale pixel values between [0, 1]\n",
    "y = labels.astype(float) #convert string labels to float\n",
    "y = y[:num_datapoints]"
   ]
  },
  {
   "cell_type": "code",
   "execution_count": 19,
   "id": "d64b93a2",
   "metadata": {},
   "outputs": [
    {
     "name": "stdout",
     "output_type": "stream",
     "text": [
      "Label:  0.0 | count:  191\n",
      "Label:  1.0 | count:  220\n",
      "Label:  2.0 | count:  198\n",
      "Label:  3.0 | count:  191\n",
      "Label:  4.0 | count:  214\n",
      "Label:  5.0 | count:  180\n",
      "Label:  6.0 | count:  200\n",
      "Label:  7.0 | count:  224\n",
      "Label:  8.0 | count:  172\n",
      "Label:  9.0 | count:  210\n",
      "total samples:  2000\n"
     ]
    }
   ],
   "source": [
    "# Show counts of samples for each digit among the 2000 samples\n",
    "\n",
    "labels_unique = np.unique(y)\n",
    "counts = []\n",
    "for label in labels_unique:\n",
    "    count = np.sum(y == label)\n",
    "    counts.append(count)\n",
    "    print(\"Label: \", label, \"| count: \", count)\n",
    "\n",
    "print(\"total samples: \", sum(counts))"
   ]
  },
  {
   "cell_type": "code",
   "execution_count": 20,
   "id": "a469ad1d",
   "metadata": {},
   "outputs": [
    {
     "data": {
      "image/png": "[encoded data removed]",
      "text/plain": [
       "<Figure size 288x288 with 1 Axes>"
      ]
     },
     "metadata": {
      "needs_background": "light"
     },
     "output_type": "display_data"
    }
   ],
   "source": [
    "# plot an image\n",
    "def image_plotter(X, labels, ix):\n",
    "    plt.figure(figsize = (4, 4))\n",
    "    plt.imshow(X[ix].reshape(28, 28), cmap = 'gray')\n",
    "    plt.title('Label: '+ str(labels[ix]))\n",
    "    \n",
    "image_plotter(X, y, 0)"
   ]
  },
  {
   "cell_type": "code",
   "execution_count": 21,
   "id": "aa798b63",
   "metadata": {},
   "outputs": [],
   "source": [
    "def extract_digits(X, y, classes, samples_per_class):\n",
    "    \"\"\"\n",
    "    Extract specified number of samples for each given digit from the MNIST dataset.\n",
    "\n",
    "    Parameters:\n",
    "    - X (np.array): Array of images from MNIST dataset.\n",
    "    - y (np.array): Corresponding labels for the MNIST dataset images.\n",
    "    - classes (list of int): List of digits to extract (e.g., [0, 1, 2]).\n",
    "    - samples_per_class (int): Number of samples to extract for each class.\n",
    "\n",
    "    Returns:\n",
    "    - tuple of np.array: Tuple containing the extracted features matrix and labels vector.\n",
    "    \"\"\"\n",
    "    X_extracted = []\n",
    "    y_extracted = []\n",
    "    \n",
    "    for digit in classes:\n",
    "        # Find the indices where the label equals the current digit\n",
    "        indices = np.where(y == digit)[0]\n",
    "        \n",
    "        # Check if there are enough samples available\n",
    "        if len(indices) < samples_per_class:\n",
    "            raise ValueError(f\"Not enough samples for digit {digit}. Only {len(indices)} available.\")\n",
    "        \n",
    "        # Extract the samples for this digit\n",
    "        selected_indices = indices[:samples_per_class]\n",
    "        X_extracted.append(X[selected_indices])\n",
    "        y_extracted.append(y[selected_indices])\n",
    "    \n",
    "    # Concatenate lists into arrays\n",
    "    X_extracted = np.concatenate(X_extracted, axis=0)\n",
    "    y_extracted = np.concatenate(y_extracted, axis=0)\n",
    "    \n",
    "    return X_extracted, y_extracted"
   ]
  },
  {
   "cell_type": "code",
   "execution_count": 22,
   "id": "56e5fff6",
   "metadata": {},
   "outputs": [
    {
     "name": "stdout",
     "output_type": "stream",
     "text": [
      "(300, 784) (300,)\n",
      "(100,)\n"
     ]
    }
   ],
   "source": [
    "classes = [1, 7, 3]  # Digits to extract\n",
    "samples_per_class = 100 # Number of samples per digit\n",
    "\n",
    "X_classes, y_classes = extract_digits(X, y, classes, samples_per_class)\n",
    "print(X_classes.shape, y_classes.shape)  # Check the shape of the extracted arrays\n",
    "print(y_classes[y_classes == 1].shape)"
   ]
  },
  {
   "cell_type": "code",
   "execution_count": 23,
   "id": "7ff82b6b",
   "metadata": {},
   "outputs": [
    {
     "name": "stdout",
     "output_type": "stream",
     "text": [
      "index:  285 Label:  3.0\n"
     ]
    },
    {
     "data": {
      "image/png": "[encoded data removed]",
      "text/plain": [
       "<Figure size 288x288 with 1 Axes>"
      ]
     },
     "metadata": {
      "needs_background": "light"
     },
     "output_type": "display_data"
    }
   ],
   "source": [
    "# plot a random image\n",
    "ix_l = np.random.randint(0, len(X_classes))\n",
    "print(\"index: \", ix_l, \"Label: \", y_classes[ix_l])\n",
    "image_plotter(X_classes, y_classes, ix_l)"
   ]
  },
  {
   "cell_type": "code",
   "execution_count": 24,
   "id": "c384dc08",
   "metadata": {},
   "outputs": [],
   "source": [
    "# function to plot scatter plot of all the samples in dataset with labels\n",
    "\n",
    "def scatter_plot(colors_labels, X, y, title = 'Plot of samples'):\n",
    "    \n",
    "    \n",
    "    fig, ax = plt.subplots()\n",
    "\n",
    "    # Set to keep track of which labels have been added to the legend\n",
    "    legend_labels = set()\n",
    "\n",
    "    for point, label in zip(X, y):\n",
    "        if label not in legend_labels:\n",
    "            ax.scatter(point[0], point[1], c=colors[label], label=label)\n",
    "            legend_labels.add(label)  # Mark this label as added\n",
    "        else:\n",
    "            ax.scatter(point[0], point[1], c=colors[label])\n",
    "\n",
    "    # Add a legend, labels, and title\n",
    "    ax.legend(title='Label')\n",
    "    plt.xlabel('Principal component 1')\n",
    "    plt.ylabel('Principal component 2')\n",
    "    plt.title(title)\n",
    "    plt.show()"
   ]
  },
  {
   "cell_type": "code",
   "execution_count": 25,
   "id": "85b6fa21",
   "metadata": {},
   "outputs": [
    {
     "name": "stdout",
     "output_type": "stream",
     "text": [
      "(201, 784) (99, 784)\n"
     ]
    }
   ],
   "source": [
    "# create train and test datasets\n",
    "\n",
    "from sklearn.model_selection import train_test_split\n",
    "\n",
    "X_train, X_test, y_train, y_test = train_test_split(X_classes, y_classes, test_size=0.33, random_state=42)\n",
    "\n",
    "print(X_train.shape, X_test.shape)"
   ]
  },
  {
   "cell_type": "markdown",
   "id": "0963e9aa",
   "metadata": {},
   "source": [
    "## k-nearest neighbours classification (supervised learning)\n",
    "\n",
    "The k-nearest neighbors (k-NN) classification algorithm is a type of instance-based learning, where the function is only approximated locally and all computation is deferred until classification.\n",
    "\n",
    "Given a new data point $x$, the algorithm finds the $k$ training examples that are closest to it in terms of distance, and then predicts the output based on the outputs of these $k$ neighbors. Let $N_k(x)$ be the set of $k$ nearest neighbors of $x$, and let $y_i$ be the output of the $i$-th nearest neighbor. The predicted output $\\hat{y}$ is given by:\n",
    "\n",
    "$$\n",
    "\\hat{y} = \\text{mode}\\{y_i : x_i \\in N_k(x)\\}\n",
    "$$\n",
    "\n",
    "where $\\text{mode}\\{.\\}$ is the mode function that returns the most common value among its arguments.\n",
    "\n",
    "The distance between two data points can be measured using various distance metrics, such as Euclidean distance, Manhattan distance, or Minkowski distance. The choice of distance metric depends on the problem at hand.\n",
    "\n",
    "In summary, k-nearest neighbors classification works by finding the $k$ nearest neighbors of a new data point and predicting the output based on the most common output among these neighbors.\n",
    "\n",
    "\n",
    "Some definitions:\n",
    "\n",
    "1. *Instance based learning*: it makes predictions based on the specific instances of the training data, rather than constructing a general model that captures the underlying relationship between the input and output variables.\n",
    "\n",
    "2. *Function is only approximated locally*: the prediction for a new data point is based on the outputs of its k nearest neighbors in the training data. This is in contrast to other machine learning algorithms, such as linear regression or decision trees, where a global model is constructed to approximate the function over the entire input space.\n",
    "\n",
    "### Illustration\n",
    "\n",
    "![KNN_Illustration](KNN_Illustration.png)\n",
    "\n",
    "\n",
    "### Algorithm:\n",
    "\n",
    "1) Select the number of k neighbors.\n",
    "\n",
    "2) Calculate Euclidean distance of each sample w.r.t all other samples of the dataset.\n",
    "\n",
    "3) For each sample, sort the distances in ascending order, and select the k nearest neighbors. \n",
    "\n",
    "4) Find the most frequent label amongst the k nearest neighbors to each sample. Assign that as the label of that sample. \n"
   ]
  },
  {
   "cell_type": "code",
   "execution_count": 26,
   "id": "3b1bc4a2",
   "metadata": {},
   "outputs": [],
   "source": [
    "from sklearn.utils.validation import check_is_fitted\n",
    "from sklearn.base import BaseEstimator\n",
    "from scipy.stats import mode\n",
    "\n",
    "\n",
    "def most_common(lst):\n",
    "    \"\"\"\n",
    "    Find the mode of the labels.\n",
    "    Args:\n",
    "    - lst: list of labels.\n",
    "    \n",
    "    Returns:\n",
    "    - The most frequent label.\n",
    "    \"\"\"\n",
    "    #return #max(set(lst), key=lst.count)\n",
    "    return mode(lst).mode[0]\n",
    "\n",
    "def euclidean(point, data):\n",
    "    \"\"\"\n",
    "    Compute the Euclidean distance between a point and all points in a dataset.\n",
    "    Args:\n",
    "    - point: A numpy array representing the test sample.\n",
    "    - data: A numpy array representing the training samples.\n",
    "    \n",
    "    Returns:\n",
    "    - distances: Numpy array of distances.\n",
    "    \"\"\"\n",
    "    #TASK: Compute the euclidean distance between a point and all points of the dataset\n",
    "    distances = None\n",
    "    \n",
    "    \n",
    "    return distances\n",
    "\n",
    "class My_KNeighborsClassifier(BaseEstimator):\n",
    "    def __init__(self, k=5, dist_metric=euclidean):\n",
    "        \"\"\"\n",
    "        Initialize the KNeighborsClassifier.\n",
    "        Args:\n",
    "        - k: Number of neighbors to consider.\n",
    "        - dist_metric: Function to compute the distance.\n",
    "        \"\"\"\n",
    "        self.k = k\n",
    "        self.dist_metric = dist_metric\n",
    "        self.is_fitted_ = False  # Attribute to track if the estimator is fitted\n",
    "\n",
    "    def fit(self, X_train, y_train):\n",
    "        \"\"\"\n",
    "        Fit the KNeighbors classifier with the training data.\n",
    "        Args:\n",
    "        - X_train: Training data features.\n",
    "        - y_train: Training data labels.\n",
    "        \"\"\"\n",
    "        self.X_train = X_train\n",
    "        self.y_train = y_train\n",
    "        self.is_fitted_ = True  # Indicate that fitting is complete\n",
    "\n",
    "    def predict(self, X_test):\n",
    "        \"\"\"\n",
    "        Predict the class labels for the test set.\n",
    "        Args:\n",
    "        - X_test: Test data features.\n",
    "        \n",
    "        Returns:\n",
    "        - predictions: Numpy array of predicted labels.\n",
    "        \"\"\"\n",
    "        check_is_fitted(self, 'is_fitted_')\n",
    "        \n",
    "        predictions = []\n",
    "        for x in X_test:\n",
    "            # TASK: Compute distances from x to all training samples\n",
    "            distances = None  # Replace None with your code using self.dist_metric\n",
    "\n",
    "            # TASK: Sort the training labels by distance and select the k nearest\n",
    "            k_nearest_labels = None  # Replace None with your code to sort and select k nearest\n",
    "\n",
    "            # TASK: Find the most common label among the k nearest labels\n",
    "            predicted_label = None  # Replace None with your code using most_common\n",
    "\n",
    "            predictions.append(predicted_label)\n",
    "        return np.array(predictions)\n",
    "\n",
    "    def evaluate(self, X_test, y_test):\n",
    "        \"\"\"\n",
    "        Evaluate the accuracy of the classifier.\n",
    "        Args:\n",
    "        - X_test: Test data features.\n",
    "        - y_test: Test data labels.\n",
    "        \n",
    "        Returns:\n",
    "        - accuracy: The accuracy of the classifier on the test data.\n",
    "        \"\"\"\n",
    "        y_pred = self.predict(X_test)\n",
    "        accuracy = None  # TASK: Compute the accuracy of the predictions\n",
    "        return accuracy\n",
    "\n",
    "\n"
   ]
  },
  {
   "cell_type": "code",
   "execution_count": 27,
   "id": "e5aead1e",
   "metadata": {},
   "outputs": [],
   "source": [
    "# Requires MyPCA class implementation\n",
    "\n",
    "# Preprocess data\n",
    "mypca = MyPCA(2)\n",
    "mypca.fit(X_train)\n",
    "X_train_reduced = mypca.transform(X_train)\n",
    "X_test_reduced = mypca.transform(X_test)\n",
    "\n"
   ]
  },
  {
   "cell_type": "code",
   "execution_count": 28,
   "id": "a00f3a2a",
   "metadata": {},
   "outputs": [
    {
     "ename": "AttributeError",
     "evalue": "'NoneType' object has no attribute 'round'",
     "output_type": "error",
     "traceback": [
      "\u001b[1;31m---------------------------------------------------------------------------\u001b[0m",
      "\u001b[1;31mAttributeError\u001b[0m                            Traceback (most recent call last)",
      "\u001b[1;32m<ipython-input-28-13f0563c0e9e>\u001b[0m in \u001b[0;36m<module>\u001b[1;34m\u001b[0m\n\u001b[0;32m      7\u001b[0m \u001b[0my_test_pred_my_knn\u001b[0m \u001b[1;33m=\u001b[0m \u001b[0mmy_knn\u001b[0m\u001b[1;33m.\u001b[0m\u001b[0mpredict\u001b[0m\u001b[1;33m(\u001b[0m\u001b[0mX_test_reduced\u001b[0m\u001b[1;33m)\u001b[0m\u001b[1;33m\u001b[0m\u001b[1;33m\u001b[0m\u001b[0m\n\u001b[0;32m      8\u001b[0m \u001b[0mtest_accuracy_my_knn\u001b[0m \u001b[1;33m=\u001b[0m \u001b[0mmy_knn\u001b[0m\u001b[1;33m.\u001b[0m\u001b[0mevaluate\u001b[0m\u001b[1;33m(\u001b[0m\u001b[0mX_test_reduced\u001b[0m\u001b[1;33m,\u001b[0m \u001b[0my_test\u001b[0m\u001b[1;33m)\u001b[0m\u001b[1;33m\u001b[0m\u001b[1;33m\u001b[0m\u001b[0m\n\u001b[1;32m----> 9\u001b[1;33m \u001b[0mprint\u001b[0m\u001b[1;33m(\u001b[0m\u001b[1;34m\"Test accuracy my knn: \"\u001b[0m\u001b[1;33m,\u001b[0m \u001b[0mtest_accuracy_my_knn\u001b[0m\u001b[1;33m.\u001b[0m\u001b[0mround\u001b[0m\u001b[1;33m(\u001b[0m\u001b[1;36m4\u001b[0m\u001b[1;33m)\u001b[0m\u001b[1;33m)\u001b[0m\u001b[1;33m\u001b[0m\u001b[1;33m\u001b[0m\u001b[0m\n\u001b[0m",
      "\u001b[1;31mAttributeError\u001b[0m: 'NoneType' object has no attribute 'round'"
     ]
    }
   ],
   "source": [
    "# WILL NOT RUN UNTIL THE CODE BLOCK ABOVE IS COMPLETED\n",
    "\n",
    "# Use the KNeighborsClassifier class \n",
    "\n",
    "my_knn = My_KNeighborsClassifier(k=5)\n",
    "my_knn.fit(X_train_reduced, y_train)\n",
    "y_test_pred_my_knn = my_knn.predict(X_test_reduced)\n",
    "test_accuracy_my_knn = my_knn.evaluate(X_test_reduced, y_test)\n",
    "print(\"Test accuracy my knn: \", test_accuracy_my_knn.round(4))\n"
   ]
  },
  {
   "cell_type": "markdown",
   "id": "4d4592a3",
   "metadata": {},
   "source": [
    "### K-Nearest Neighbours with Scikit Learn\n",
    "\n",
    "To know more about the KNeighborsClassifier from sklearn, refer to the documentation link below. They also have a number of examples which explain different concepts. \n",
    "\n",
    "https://scikit-learn.org/stable/modules/generated/sklearn.neighbors.KNeighborsClassifier.html"
   ]
  },
  {
   "cell_type": "code",
   "execution_count": null,
   "id": "6b6438b2",
   "metadata": {},
   "outputs": [],
   "source": [
    "from sklearn.neighbors import KNeighborsClassifier as sk_KNeighborsClassifier\n",
    "\n",
    "sk_knn = sk_KNeighborsClassifier(n_neighbors = 5)"
   ]
  },
  {
   "cell_type": "code",
   "execution_count": null,
   "id": "7e1fdf65",
   "metadata": {},
   "outputs": [],
   "source": [
    "sk_knn.fit(X_train_reduced, y_train)"
   ]
  },
  {
   "cell_type": "code",
   "execution_count": null,
   "id": "50d20608",
   "metadata": {},
   "outputs": [],
   "source": [
    "y_test_pred_sk_knn = sk_knn.predict(X_test_reduced)\n",
    "sk_knn_accuracy = np.mean(y_test_pred_sk_knn == y_test)\n",
    "print(\"Test accuracy sk learn KNN: \", sk_knn_accuracy.round(4))"
   ]
  },
  {
   "cell_type": "code",
   "execution_count": null,
   "id": "b127b907",
   "metadata": {},
   "outputs": [],
   "source": [
    "colors = {7: 'blue', 1: 'green', 3: 'orange', 5: 'yellow'}\n",
    "scatter_plot(colors, X_test_reduced, y_test, title = 'Plot of true labels of test samples')"
   ]
  },
  {
   "cell_type": "code",
   "execution_count": null,
   "id": "0cd741e0",
   "metadata": {},
   "outputs": [],
   "source": [
    "from sklearn.inspection import DecisionBoundaryDisplay\n",
    "\n",
    "def plot_decision_boundary(estimator, X, y, title = 'Decision boundary', key = None):\n",
    "    \n",
    "     # Plotting the decision boundary\n",
    "    disp = DecisionBoundaryDisplay.from_estimator(\n",
    "           estimator, X, response_method = 'predict',\n",
    "           xlabel = 'PC 1', ylabel = 'PC 2', alpha = 0.5)\n",
    "\n",
    "    # Prepare to track labels and assign colors\n",
    "    unique_labels = np.unique(y)\n",
    "    colors = plt.cm.viridis(np.linspace(0, 1, len(unique_labels)))  # Use a colormap\n",
    "    label_color_dict = dict(zip(unique_labels, colors))\n",
    "\n",
    "    # Set to keep track of which labels have been added to the legend\n",
    "    legend_labels = set()\n",
    "\n",
    "    # Plot each point, ensuring each label is added to the legend only once\n",
    "    for point, label in zip(X, y):\n",
    "       # if key is not None:\n",
    "          #  label = key[label]\n",
    "        if label not in legend_labels:\n",
    "            disp.ax_.scatter(point[0], point[1], color=label_color_dict[label], label=label, edgecolor='k')\n",
    "            legend_labels.add(label)  # Mark this label as added\n",
    "        else:\n",
    "            disp.ax_.scatter(point[0], point[1], color=label_color_dict[label], edgecolor='k')\n",
    "\n",
    "    # Add a legend, title and show plot\n",
    "    plt.legend(title='Label')\n",
    "    if key is not None:\n",
    "        plt.title(title + '\\n' + str(key))\n",
    "    else:\n",
    "        plt.title(title)\n",
    "    plt.show()   "
   ]
  },
  {
   "cell_type": "code",
   "execution_count": null,
   "id": "3060906a",
   "metadata": {},
   "outputs": [],
   "source": [
    "plot_decision_boundary(sk_knn, X_test_reduced, y_test, title = 'Decision boundary of sklearn KNN on test data', key = None)\n"
   ]
  },
  {
   "cell_type": "code",
   "execution_count": null,
   "id": "78acd18a",
   "metadata": {},
   "outputs": [],
   "source": [
    "# WILL NOT RUN UNTIL KNeighborsClassifier class is complete\n",
    "\n",
    "plot_decision_boundary(my_knn, X_test_reduced, y_test, title = 'Decision boundary of my KNN on test data', key = None)"
   ]
  },
  {
   "cell_type": "code",
   "execution_count": null,
   "id": "1934cdd6",
   "metadata": {},
   "outputs": [],
   "source": []
  },
  {
   "cell_type": "code",
   "execution_count": null,
   "id": "119c363e",
   "metadata": {},
   "outputs": [],
   "source": []
  },
  {
   "cell_type": "markdown",
   "id": "983f8469",
   "metadata": {},
   "source": [
    "## K-means clustering\n",
    "\n",
    "### Unsupervised learning\n",
    "\n",
    "Unsupervised learning, also known as unsupervised machine learning, uses machine learning algorithms to analyze and cluster unlabeled datasets. These algorithms discover hidden patterns or data groupings without the need for human intervention. Its ability to discover similarities and differences in information make it the ideal solution for exploratory data analysis, cross-selling strategies, customer segmentation, and image recognition. \n",
    "\n",
    "[source](https://www.ibm.com/topics/unsupervised-learning)\n",
    "\n",
    "There is no specific $y$ variable for labels, hence there is no clear ***correct*** answer.\n",
    "\n",
    "We have to now perform a similar classification of the samples corresponding to the selected three digits from the MNIST dataset, but without providing the labels to the samples in model fitting."
   ]
  },
  {
   "cell_type": "markdown",
   "id": "184fac7b",
   "metadata": {},
   "source": [
    "### How would you go about solving this problem?\n",
    "\n",
    "The k-means clustering algorithm works by iteratively performing 2 steps:\n",
    "\n",
    "Step 1. assigning each data point to one of k clusters based on the distance between the data point and the cluster’s centroid\n",
    "\n",
    "Step 2. updating the centroid of each cluster based on the mean of the data points assigned to it.\n",
    "\n",
    "#### Defining it more clearly\n",
    "\n",
    "Let $x_1, x_2, ..., x_n$ be the $n$ data points, and let $c_1, c_2, ..., c_k$ be the centroids of the $k$ clusters. The objective of k-means clustering is to minimize the within-cluster sum of squares (WCSS), which is given by:\n",
    "\n",
    "$$\n",
    "\\sum_{i=1}^k \\sum_{x \\in c_i} ||x - \\mu_i||^2\n",
    "$$\n",
    "\n",
    "where $\\mu_i$ is the mean of the data points in cluster $c_i$.\n",
    "\n",
    "The k-means clustering algorithm works by iteratively assigning each data point to the cluster with the nearest centroid and then updating the centroid of each cluster based on the mean of the data points assigned to it. The algorithm terminates when the assignments no longer change.\n",
    "\n",
    "The assignment step can be expressed mathematically as:\n",
    "\n",
    "$$\n",
    "c_i = \\{x : ||x - \\mu_i|| \\leq ||x - \\mu_j|| \\text{ for all } 1 \\leq j \\leq k\\}\n",
    "$$\n",
    "\n",
    "The update step can be expressed mathematically as:\n",
    "\n",
    "$$\n",
    "\\mu_i = \\frac{1}{|c_i|} \\sum_{x \\in c_i} x\n",
    "$$\n",
    "\n",
    "#### Algorithm\n",
    "\n",
    "1) Choose the number of clusters k\n",
    "\n",
    "2) Initialize the centroids for each cluster\n",
    "\n",
    "3) Assign each point to the closest cluster centroid\n",
    "\n",
    "4) Compute the two centroids of newly formed clusters\n",
    "\n",
    "5) Repeat the previous two steps, until there is no change in the centroid positions\n",
    "\n",
    "### Illustration\n",
    "\n",
    "![KMeans_GIF](K-means_convergence.gif)\n",
    "\n",
    "\n",
    "\n",
    "##### Note: KMeans clustering predicts the clusters to which the samples belong. Hence, their outputs are not the labels itself and need to be mapped to the corresponding labels."
   ]
  },
  {
   "cell_type": "code",
   "execution_count": null,
   "id": "f52432d4",
   "metadata": {},
   "outputs": [],
   "source": [
    "class My_KMeans:\n",
    "    def __init__(self, n_clusters, centroids=None, max_iter=300, tol=1e-6):\n",
    "        \"\"\"\n",
    "        Initialize the KMeans clustering algorithm.\n",
    "        Args:\n",
    "        - n_clusters: The number of clusters to form.\n",
    "        - centroids: Initial position of centroids, if provided.\n",
    "        - max_iter: Maximum number of iterations of the KMeans algorithm for a single run.\n",
    "        - tol: Tolerance to declare convergence.\n",
    "        \"\"\"\n",
    "        self.n_clusters = n_clusters\n",
    "        self.max_iter = max_iter\n",
    "        self.tol = tol\n",
    "        self.centroids = centroids\n",
    "\n",
    "    def fit(self, X):\n",
    "        \"\"\"\n",
    "        Compute KMeans clustering.\n",
    "        Args:\n",
    "        - X: ndarray of shape (n_samples, n_features)\n",
    "        \"\"\"\n",
    "        n_samples, n_features = X.shape\n",
    "        \n",
    "        # Initialize centroids for clusters\n",
    "        if self.centroids is None:\n",
    "            # TASK: Randomly initialize the centroids as k random samples from X\n",
    "            random_indices = None  # Replace None with your code\n",
    "            self.centroids = None  # Replace None with your code to select centroids using random_indices\n",
    "\n",
    "        for _ in range(self.max_iter):\n",
    "            # Assign clusters based on the closest centroid\n",
    "            distances = self._compute_distances(X)\n",
    "            self.labels_ = None  # Replace None with your code to assign each sample to the nearest centroid\n",
    "\n",
    "            # Compute new centroids\n",
    "            new_centroids = None  # Replace None with your code to compute new centroids as the mean of points in each cluster\n",
    "\n",
    "            # Check for convergence\n",
    "            if None:  # Replace None with your convergence checking code\n",
    "                break\n",
    "            \n",
    "            # Update centroids\n",
    "            self.centroids = new_centroids\n",
    "\n",
    "    def predict(self, X):\n",
    "        \"\"\"\n",
    "        Predict the closest cluster each sample in X belongs to.\n",
    "        Args:\n",
    "        - X: ndarray of shape (n_samples, n_features)\n",
    "        \n",
    "        Returns:\n",
    "        - labels: Index of the cluster each sample belongs to.\n",
    "        \"\"\"\n",
    "        distances = self._compute_distances(X)\n",
    "        return None  # Replace None with your code to return cluster indices based on nearest centroids\n",
    "\n",
    "    def _compute_distances(self, X):\n",
    "        \"\"\"\n",
    "        Compute the distance between each point in X and the centroids.\n",
    "        Args:\n",
    "        - X: ndarray of shape (n_samples, n_features)\n",
    "        \n",
    "        Returns:\n",
    "        - distances: Array of distances of each sample to each centroid.\n",
    "        \"\"\"\n",
    "        return None  # Replace None with your code to calculate distances from each sample to each centroid\n"
   ]
  },
  {
   "cell_type": "code",
   "execution_count": null,
   "id": "3d586125",
   "metadata": {},
   "outputs": [],
   "source": [
    "def map_kmeans_labels_to_original(kmeans_labels, original_labels):\n",
    "    \"\"\"\n",
    "    Map KMeans cluster labels to the most common original label in each cluster.\n",
    "\n",
    "    Parameters:\n",
    "    - kmeans_labels (np.array): Array of labels generated by KMeans.\n",
    "    - original_labels (np.array): Array of original labels for the data.\n",
    "\n",
    "    Returns:\n",
    "    - np.array: Array of original labels mapped from KMeans labels.\n",
    "    \"\"\"\n",
    "    # Initialize an empty dictionary to store the mapping from KMeans labels to original labels\n",
    "    label_mapping = {}\n",
    "\n",
    "    # Identify the most common original label in each cluster\n",
    "    for cluster_label in np.unique(kmeans_labels):\n",
    "        # Find indices where the cluster label matches\n",
    "        indices = np.where(kmeans_labels == cluster_label)\n",
    "        # Extract original labels corresponding to these indices\n",
    "        original_labels_in_cluster = original_labels[indices]\n",
    "        # Find the most frequent label\n",
    "        values, counts = np.unique(original_labels_in_cluster, return_counts=True)\n",
    "        most_common_label = values[np.argmax(counts)]\n",
    "        # Map the cluster label to the most common original label\n",
    "        label_mapping[cluster_label] = most_common_label\n",
    "    \n",
    "    \n",
    "    # Apply the mapping to the KMeans labels to create a mapped label array\n",
    "    mapped_labels = np.array([label_mapping[label] for label in kmeans_labels])\n",
    "\n",
    "    return mapped_labels, label_mapping"
   ]
  },
  {
   "cell_type": "code",
   "execution_count": null,
   "id": "3985b5f0",
   "metadata": {},
   "outputs": [],
   "source": [
    "# WILL NOT RUN UNTIL KMeans CLASS IS COMPLETED\n",
    "\n",
    "my_kmeans = My_KMeans(n_clusters = 3)\n",
    "my_kmeans.fit(X_train_reduced)\n",
    "\n",
    "clusters_test_my = my_kmeans.predict(X_test_reduced)\n",
    "y_test_pred_my_kmeans, _ = map_kmeans_labels_to_original(clusters_test_my, y_test)\n",
    "\n",
    "test_accuracy_my_kmeans = np.mean(y_test_pred_my_kmeans == y_test)\n",
    "print(\"Test accuracy with my KMeans: \", test_accuracy_my_kmeans.round(4))"
   ]
  },
  {
   "cell_type": "code",
   "execution_count": null,
   "id": "b12286d4",
   "metadata": {
    "scrolled": true
   },
   "outputs": [],
   "source": [
    "# WILL NOT RUN UNTIL KMeans CLASS IS COMPLETED\n",
    "plot_decision_boundary(my_kmeans, X_test_reduced, y_test_clusters, title = 'Decision boundary for my implemented of KMeans clustering', key = key)\n"
   ]
  },
  {
   "cell_type": "markdown",
   "id": "160dbcec",
   "metadata": {},
   "source": [
    "## K-Means Clustering with Scikit Learn\n",
    "\n",
    "Lets see the sklearn approach of using K-Means"
   ]
  },
  {
   "cell_type": "code",
   "execution_count": null,
   "id": "7a826b75",
   "metadata": {},
   "outputs": [],
   "source": [
    "# we shall use the data with reduced dimensionality to two principal components\n",
    "\n",
    "from sklearn.cluster import KMeans as sk_KMeans\n",
    "\n",
    "sk_kmeans = sk_KMeans(n_clusters = 3, random_state = 0, n_init = \"auto\", max_iter=300, tol=1e-6)\n",
    "sk_kmeans.fit(X_train_reduced)"
   ]
  },
  {
   "cell_type": "code",
   "execution_count": null,
   "id": "ae06bbc1",
   "metadata": {},
   "outputs": [],
   "source": [
    "clusters_test_sk = sk_kmeans.predict(X_test_reduced)\n",
    "y_test_pred_sk_kmeans, key = map_kmeans_labels_to_original(clusters_test_sk, y_test)\n",
    "\n",
    "test_accuracy_sk_kmeans = np.mean(y_test_pred_sk_kmeans == y_test)\n",
    "print(\"Test accuracy with sklearn KMeans: \", test_accuracy_sk_kmeans.round(4))"
   ]
  },
  {
   "cell_type": "code",
   "execution_count": null,
   "id": "c7553181",
   "metadata": {},
   "outputs": [],
   "source": [
    "# WILL NOT RUN UNTIL KMeans CLASS IS COMPLETED\n",
    "\n",
    "print(\"No of misclassficiations of my KMeans: \", np.sum(y_test_pred_my_kmeans != y_test))"
   ]
  },
  {
   "cell_type": "code",
   "execution_count": null,
   "id": "c71f07d8",
   "metadata": {
    "scrolled": true
   },
   "outputs": [],
   "source": [
    "print(\"No of misclassficiations of sklearn KMeans: \", np.sum(y_test_pred_sk_kmeans != y_test))\n"
   ]
  },
  {
   "cell_type": "code",
   "execution_count": null,
   "id": "71ebce81",
   "metadata": {},
   "outputs": [],
   "source": [
    "# This step is necessary for plotting the decision boundary of KMeans clustering correctly\n",
    "# Convert test labels to cluster indices \n",
    "# Here we convert the labels of y_test dataset into corresponding cluster indices\n",
    "\n",
    "_, key = map_kmeans_labels_to_original(clusters_test_sk, y_test)\n",
    "print(key) # Key is a dictionary whose keys are the cluster indices and the values are the corresponding labels from y_test\n",
    "\n",
    "y_test_clusters = y_test.copy()\n",
    "\n",
    "for k, v in key.items():\n",
    "    cluster = k\n",
    "    label = v\n",
    "    y_test_clusters[y_test == label] = cluster\n",
    "    \n",
    "#print(y_test_clusters)"
   ]
  },
  {
   "cell_type": "code",
   "execution_count": null,
   "id": "d58576ff",
   "metadata": {},
   "outputs": [],
   "source": [
    "# WILL NOT RUN UNTIL KMeans CLASS IS COMPLETED\n",
    "\n",
    "plot_decision_boundary(my_kmeans, X_test_reduced, y_test_clusters, title = 'Decision boundary for my implemented of KMeans clustering', key = key)\n"
   ]
  },
  {
   "cell_type": "code",
   "execution_count": null,
   "id": "9da91781",
   "metadata": {},
   "outputs": [],
   "source": [
    "plot_decision_boundary(sk_kmeans, X_test_reduced, y_test_clusters, title = 'Decision boundary for my sklearn KMeans clustering', key = key)\n"
   ]
  },
  {
   "cell_type": "markdown",
   "id": "38c11308",
   "metadata": {},
   "source": [
    "### REMARK: KMeans clustering leads to formation of Voronoi cells around the respective cluster centroids. "
   ]
  },
  {
   "cell_type": "markdown",
   "id": "d037e615",
   "metadata": {},
   "source": [
    "## Illustration: Impact of scaling data \n",
    "\n",
    "For distance based methods such as K-Nearest Neighbors and KMeans Clustering, scaling the data before applying the method is necessary. The code blocks below show the effect of scaling the data. \n",
    "\n",
    "### Mathematical Explanation\n",
    "\n",
    "Consider two features in a dataset, $A$ and $B$. Suppose $A$ ranges from 0 to 1000, and $B$ ranges from 0 to 1. The Euclidean distance $d$ between two points $x = (x_A, x_B)$ and $y = (y_A, y_B)$ is calculated as:\n",
    "\n",
    "$$\n",
    "dist(x, y) = \\sqrt{(x_A - y_A)^2 + (x_B - y_B)^2}\n",
    "$$\n",
    "\n",
    "Here, the larger scale of $A$ will dominate the distance calculation, making changes in $B$ almost irrelevant, even if they are crucial for clustering or classification. This demonstrates the need for feature scaling.\n",
    "\n",
    "The image below shows the effect on K-Nearest Neighbors method if scaling is not done. \n",
    "\n",
    "![scaling_impact](scaling_importance.png)\n",
    "\n",
    "The detailed code for this example can be found here: https://scikit-learn.org/stable/auto_examples/preprocessing/plot_scaling_importance.html#sphx-glr-auto-examples-preprocessing-plot-scaling-importance-py"
   ]
  },
  {
   "cell_type": "markdown",
   "id": "f21a9c83",
   "metadata": {},
   "source": [
    "## Hyperparameters\n",
    "\n",
    "### How to decide the hyperparameters here ? :\n",
    "\n",
    "1) Number of neighbours in knn.\n",
    "\n",
    "2) Number of clusters in kmeans.\n",
    "\n",
    "3) Appropriate number of principal components.\n",
    "\n",
    "Let us consider the case of KNN, where we have to decide the best set of parameter pairs of number of principal components and number of nearest neighbors. \n",
    "\n",
    "Approach: \n",
    "\n",
    "### Cross-Validation\n",
    "\n",
    "![kfold_validation.png](kfold_validation.png)\n",
    "\n",
    "\n",
    "### Grid Search\n",
    "\n",
    "Grid search exhaustively generates all the possible (hyper-)parameter combinations from the given set of parameter values. Then it trains the model with all these combinaitions of hyperparameter, computes the performance metric and returns the parameters that lead to the best performance. "
   ]
  },
  {
   "cell_type": "code",
   "execution_count": null,
   "id": "92aec089",
   "metadata": {},
   "outputs": [],
   "source": [
    "# Example parameter grid\n",
    "param_grid = {\n",
    "    'n_neighbors': [3, 5, 7],\n",
    "    'n_components': [10, 20, 30, 40, 50]\n",
    "}\n",
    "\n",
    "param_combos = []\n",
    "    \n",
    "for n_neighbor in param_grid['n_neighbors']:\n",
    "    for n_component in param_grid['n_components']:\n",
    "        \n",
    "        param_combo = {\n",
    "            'n_neighbors': n_neighbor,\n",
    "            'n_components': n_component\n",
    "        }\n",
    "        param_combos.append(param_combo)\n",
    "        \n",
    "print(param_combos, len(param_combos))"
   ]
  },
  {
   "cell_type": "code",
   "execution_count": 13,
   "id": "692ccacd",
   "metadata": {},
   "outputs": [],
   "source": [
    "def k_fold_split(X, y, k=5):\n",
    "    \"\"\"Splits data into k folds for cross-validation\"\"\"\n",
    "    fold_size = len(X) // k\n",
    "    indices = np.arange(len(X))\n",
    "    #np.random.shuffle(indices)\n",
    "    \n",
    "    folds = []\n",
    "    for i in range(k):\n",
    "        val_indices = indices[i * fold_size: (i + 1) * fold_size]\n",
    "        train_indices = np.setdiff1d(indices, val_indices)\n",
    "        folds.append((train_indices, val_indices))\n",
    "    \n",
    "    return folds\n",
    "\n",
    "\n",
    "from tqdm import tqdm\n",
    "\n",
    "def grid_search_cv(X, y, param_grid, k_folds = 5, model = 'knnWith ', centroids = None):\n",
    "    \n",
    "    best_score = -np.inf\n",
    "    best_params = None\n",
    "    \n",
    "    param_combinations = []\n",
    "    \n",
    "    if model == 'knn':\n",
    "    \n",
    "        for n_neighbor in param_grid['n_neighbors']:\n",
    "            for n_component in param_grid['n_components']:\n",
    "        \n",
    "                param_combo = {\n",
    "                    'n_neighbors': n_neighbor,\n",
    "                    'n_components': n_component\n",
    "                }\n",
    "                param_combinations.append(param_combo)\n",
    "                \n",
    "                \n",
    "    elif model == 'kmeans':\n",
    "        \n",
    "        for n_clusters in param_grid['n_clusters']:\n",
    "            for n_component in param_grid['n_components']:\n",
    "                \n",
    "                param_combo = {\n",
    "                    'n_clusters': n_clusters,\n",
    "                    'n_components': n_component\n",
    "                }\n",
    "                param_combinations.append(param_combo)                \n",
    "    \n",
    "    folds = k_fold_split(X, y, k = k_folds)\n",
    "    \n",
    "    with tqdm(total=len(param_combinations) * k_folds, desc='Grid Search') as pbar:\n",
    "        for params in param_combinations: \n",
    "            cv_scores = []\n",
    "        \n",
    "            for train_indices, val_indices in folds: \n",
    "                X_train, X_val = X[train_indices], X[val_indices]\n",
    "                y_train, y_val = y[train_indices], y[val_indices]\n",
    "            \n",
    "                #apply PCA\n",
    "                mypca = MyPCA(params['n_components'])\n",
    "                mypca.fit(X_train)\n",
    "                X_train_pca = mypca.transform(X_train)\n",
    "                X_val_pca = mypca.transform(X_val)\n",
    "            \n",
    "                #train with KNN\n",
    "                if model == 'knn':\n",
    "                \n",
    "                    \n",
    "                    # uncomment and replace after completing class implementation of KNN\n",
    "                    #knn = My_KNeighborsClassifier(k = params['n_neighbors'])\n",
    "        \n",
    "                    knn = sk_KNeighborsClassifier(n_neighbors = params['n_neighbors'])\n",
    "                    knn.fit(X_train_pca, y_train)\n",
    "            \n",
    "                    #validate model\n",
    "                    y_val_pred = knn.predict(X_val_pca)\n",
    "                    accuracy = np.mean(y_val_pred == y_val)\n",
    "                    cv_scores.append(accuracy)\n",
    "                \n",
    "                elif model == 'kmeans':\n",
    "                    \n",
    "                    # uncomment and replace after completing class implementation of KMeans Clustering\n",
    "                    #kmeans = My_KMeans(n_clusters = params['n_clusters'])\n",
    "                    \n",
    "                    kmeans = sk_KMeans(n_clusters = params['n_clusters'], random_state = 0, n_init = \"auto\", max_iter = 300, tol = 1e-6)\n",
    "                    kmeans.fit(X_train_pca)\n",
    "                    \n",
    "                    #validate model\n",
    "                    y_val_pred = kmeans.predict(X_val_pca)\n",
    "                    accuracy = np.mean(y_val_pred == y_val)\n",
    "                    cv_scores.append(accuracy)\n",
    "                \n",
    "                pbar.update(1)\n",
    "                \n",
    "            mean_cv_score = np.mean(cv_scores)\n",
    "        \n",
    "            if mean_cv_score > best_score:\n",
    "                best_score = mean_cv_score\n",
    "                best_params = params\n",
    "    \n",
    "    return best_params, best_score"
   ]
  },
  {
   "cell_type": "code",
   "execution_count": 30,
   "id": "6d14ed94",
   "metadata": {
    "scrolled": true
   },
   "outputs": [
    {
     "name": "stderr",
     "output_type": "stream",
     "text": [
      "Grid Search:   0%|                                                                              | 0/60 [00:00<?, ?it/s]\n"
     ]
    },
    {
     "ename": "NameError",
     "evalue": "name 'sk_KNeighborsClassifier' is not defined",
     "output_type": "error",
     "traceback": [
      "\u001b[1;31m---------------------------------------------------------------------------\u001b[0m",
      "\u001b[1;31mNameError\u001b[0m                                 Traceback (most recent call last)",
      "\u001b[1;32m<ipython-input-30-1cef9388f838>\u001b[0m in \u001b[0;36m<module>\u001b[1;34m\u001b[0m\n\u001b[0;32m      7\u001b[0m }\n\u001b[0;32m      8\u001b[0m \u001b[1;33m\u001b[0m\u001b[0m\n\u001b[1;32m----> 9\u001b[1;33m \u001b[0mbest_params\u001b[0m\u001b[1;33m,\u001b[0m \u001b[0mbest_score\u001b[0m \u001b[1;33m=\u001b[0m \u001b[0mgrid_search_cv\u001b[0m\u001b[1;33m(\u001b[0m\u001b[0mX_train\u001b[0m\u001b[1;33m,\u001b[0m \u001b[0my_train\u001b[0m\u001b[1;33m,\u001b[0m \u001b[0mparam_grid\u001b[0m\u001b[1;33m,\u001b[0m \u001b[0mk_folds\u001b[0m \u001b[1;33m=\u001b[0m \u001b[1;36m5\u001b[0m\u001b[1;33m,\u001b[0m \u001b[0mmodel\u001b[0m \u001b[1;33m=\u001b[0m \u001b[1;34m'knn'\u001b[0m\u001b[1;33m)\u001b[0m\u001b[1;33m\u001b[0m\u001b[1;33m\u001b[0m\u001b[0m\n\u001b[0m\u001b[0;32m     10\u001b[0m \u001b[1;33m\u001b[0m\u001b[0m\n\u001b[0;32m     11\u001b[0m \u001b[0mprint\u001b[0m\u001b[1;33m(\u001b[0m\u001b[1;34m\"Best Parameters: \"\u001b[0m\u001b[1;33m,\u001b[0m \u001b[0mbest_params\u001b[0m\u001b[1;33m)\u001b[0m\u001b[1;33m\u001b[0m\u001b[1;33m\u001b[0m\u001b[0m\n",
      "\u001b[1;32m<ipython-input-13-8409f926b522>\u001b[0m in \u001b[0;36mgrid_search_cv\u001b[1;34m(X, y, param_grid, k_folds, model, centroids)\u001b[0m\n\u001b[0;32m     69\u001b[0m                     \u001b[1;31m#knn = My_KNeighborsClassifier(k = params['n_neighbors'])\u001b[0m\u001b[1;33m\u001b[0m\u001b[1;33m\u001b[0m\u001b[1;33m\u001b[0m\u001b[0m\n\u001b[0;32m     70\u001b[0m \u001b[1;33m\u001b[0m\u001b[0m\n\u001b[1;32m---> 71\u001b[1;33m                     \u001b[0mknn\u001b[0m \u001b[1;33m=\u001b[0m \u001b[0msk_KNeighborsClassifier\u001b[0m\u001b[1;33m(\u001b[0m\u001b[0mn_neighbors\u001b[0m \u001b[1;33m=\u001b[0m \u001b[0mparams\u001b[0m\u001b[1;33m[\u001b[0m\u001b[1;34m'n_neighbors'\u001b[0m\u001b[1;33m]\u001b[0m\u001b[1;33m)\u001b[0m\u001b[1;33m\u001b[0m\u001b[1;33m\u001b[0m\u001b[0m\n\u001b[0m\u001b[0;32m     72\u001b[0m                     \u001b[0mknn\u001b[0m\u001b[1;33m.\u001b[0m\u001b[0mfit\u001b[0m\u001b[1;33m(\u001b[0m\u001b[0mX_train_pca\u001b[0m\u001b[1;33m,\u001b[0m \u001b[0my_train\u001b[0m\u001b[1;33m)\u001b[0m\u001b[1;33m\u001b[0m\u001b[1;33m\u001b[0m\u001b[0m\n\u001b[0;32m     73\u001b[0m \u001b[1;33m\u001b[0m\u001b[0m\n",
      "\u001b[1;31mNameError\u001b[0m: name 'sk_KNeighborsClassifier' is not defined"
     ]
    }
   ],
   "source": [
    "# KNN hyperparameters: number of principal components, number of nearest neighbours\n",
    "\n",
    "# Example parameter grid\n",
    "param_grid = {\n",
    "    'n_neighbors': [5, 7, 9, 11],\n",
    "    'n_components': [10, 20, 30]\n",
    "}\n",
    "\n",
    "best_params, best_score = grid_search_cv(X_train, y_train, param_grid, k_folds = 5, model = 'knn')\n",
    "\n",
    "print(\"Best Parameters: \", best_params)\n",
    "print(\"Best Cross-Validation Accuracy: {:.4f}\".format(best_score))"
   ]
  },
  {
   "cell_type": "code",
   "execution_count": 35,
   "id": "dee5e732",
   "metadata": {},
   "outputs": [
    {
     "name": "stdout",
     "output_type": "stream",
     "text": [
      "Best params accuracy for my KNN implementation:  0.9596\n"
     ]
    }
   ],
   "source": [
    "# WILL NOT WORK UNTIL My_KNeighborsClassifier CLASS IS COMPLETED\n",
    "\n",
    "my_pca_best = MyPCA(20)\n",
    "my_pca_best.fit(X_train)\n",
    "X_train_reduced = my_pca_best.transform(X_train)\n",
    "X_test_reduced = my_pca_best.transform(X_test)\n",
    "\n",
    "#my_knn_best = My_KNeighborsClassifier(k = 5)\n",
    "my_knn_best = sk_KNeighborsClassifier(n_neighbors = 5)\n",
    "my_knn_best.fit(X_train_reduced, y_train)\n",
    "\n",
    "y_test_knn_best_pred = my_knn_best.predict(X_test_reduced)\n",
    "best_knn_accuracy = np.mean(y_test_knn_best_pred == y_test)\n",
    "\n",
    "print(\"Best params accuracy for my KNN implementation: \", best_knn_accuracy.round(4))"
   ]
  },
  {
   "cell_type": "markdown",
   "id": "3a41bd31",
   "metadata": {},
   "source": [
    "### Tasks with sklearn: \n",
    "\n",
    "- Implement PCA using sklearn tools.\n",
    "\n",
    "- Implement KNeighborClassifier from sklearn tools.\n",
    "\n",
    "- Implement Grid Search and Cross-Validation using sklearn tools.\n",
    "\n",
    "- Use this for finding the best parameters for K-Nearest Neighbors, i.e. the number of principal components and the number of nearest neighbors. Use the following paramter ranges: \n",
    "    \n",
    "    ```Python\n",
    "    param_grid = {\n",
    "    'n_neighbors': range(1, 30),\n",
    "    'n_components': range(2, 50)\n",
    "     }\n",
    "    ```\n",
    "- How can you find the second best set of parameters?\n",
    "\n",
    "- In case of a large number of parameter combinations, is there an efficient aleternative to Grid Search in the sklearn tools? \n",
    "\n",
    "- Implement all the steps, i.e. PCA, KNeighborsClassifer, Grid Search with Cross Validation using a Pipeline. "
   ]
  },
  {
   "cell_type": "code",
   "execution_count": null,
   "id": "b94d7dc6",
   "metadata": {},
   "outputs": [],
   "source": []
  },
  {
   "cell_type": "code",
   "execution_count": null,
   "id": "53a8fe89",
   "metadata": {},
   "outputs": [],
   "source": []
  },
  {
   "cell_type": "code",
   "execution_count": null,
   "id": "002f8c55",
   "metadata": {},
   "outputs": [],
   "source": []
  },
  {
   "cell_type": "code",
   "execution_count": null,
   "id": "a26b42ae",
   "metadata": {},
   "outputs": [],
   "source": []
  }
 ],
 "metadata": {
  "kernelspec": {
   "display_name": "Python 3",
   "language": "python",
   "name": "python3"
  },
  "language_info": {
   "codemirror_mode": {
    "name": "ipython",
    "version": 3
   },
   "file_extension": ".py",
   "mimetype": "text/x-python",
   "name": "python",
   "nbconvert_exporter": "python",
   "pygments_lexer": "ipython3",
   "version": "3.8.8"
  }
 },
 "nbformat": 4,
 "nbformat_minor": 5
}
