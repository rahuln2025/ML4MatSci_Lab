{
 "cells": [
  {
   "cell_type": "markdown",
   "id": "8138420b",
   "metadata": {},
   "source": [
    "Source for KNN implementation: https://github.com/turnerluke/ML-algos/blob/main/knn/KNeighborsClassifier.py\n",
    "\n"
   ]
  },
  {
   "cell_type": "code",
   "execution_count": 1,
   "id": "b389a4aa",
   "metadata": {},
   "outputs": [],
   "source": [
    "import numpy as np\n",
    "import timeit\n",
    "import matplotlib as mpl\n",
    "mpl.use('Agg')\n",
    "import matplotlib.pyplot as plt\n",
    "plt.style.use('fivethirtyeight')\n",
    "from ipywidgets import interact\n",
    "import seaborn as sns\n",
    "import random\n",
    "from scipy import stats as st\n",
    "from scipy.spatial.distance import cdist\n",
    "import statistics as st\n",
    "\n",
    "%matplotlib inline"
   ]
  },
  {
   "cell_type": "code",
   "execution_count": 2,
   "id": "3caff3cd",
   "metadata": {},
   "outputs": [],
   "source": [
    "from MyPCA import *"
   ]
  },
  {
   "cell_type": "code",
   "execution_count": 5,
   "id": "ac7acbfd",
   "metadata": {},
   "outputs": [
    {
     "name": "stdout",
     "output_type": "stream",
     "text": [
      "<class 'pandas.core.frame.DataFrame'> (70000, 784)\n",
      "<class 'pandas.core.series.Series'> (70000,)\n",
      "<class 'numpy.ndarray'> (784,)\n",
      "<class 'str'> 5\n"
     ]
    }
   ],
   "source": [
    "# import MNIST dataset (might take a few seconds)\n",
    "\n",
    "from sklearn.datasets import fetch_openml\n",
    "images, labels = fetch_openml('mnist_784', version=1, return_X_y=True, parser = 'auto')\n",
    "\n",
    "# check the datatype and shape of the data\n",
    "print(type(images), images.shape)\n",
    "print(type(labels), labels.shape)\n",
    "\n",
    "# if not in NumPy, convert the data to NumPy array\n",
    "\n",
    "images = np.array(images)\n",
    "labels = np.array(labels)\n",
    "\n",
    "# check the shape of an individual image sample\n",
    "print(type(images[0]), images[0].shape)\n",
    "print(type(labels[0]), labels[0])\n",
    "\n",
    "# select 1000 samples from the whole MNIST dataset\n",
    "num_datapoints = 1000\n",
    "# some preprocessing\n",
    "X = (images.reshape(-1, 28*28)[:num_datapoints])/ 255 \n",
    "# dividing by 255 will scale pixel values between [0, 1]\n",
    "y = labels.astype(float) #convert string labels to float\n",
    "y = y[:num_datapoints]"
   ]
  },
  {
   "cell_type": "code",
   "execution_count": 6,
   "id": "0a7082bf",
   "metadata": {},
   "outputs": [
    {
     "data": {
      "image/png": "[encoded data removed]",
      "text/plain": [
       "<Figure size 288x288 with 1 Axes>"
      ]
     },
     "metadata": {
      "needs_background": "light"
     },
     "output_type": "display_data"
    }
   ],
   "source": [
    "# plot an image\n",
    "def image_plotter(X, labels, ix):\n",
    "    plt.figure(figsize = (4, 4))\n",
    "    plt.imshow(X[ix].reshape(28, 28), cmap = 'gray')\n",
    "    plt.title('Label: '+ str(labels[ix]))\n",
    "    \n",
    "image_plotter(X, y, 0)"
   ]
  },
  {
   "cell_type": "code",
   "execution_count": 7,
   "id": "5e5c105c",
   "metadata": {},
   "outputs": [
    {
     "name": "stdout",
     "output_type": "stream",
     "text": [
      "(200, 784) (200,)\n"
     ]
    }
   ],
   "source": [
    "samples_len = 100 #100 examples each of class '0' and class '1' are taken from dataset, leading to a collection of 100 images\n",
    "classes = [7, 1]\n",
    "y_2classes = np.concatenate([y[y==classes[0]][:samples_len], y[y==classes[1]][:samples_len]])\n",
    "X_2classes = np.concatenate([X[y==classes[0]][:samples_len], X[y==classes[1]][:samples_len]])\n",
    "\n",
    "print(X_2classes.shape, y_2classes.shape)"
   ]
  },
  {
   "cell_type": "code",
   "execution_count": 8,
   "id": "73401c5c",
   "metadata": {},
   "outputs": [
    {
     "data": {
      "text/plain": [
       "(100,)"
      ]
     },
     "execution_count": 8,
     "metadata": {},
     "output_type": "execute_result"
    }
   ],
   "source": [
    "y_2classes[y_2classes == 7].shape"
   ]
  },
  {
   "cell_type": "code",
   "execution_count": 9,
   "id": "28397706",
   "metadata": {},
   "outputs": [
    {
     "name": "stdout",
     "output_type": "stream",
     "text": [
      "index:  71 Label:  7.0\n"
     ]
    },
    {
     "data": {
      "image/png": "[encoded data removed]",
      "text/plain": [
       "<Figure size 288x288 with 1 Axes>"
      ]
     },
     "metadata": {
      "needs_background": "light"
     },
     "output_type": "display_data"
    }
   ],
   "source": [
    "ix_l = np.random.randint(0, len(X_2classes))\n",
    "print(\"index: \", ix_l, \"Label: \", y_2classes[ix_l])\n",
    "image_plotter(X_2classes, y_2classes, ix_l)"
   ]
  },
  {
   "cell_type": "code",
   "execution_count": 10,
   "id": "42526d2a",
   "metadata": {},
   "outputs": [
    {
     "name": "stdout",
     "output_type": "stream",
     "text": [
      "(134, 784) (66, 784)\n"
     ]
    }
   ],
   "source": [
    "from sklearn.model_selection import train_test_split\n",
    "\n",
    "X_train, X_test, y_train, y_test = train_test_split(X_2classes, y_2classes, test_size=0.33, random_state=42)\n",
    "\n",
    "print(X_train.shape, X_test.shape)"
   ]
  },
  {
   "cell_type": "code",
   "execution_count": 11,
   "id": "ffb5b59e",
   "metadata": {},
   "outputs": [
    {
     "name": "stdout",
     "output_type": "stream",
     "text": [
      "total explained variance ratio:  0.3439\n"
     ]
    }
   ],
   "source": [
    "mypca = MyPCA(10)\n",
    "mypca.fit(X) #we provide mu and std to enforce mypca to use the given statistics\n",
    "z = mypca.transform(X)\n",
    "#print(z.shape)\n",
    "\n",
    "reconst = mypca.inverse_transform(z)\n",
    "#print(reconst.shape)\n",
    "total_expl_variance_ratio = np.sum(mypca.explained_variance())\n",
    "print(\"total explained variance ratio: \", total_expl_variance_ratio.round(4))"
   ]
  },
  {
   "cell_type": "markdown",
   "id": "d97626de",
   "metadata": {},
   "source": [
    "## k-nearest neighbours classification\n",
    "\n",
    "The k-nearest neighbors (k-NN) classification algorithm is a type of instance-based learning, where the function is only approximated locally and all computation is deferred until classification.\n",
    "\n",
    "Given a new data point $x$, the algorithm finds the $k$ training examples that are closest to it in terms of distance, and then predicts the output based on the outputs of these $k$ neighbors. Let $N_k(x)$ be the set of $k$ nearest neighbors of $x$, and let $y_i$ be the output of the $i$-th nearest neighbor. The predicted output $\\hat{y}$ is given by:\n",
    "\n",
    "$$\n",
    "\\hat{y} = \\text{mode}\\{y_i : x_i \\in N_k(x)\\}\n",
    "$$\n",
    "\n",
    "where $\\text{mode}\\{.\\}$ is the mode function that returns the most common value among its arguments.\n",
    "\n",
    "The distance between two data points can be measured using various distance metrics, such as Euclidean distance, Manhattan distance, or Minkowski distance. The choice of distance metric depends on the problem at hand.\n",
    "\n",
    "In summary, k-nearest neighbors classification works by finding the $k$ nearest neighbors of a new data point and predicting the output based on the most common output among these neighbors.\n",
    "\n",
    "\n",
    "Some definitions:\n",
    "\n",
    "1. *Instance based learning*: it makes predictions based on the specific instances of the training data, rather than constructing a general model that captures the underlying relationship between the input and output variables.\n",
    "\n",
    "2. *Function is only approximated locally*: the prediction for a new data point is based on the outputs of its k nearest neighbors in the training data. This is in contrast to other machine learning algorithms, such as linear regression or decision trees, where a global model is constructed to approximate the function over the entire input space."
   ]
  },
  {
   "cell_type": "code",
   "execution_count": 12,
   "id": "699316f8",
   "metadata": {},
   "outputs": [
    {
     "name": "stdout",
     "output_type": "stream",
     "text": [
      "Help on function plot_mnist_pca in module MyPCA:\n",
      "\n",
      "plot_mnist_pca(X, y, n_components=2)\n",
      "\n"
     ]
    }
   ],
   "source": [
    "help(plot_mnist_pca)"
   ]
  },
  {
   "cell_type": "code",
   "execution_count": 13,
   "id": "3b734f83",
   "metadata": {},
   "outputs": [
    {
     "data": {
      "image/png": "[encoded data removed]",
      "text/plain": [
       "<Figure size 576x576 with 2 Axes>"
      ]
     },
     "metadata": {
      "needs_background": "light"
     },
     "output_type": "display_data"
    }
   ],
   "source": [
    "plot_mnist_pca(X_train, y_train, 2)"
   ]
  },
  {
   "cell_type": "code",
   "execution_count": 14,
   "id": "e878455b",
   "metadata": {},
   "outputs": [
    {
     "data": {
      "image/png": "[encoded data removed]",
      "text/plain": [
       "<Figure size 432x288 with 1 Axes>"
      ]
     },
     "metadata": {
      "needs_background": "light"
     },
     "output_type": "display_data"
    }
   ],
   "source": [
    "from sklearn.model_selection import train_test_split\n",
    "from sklearn.preprocessing import StandardScaler\n",
    "\n",
    "\n",
    "def most_common(lst):\n",
    "    return max(set(lst), key=lst.count)\n",
    "\n",
    "def euclidean(point, data):\n",
    "    # Euclidean distance between points a & data\n",
    "    return np.sqrt(np.sum((point - data)**2, axis=1))\n",
    "\n",
    "class KNeighborsClassifier:\n",
    "    def __init__(self, k=5, dist_metric=euclidean):\n",
    "        self.k = k\n",
    "        self.dist_metric = dist_metric\n",
    "\n",
    "    def fit(self, X_train, y_train):\n",
    "        self.X_train = X_train\n",
    "        self.y_train = y_train\n",
    "\n",
    "    def predict(self, X_test):\n",
    "        neighbors = []\n",
    "        for x in X_test:\n",
    "            distances = self.dist_metric(x, self.X_train)\n",
    "            y_sorted = [y for _, y in sorted(zip(distances, self.y_train))]\n",
    "            neighbors.append(y_sorted[:self.k])\n",
    "\n",
    "        return list(map(most_common, neighbors))\n",
    "\n",
    "    def evaluate(self, X_test, y_test):\n",
    "        y_pred = self.predict(X_test)\n",
    "        accuracy = sum(y_pred == y_test) / len(y_test)\n",
    "        return accuracy\n",
    "\n",
    "\n",
    "# Preprocess data\n",
    "mypca = MyPCA(50)\n",
    "mypca.fit(X_train)\n",
    "X_train_reduced = mypca.transform(X_train)\n",
    "X_test_reduced = mypca.transform(X_test)\n",
    "\n",
    "# Test knn model across varying ks\n",
    "accuracies = []\n",
    "ks = range(1, 30)\n",
    "for k in ks:\n",
    "    knn = KNeighborsClassifier(k=k)\n",
    "    knn.fit(X_train_reduced, y_train)\n",
    "    accuracy = knn.evaluate(X_test_reduced, y_test)\n",
    "    accuracies.append(accuracy)\n",
    "\n",
    "# Visualize accuracy vs. k\n",
    "fig, ax = plt.subplots()\n",
    "ax.plot(ks, accuracies)\n",
    "ax.set(xlabel=\"k number of neighbours\",\n",
    "       ylabel=\"Accuracy\",\n",
    "       title=\"Performance of knn\")\n",
    "plt.show()\n"
   ]
  },
  {
   "cell_type": "code",
   "execution_count": 166,
   "id": "e79efc3f",
   "metadata": {},
   "outputs": [],
   "source": [
    "# Example parameter grid\n",
    "param_grid = {\n",
    "    'n_neighbors': [3, 5, 7, 9, 11],\n",
    "    'n_components': [10, 20, 30, 40, 50]\n",
    "}"
   ]
  },
  {
   "cell_type": "code",
   "execution_count": 16,
   "id": "c170caec",
   "metadata": {},
   "outputs": [],
   "source": [
    "param_combos = []\n",
    "    \n",
    "for n_neighbor in param_grid['n_neighbors']:\n",
    "    for n_component in param_grid['n_components']:\n",
    "        \n",
    "        param_combo = {\n",
    "            'n_neighbors': n_neighbor,\n",
    "            'n_components': n_component\n",
    "        }\n",
    "        param_combos.append(param_combo)"
   ]
  },
  {
   "cell_type": "code",
   "execution_count": 17,
   "id": "ffbc110c",
   "metadata": {},
   "outputs": [
    {
     "data": {
      "text/plain": [
       "25"
      ]
     },
     "execution_count": 17,
     "metadata": {},
     "output_type": "execute_result"
    }
   ],
   "source": [
    "len(param_combos)"
   ]
  },
  {
   "cell_type": "code",
   "execution_count": 155,
   "id": "e9a31073",
   "metadata": {},
   "outputs": [],
   "source": [
    "def k_fold_split(X, y, k=5):\n",
    "    \"\"\"Splits data into k folds for cross-validation\"\"\"\n",
    "    fold_size = len(X) // k\n",
    "    indices = np.arange(len(X))\n",
    "    #np.random.shuffle(indices)\n",
    "    \n",
    "    folds = []\n",
    "    for i in range(k):\n",
    "        val_indices = indices[i * fold_size: (i + 1) * fold_size]\n",
    "        train_indices = np.setdiff1d(indices, val_indices)\n",
    "        folds.append((train_indices, val_indices))\n",
    "    \n",
    "    return folds\n",
    "\n",
    "\n",
    "from tqdm import tqdm\n",
    "\n",
    "def grid_search_cv(X, y, param_grid, k_folds = 5, model = 'kmeans', centroids = None):\n",
    "    \n",
    "    best_score = -np.inf\n",
    "    best_params = None\n",
    "    \n",
    "    param_combinations = []\n",
    "    \n",
    "    if model == 'knn':\n",
    "    \n",
    "        for n_neighbor in param_grid['n_neighbors']:\n",
    "            for n_component in param_grid['n_components']:\n",
    "        \n",
    "                param_combo = {\n",
    "                    'n_neighbors': n_neighbor,\n",
    "                    'n_components': n_component\n",
    "                }\n",
    "                param_combinations.append(param_combo)\n",
    "                \n",
    "                \n",
    "    elif model == 'kmeans':\n",
    "        \n",
    "        for n_clusters in param_grid['n_clusters']:\n",
    "            for n_component in param_grid['n_components']:\n",
    "                \n",
    "                param_combo = {\n",
    "                    'n_clusters': n_clusters,\n",
    "                    'n_components': n_component\n",
    "                }\n",
    "                param_combinations.append(param_combo)                \n",
    "    \n",
    "    folds = k_fold_split(X, y, k = k_folds)\n",
    "    \n",
    "    with tqdm(total=len(param_combinations) * k_folds, desc='Grid Search') as pbar:\n",
    "        for params in param_combinations: \n",
    "            cv_scores = []\n",
    "        \n",
    "            for train_indices, val_indices in folds: \n",
    "                X_train, X_val = X[train_indices], X[val_indices]\n",
    "                y_train, y_val = y[train_indices], y[val_indices]\n",
    "            \n",
    "                #apply PCA\n",
    "                mypca = MyPCA(params['n_components'])\n",
    "                mypca.fit(X_train)\n",
    "                X_train_pca = mypca.transform(X_train)\n",
    "                X_val_pca = mypca.transform(X_val)\n",
    "            \n",
    "                #train with KNN\n",
    "                if model == 'knn':\n",
    "                \n",
    "                    knn = KNeighborsClassifier(k = params['n_neighbors'])\n",
    "                    knn.fit(X_train_pca, y_train)\n",
    "            \n",
    "                    #validate model\n",
    "                    #y_val_pred = knn.predict(X_val_pca)\n",
    "                    accuracy = knn.evaluate(X_val_pca, y_val)\n",
    "                    cv_scores.append(accuracy)\n",
    "                \n",
    "                elif model == 'kmeans':\n",
    "                    \n",
    "                    kmeans = KMeans(n_clusters = params['n_clusters'])\n",
    "                    kmeans.fit(X_train_pca)\n",
    "                    \n",
    "                    #validate model\n",
    "                    y_val_pred = kmeans.predict(X_val_pca)\n",
    "                    accuracy = np.mean(y_val_pred == y_val)\n",
    "                    cv_scores.append(accuracy)\n",
    "                \n",
    "                pbar.update(1)\n",
    "                \n",
    "            mean_cv_score = np.mean(cv_scores)\n",
    "        \n",
    "            if mean_cv_score > best_score:\n",
    "                best_score = mean_cv_score\n",
    "                best_params = params\n",
    "    \n",
    "    return best_params, best_score"
   ]
  },
  {
   "cell_type": "code",
   "execution_count": 156,
   "id": "a415ee4d",
   "metadata": {},
   "outputs": [
    {
     "name": "stderr",
     "output_type": "stream",
     "text": [
      "Grid Search: 100%|█████████████████████████████████████████████████████████████████████| 60/60 [00:14<00:00,  4.11it/s]"
     ]
    },
    {
     "name": "stdout",
     "output_type": "stream",
     "text": [
      "Best Parameters:  {'n_neighbors': 5, 'n_components': 10}\n",
      "Best Cross-Validation Accuracy: 0.96\n"
     ]
    },
    {
     "name": "stderr",
     "output_type": "stream",
     "text": [
      "\n"
     ]
    }
   ],
   "source": [
    "# Example parameter grid\n",
    "param_grid = {\n",
    "    'n_neighbors': [5, 7, 9, 11],\n",
    "    'n_components': [10, 20, 30]\n",
    "}\n",
    "\n",
    "best_params, best_score = grid_search_cv(X_train, y_train, param_grid, k_folds = 5, model = 'knn')\n",
    "\n",
    "print(\"Best Parameters: \", best_params)\n",
    "print(\"Best Cross-Validation Accuracy: {:.2f}\".format(best_score))"
   ]
  },
  {
   "cell_type": "code",
   "execution_count": 158,
   "id": "6609f206",
   "metadata": {},
   "outputs": [
    {
     "name": "stdout",
     "output_type": "stream",
     "text": [
      "0.9848484848484849\n"
     ]
    }
   ],
   "source": [
    "# Preprocess data\n",
    "mypca = MyPCA(10)\n",
    "mypca.fit(X_train)\n",
    "X_train_reduced = mypca.transform(X_train)\n",
    "X_test_reduced = mypca.transform(X_test)\n",
    "\n",
    "\n",
    "knn_best = KNeighborsClassifier(k = 5)\n",
    "knn_best.fit(X_train_reduced, y_train)\n",
    "\n",
    "test_accuracy = knn_best.evaluate(X_test_reduced, y_test)\n",
    "\n",
    "print(test_accuracy)"
   ]
  },
  {
   "cell_type": "markdown",
   "id": "ecb5d2c4",
   "metadata": {},
   "source": [
    "## K-means clustering\n",
    "\n",
    "### Unsupervised learning\n",
    "\n",
    "Unsupervised learning, also known as unsupervised machine learning, uses machine learning algorithms to analyze and cluster unlabeled datasets. These algorithms discover hidden patterns or data groupings without the need for human intervention. Its ability to discover similarities and differences in information make it the ideal solution for exploratory data analysis, cross-selling strategies, customer segmentation, and image recognition. \n",
    "\n",
    "[source](https://www.ibm.com/topics/unsupervised-learning)\n",
    "\n",
    "There is no specific $y$ variable, hence there is no clear ***correct*** answer.\n",
    "\n",
    "An example of this class of problem is:\n",
    "\n",
    "1. You are working for a T-shirt designing company. Your task is to narrow down the sizes of the T-shirts. The T-shirt has 2 variables - length and width. You have collected data from potential buyers. You have their length and width. These data points are however scattered, and you need to decide on 3 particular sizes(S, M and L)."
   ]
  },
  {
   "cell_type": "markdown",
   "id": "9fd00874",
   "metadata": {},
   "source": [
    "### How would you go about solving this problem?\n",
    "\n",
    "The k-means clustering algorithm works by iteratively performing 2 steps:\n",
    "\n",
    "Step 1. assigning each data point to one of k clusters based on the distance between the data point and the cluster’s centroid\n",
    "\n",
    "Step 2. updating the centroid of each cluster based on the mean of the data points assigned to it.\n",
    "\n",
    "#### Defining it more clearly\n",
    "\n",
    "Let $x_1, x_2, ..., x_n$ be the $n$ data points, and let $c_1, c_2, ..., c_k$ be the centroids of the $k$ clusters. The objective of k-means clustering is to minimize the within-cluster sum of squares (WCSS), which is given by:\n",
    "\n",
    "$$\n",
    "\\sum_{i=1}^k \\sum_{x \\in c_i} ||x - \\mu_i||^2\n",
    "$$\n",
    "\n",
    "where $\\mu_i$ is the mean of the data points in cluster $c_i$.\n",
    "\n",
    "The k-means clustering algorithm works by iteratively assigning each data point to the cluster with the nearest centroid and then updating the centroid of each cluster based on the mean of the data points assigned to it. The algorithm terminates when the assignments no longer change.\n",
    "\n",
    "The assignment step can be expressed mathematically as:\n",
    "\n",
    "$$\n",
    "c_i = \\{x : ||x - \\mu_i|| \\leq ||x - \\mu_j|| \\text{ for all } 1 \\leq j \\leq k\\}\n",
    "$$\n",
    "\n",
    "The update step can be expressed mathematically as:\n",
    "\n",
    "$$\n",
    "\\mu_i = \\frac{1}{|c_i|} \\sum_{x \\in c_i} x\n",
    "$$"
   ]
  },
  {
   "cell_type": "code",
   "execution_count": 21,
   "id": "d2e7b502",
   "metadata": {},
   "outputs": [
    {
     "data": {
      "image/png": "[encoded data removed]",
      "text/plain": [
       "<Figure size 576x576 with 2 Axes>"
      ]
     },
     "metadata": {
      "needs_background": "light"
     },
     "output_type": "display_data"
    }
   ],
   "source": [
    "plot_mnist_pca(X_train, y_train, 2)"
   ]
  },
  {
   "cell_type": "code",
   "execution_count": 97,
   "id": "06487d7f",
   "metadata": {},
   "outputs": [],
   "source": [
    "# Preprocess data\n",
    "mypca = MyPCA(2)\n",
    "mypca.fit(X_train)\n",
    "X_train_reduced = mypca.transform(X_train)\n",
    "X_test_reduced = mypca.transform(X_test)\n",
    "y_train_encoded = y_train.copy()\n",
    "y_train_encoded[y_train == 7] = 0"
   ]
  },
  {
   "cell_type": "code",
   "execution_count": 159,
   "id": "0f16145b",
   "metadata": {},
   "outputs": [],
   "source": [
    "class KMeans:\n",
    "    def __init__(self, n_clusters, centroids = None, max_iter=300, tol=1e-6):\n",
    "        self.n_clusters = n_clusters\n",
    "        self.max_iter = max_iter\n",
    "        self.tol = tol\n",
    "        self.centroids = centroids\n",
    "\n",
    "    def fit(self, X):\n",
    "        n_samples, n_features = X.shape\n",
    "        \n",
    "        \n",
    "        if self.centroids == None:\n",
    "        # Randomly initialize the centroids as k random samples from X\n",
    "            #random_indices = np.random.choice(n_samples, self.n_clusters, replace=False)\n",
    "            random_indices = np.arange(0, self.n_clusters, 1)\n",
    "            self.centroids = X[random_indices]\n",
    "\n",
    "\n",
    "        for _ in range(self.max_iter):\n",
    "            # Assign clusters based on the closest centroid\n",
    "            distances = self._compute_distances(X)\n",
    "            self.labels_ = np.argmin(distances, axis=1)\n",
    "\n",
    "            # Compute new centroids\n",
    "            new_centroids = np.array([X[self.labels_ == i].mean(axis=0) for i in range(self.n_clusters)])\n",
    "            \n",
    "            # Check for convergence\n",
    "            if np.all(np.abs(new_centroids - self.centroids) <= self.tol):\n",
    "                break\n",
    "            \n",
    "            self.centroids = new_centroids\n",
    "\n",
    "    def predict(self, X):\n",
    "        distances = self._compute_distances(X)\n",
    "        return np.argmin(distances, axis=1)\n",
    "\n",
    "    def _compute_distances(self, X):\n",
    "        return np.linalg.norm(X[:, np.newaxis] - self.centroids, axis=2)\n",
    "\n"
   ]
  },
  {
   "cell_type": "code",
   "execution_count": 162,
   "id": "07316518",
   "metadata": {},
   "outputs": [
    {
     "name": "stderr",
     "output_type": "stream",
     "text": [
      "Grid Search: 100%|█████████████████████████████████████████████████████████████████████| 15/15 [00:03<00:00,  4.14it/s]"
     ]
    },
    {
     "name": "stdout",
     "output_type": "stream",
     "text": [
      "Best KMeans Parameters:  {'n_clusters': 2, 'n_components': 50}\n",
      "Best KMeans Cross-Validation Accuracy: 0.74\n"
     ]
    },
    {
     "name": "stderr",
     "output_type": "stream",
     "text": [
      "\n"
     ]
    }
   ],
   "source": [
    "param_grid_kmeans = {\n",
    "    'n_clusters': [2],\n",
    "    'n_components': [10, 50, 200]\n",
    "}\n",
    "\n",
    "# Perform grid search CV for KMeans\n",
    "best_params_kmeans, best_score_kmeans = grid_search_cv(X_train, y_train_encoded, param_grid_kmeans, centroids = None, k_folds=5, model='kmeans')\n",
    "print(\"Best KMeans Parameters: \", best_params_kmeans)\n",
    "print(\"Best KMeans Cross-Validation Accuracy: {:.2f}\".format(best_score_kmeans))"
   ]
  },
  {
   "cell_type": "code",
   "execution_count": 164,
   "id": "3ee21be1",
   "metadata": {},
   "outputs": [
    {
     "name": "stdout",
     "output_type": "stream",
     "text": [
      "0.9545454545454546\n"
     ]
    }
   ],
   "source": [
    "# Preprocess data\n",
    "mypca = MyPCA(50)\n",
    "mypca.fit(X_train)\n",
    "X_train_reduced = mypca.transform(X_train)\n",
    "X_test_reduced = mypca.transform(X_test)\n",
    "\n",
    "\n",
    "kmeans_best = KMeans(n_clusters = 2)\n",
    "kmeans_best.fit(X_train_reduced)\n",
    "y_test_pred = kmeans_best.predict(X_test_reduced)\n",
    "y_test_pred[y_test_pred == 0] = 7\n",
    "test_accuracy_Kmeans = np.mean(y_test_pred == y_test)\n",
    "\n",
    "\n",
    "\n",
    "print(test_accuracy_Kmeans)"
   ]
  }
 ],
 "metadata": {
  "kernelspec": {
   "display_name": "Python 3",
   "language": "python",
   "name": "python3"
  },
  "language_info": {
   "codemirror_mode": {
    "name": "ipython",
    "version": 3
   },
   "file_extension": ".py",
   "mimetype": "text/x-python",
   "name": "python",
   "nbconvert_exporter": "python",
   "pygments_lexer": "ipython3",
   "version": "3.8.8"
  }
 },
 "nbformat": 4,
 "nbformat_minor": 5
}
