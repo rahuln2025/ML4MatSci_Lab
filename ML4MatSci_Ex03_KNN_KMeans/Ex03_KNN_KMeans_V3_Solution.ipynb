{
 "cells": [
  {
   "cell_type": "markdown",
   "id": "84fe69bf",
   "metadata": {},
   "source": [
    "# K-Nearest Neighbours and K-Means Clustering\n",
    "\n",
    "In this exercise, we shall use k-nearest neighbours (KNN) and k-means clustering for classficiation of digits from the MNIST handwritten dataset. \n",
    "\n",
    "KNN is a supervised learning method, whereas k-means clustering is an unsupervised learning method. "
   ]
  },
  {
   "cell_type": "code",
   "execution_count": 257,
   "id": "a9921254",
   "metadata": {},
   "outputs": [
    {
     "name": "stdout",
     "output_type": "stream",
     "text": [
      "Requirement already satisfied: threadpoolctl==3.1.0 in c:\\users\\narkh\\anaconda3\\lib\\site-packages (3.1.0)\n"
     ]
    },
    {
     "name": "stderr",
     "output_type": "stream",
     "text": [
      "WARNING: Ignoring invalid distribution -atplotlib (c:\\users\\narkh\\anaconda3\\lib\\site-packages)\n",
      "WARNING: Ignoring invalid distribution -ensorflow-intel (c:\\users\\narkh\\anaconda3\\lib\\site-packages)\n",
      "WARNING: Ignoring invalid distribution -atplotlib (c:\\users\\narkh\\anaconda3\\lib\\site-packages)\n",
      "WARNING: Ignoring invalid distribution -ensorflow-intel (c:\\users\\narkh\\anaconda3\\lib\\site-packages)\n",
      "DEPRECATION: pyodbc 4.0.0-unsupported has a non-standard version number. pip 24.1 will enforce this behaviour change. A possible replacement is to upgrade to a newer version of pyodbc or contact the author to suggest that they release a version with a conforming version number. Discussion can be found at https://github.com/pypa/pip/issues/12063\n"
     ]
    }
   ],
   "source": [
    "#optional\n",
    "! pip install threadpoolctl==3.1.0"
   ]
  },
  {
   "cell_type": "code",
   "execution_count": 258,
   "id": "f4c3cf69",
   "metadata": {},
   "outputs": [],
   "source": [
    "import numpy as np\n",
    "import timeit\n",
    "import matplotlib as mpl\n",
    "mpl.use('Agg')\n",
    "import matplotlib.pyplot as plt\n",
    "plt.style.use('fivethirtyeight')\n",
    "from ipywidgets import interact\n",
    "import random\n",
    "\n",
    "%matplotlib inline"
   ]
  },
  {
   "cell_type": "code",
   "execution_count": 259,
   "id": "6eca9c4e",
   "metadata": {},
   "outputs": [],
   "source": [
    "# Will not work until a Python script named 'MyPCA.py' is created\n",
    "# which contains the PCA class from the exercise 02.\n",
    "\n",
    "# If such a file does not exist, use sklearns PCA implementation as disccused in exercise 02\n",
    "\n",
    "#import the PCA class implemention\n",
    "\n",
    "from MyPCA import *"
   ]
  },
  {
   "cell_type": "code",
   "execution_count": 260,
   "id": "6352dfd2",
   "metadata": {},
   "outputs": [
    {
     "name": "stdout",
     "output_type": "stream",
     "text": [
      "<class 'pandas.core.frame.DataFrame'> (70000, 784)\n",
      "<class 'pandas.core.series.Series'> (70000,)\n",
      "<class 'numpy.ndarray'> (784,)\n",
      "<class 'str'> 5\n"
     ]
    }
   ],
   "source": [
    "# import MNIST dataset (might take a few seconds)\n",
    "\n",
    "from sklearn.datasets import fetch_openml\n",
    "images, labels = fetch_openml('mnist_784', version=1, return_X_y=True, parser = 'auto')\n",
    "\n",
    "# check the datatype and shape of the data\n",
    "print(type(images), images.shape)\n",
    "print(type(labels), labels.shape)\n",
    "\n",
    "# if not in NumPy, convert the data to NumPy array\n",
    "\n",
    "images = np.array(images)\n",
    "labels = np.array(labels)\n",
    "\n",
    "# check the shape of an individual image sample\n",
    "print(type(images[0]), images[0].shape)\n",
    "print(type(labels[0]), labels[0])\n",
    "\n",
    "# select 2000 samples from the whole MNIST dataset\n",
    "num_datapoints = 2000\n",
    "# some preprocessing\n",
    "X = (images.reshape(-1, 28*28)[:num_datapoints])/ 255 \n",
    "# dividing by 255 will scale pixel values between [0, 1]\n",
    "y = labels.astype(float) #convert string labels to float\n",
    "y = y[:num_datapoints]"
   ]
  },
  {
   "cell_type": "code",
   "execution_count": 261,
   "id": "8003f054",
   "metadata": {},
   "outputs": [
    {
     "name": "stdout",
     "output_type": "stream",
     "text": [
      "Label:  0.0 | count:  191\n",
      "Label:  1.0 | count:  220\n",
      "Label:  2.0 | count:  198\n",
      "Label:  3.0 | count:  191\n",
      "Label:  4.0 | count:  214\n",
      "Label:  5.0 | count:  180\n",
      "Label:  6.0 | count:  200\n",
      "Label:  7.0 | count:  224\n",
      "Label:  8.0 | count:  172\n",
      "Label:  9.0 | count:  210\n",
      "total samples:  2000\n"
     ]
    }
   ],
   "source": [
    "labels_unique = np.unique(y)\n",
    "counts = []\n",
    "for label in labels_unique:\n",
    "    count = np.sum(y == label)\n",
    "    counts.append(count)\n",
    "    print(\"Label: \", label, \"| count: \", count)\n",
    "    \n",
    "print(\"total samples: \", sum(counts))"
   ]
  },
  {
   "cell_type": "code",
   "execution_count": 262,
   "id": "e50d0669",
   "metadata": {},
   "outputs": [
    {
     "data": {
      "image/png": "[encoded data removed]",
      "text/plain": [
       "<Figure size 288x288 with 1 Axes>"
      ]
     },
     "metadata": {
      "needs_background": "light"
     },
     "output_type": "display_data"
    }
   ],
   "source": [
    "# plot an image\n",
    "def image_plotter(X, labels, ix):\n",
    "    plt.figure(figsize = (4, 4))\n",
    "    plt.imshow(X[ix].reshape(28, 28), cmap = 'gray')\n",
    "    plt.title('Label: '+ str(labels[ix]))\n",
    "    \n",
    "image_plotter(X, y, 0)"
   ]
  },
  {
   "cell_type": "code",
   "execution_count": 263,
   "id": "d94841fd",
   "metadata": {},
   "outputs": [],
   "source": [
    "import numpy as np\n",
    "\n",
    "def extract_digits(X, y, classes, samples_per_class):\n",
    "    \"\"\"\n",
    "    Extract specified number of samples for each given digit from the MNIST dataset.\n",
    "\n",
    "    Parameters:\n",
    "    - X (np.array): Array of images from MNIST dataset.\n",
    "    - y (np.array): Corresponding labels for the MNIST dataset images.\n",
    "    - classes (list of int): List of digits to extract (e.g., [0, 1, 2]).\n",
    "    - samples_per_class (int): Number of samples to extract for each class.\n",
    "\n",
    "    Returns:\n",
    "    - tuple of np.array: Tuple containing the extracted features matrix and labels vector.\n",
    "    \"\"\"\n",
    "    X_extracted = []\n",
    "    y_extracted = []\n",
    "    \n",
    "    for digit in classes:\n",
    "        # Find the indices where the label equals the current digit\n",
    "        indices = np.where(y == digit)[0]\n",
    "        \n",
    "        # Check if there are enough samples available\n",
    "        if len(indices) < samples_per_class:\n",
    "            raise ValueError(f\"Not enough samples for digit {digit}. Only {len(indices)} available.\")\n",
    "        \n",
    "        # Extract the samples for this digit\n",
    "        selected_indices = indices[:samples_per_class]\n",
    "        X_extracted.append(X[selected_indices])\n",
    "        y_extracted.append(y[selected_indices])\n",
    "    \n",
    "    # Concatenate lists into arrays\n",
    "    X_extracted = np.concatenate(X_extracted, axis=0)\n",
    "    y_extracted = np.concatenate(y_extracted, axis=0)\n",
    "    \n",
    "    return X_extracted, y_extracted"
   ]
  },
  {
   "cell_type": "code",
   "execution_count": 264,
   "id": "b8ce16ff",
   "metadata": {},
   "outputs": [
    {
     "name": "stdout",
     "output_type": "stream",
     "text": [
      "(400, 784) (400,)\n",
      "(100,)\n"
     ]
    }
   ],
   "source": [
    "classes = [1, 7, 3, 5]  # Digits to extract\n",
    "samples_per_class = 100 # Number of samples per digit\n",
    "\n",
    "X_classes, y_classes = extract_digits(X, y, classes, samples_per_class)\n",
    "print(X_classes.shape, y_classes.shape)  # Check the shape of the extracted arrays\n",
    "print(y_classes[y_classes == 1].shape)"
   ]
  },
  {
   "cell_type": "code",
   "execution_count": 265,
   "id": "b5d4e43a",
   "metadata": {},
   "outputs": [
    {
     "name": "stdout",
     "output_type": "stream",
     "text": [
      "index:  19 Label:  1.0\n"
     ]
    },
    {
     "data": {
      "image/png": "[encoded data removed]",
      "text/plain": [
       "<Figure size 288x288 with 1 Axes>"
      ]
     },
     "metadata": {
      "needs_background": "light"
     },
     "output_type": "display_data"
    }
   ],
   "source": [
    "# plot a random image\n",
    "ix_l = np.random.randint(0, len(X_classes))\n",
    "print(\"index: \", ix_l, \"Label: \", y_classes[ix_l])\n",
    "image_plotter(X_classes, y_classes, ix_l)"
   ]
  },
  {
   "cell_type": "code",
   "execution_count": 266,
   "id": "4b1a5f90",
   "metadata": {},
   "outputs": [],
   "source": [
    "\n",
    "def scatter_plot(colors_labels, X, y, title = 'Plot of samples'):\n",
    "\n",
    "    fig, ax = plt.subplots()\n",
    "\n",
    "    # Set to keep track of which labels have been added to the legend\n",
    "    legend_labels = set()\n",
    "\n",
    "    for point, label in zip(X, y):\n",
    "        if label not in legend_labels:\n",
    "            ax.scatter(point[0], point[1], c=colors[label], label=label)\n",
    "            legend_labels.add(label)  # Mark this label as added\n",
    "        else:\n",
    "            ax.scatter(point[0], point[1], c=colors[label])\n",
    "\n",
    "    # Add a legend, labels, and title\n",
    "    ax.legend(title='Label')\n",
    "    plt.xlabel('Principal component 1')\n",
    "    plt.ylabel('Principal component 2')\n",
    "    plt.title(title)\n",
    "    plt.show()"
   ]
  },
  {
   "cell_type": "code",
   "execution_count": 267,
   "id": "6ce26ebc",
   "metadata": {},
   "outputs": [
    {
     "name": "stdout",
     "output_type": "stream",
     "text": [
      "(268, 784) (132, 784)\n"
     ]
    }
   ],
   "source": [
    "# create train and test datasets\n",
    "\n",
    "from sklearn.model_selection import train_test_split\n",
    "\n",
    "X_train, X_test, y_train, y_test = train_test_split(X_classes, y_classes, test_size=0.33, random_state=42)\n",
    "\n",
    "print(X_train.shape, X_test.shape)"
   ]
  },
  {
   "cell_type": "markdown",
   "id": "6833d391",
   "metadata": {},
   "source": [
    "## k-nearest neighbours classification\n",
    "\n",
    "The k-nearest neighbors (k-NN) classification algorithm is a type of instance-based learning, where the function is only approximated locally and all computation is deferred until classification.\n",
    "\n",
    "Given a new data point $x$, the algorithm finds the $k$ training examples that are closest to it in terms of distance, and then predicts the output based on the outputs of these $k$ neighbors. Let $N_k(x)$ be the set of $k$ nearest neighbors of $x$, and let $y_i$ be the output of the $i$-th nearest neighbor. The predicted output $\\hat{y}$ is given by:\n",
    "\n",
    "$$\n",
    "\\hat{y} = \\text{mode}\\{y_i : x_i \\in N_k(x)\\}\n",
    "$$\n",
    "\n",
    "where $\\text{mode}\\{.\\}$ is the mode function that returns the most common value among its arguments.\n",
    "\n",
    "The distance between two data points can be measured using various distance metrics, such as Euclidean distance, Manhattan distance, or Minkowski distance. The choice of distance metric depends on the problem at hand.\n",
    "\n",
    "In summary, k-nearest neighbors classification works by finding the $k$ nearest neighbors of a new data point and predicting the output based on the most common output among these neighbors.\n",
    "\n",
    "\n",
    "Some definitions:\n",
    "\n",
    "1. *Instance based learning*: it makes predictions based on the specific instances of the training data, rather than constructing a general model that captures the underlying relationship between the input and output variables.\n",
    "\n",
    "2. *Function is only approximated locally*: the prediction for a new data point is based on the outputs of its k nearest neighbors in the training data. This is in contrast to other machine learning algorithms, such as linear regression or decision trees, where a global model is constructed to approximate the function over the entire input space.\n",
    "\n",
    "\n",
    "### Illustration\n",
    "\n",
    "![KNN_Illustration](KNN_Illustration.png)\n",
    "\n",
    "\n",
    "### Algorithm:\n",
    "\n",
    "1) Select the number of k neighbors.\n",
    "\n",
    "2) Calculate Euclidean distance of each sample w.r.t all other samples of the dataset.\n",
    "\n",
    "3) For each sample, sort the distances in ascending order, and select the k nearest neighbors. \n",
    "\n",
    "4) Find the most frequent label amongst the k nearest neighbors to each sample. Assign that as the label of that sample. \n"
   ]
  },
  {
   "cell_type": "markdown",
   "id": "8a72cb72",
   "metadata": {},
   "source": [
    "#### ORIGINAL CODE\n",
    "\n",
    "``` Python\n",
    "from sklearn.utils.validation import check_is_fitted\n",
    "from sklearn.base import BaseEstimator\n",
    "\n",
    "def most_common(lst): # to find the mode of the labels\n",
    "    return max(set(lst), key=lst.count)\n",
    "\n",
    "def euclidean(point, data): # compute euclidean distance \n",
    "    # Euclidean distance between points a & data\n",
    "    return np.sqrt(np.sum((point - data)**2, axis=1))\n",
    "\n",
    "\n",
    "class My_KNeighborsClassifier(BaseEstimator):\n",
    "    def __init__(self, k=5, dist_metric=euclidean):\n",
    "        self.k = k\n",
    "        self.dist_metric = dist_metric\n",
    "        self.is_fitted_ = False  # Attribute to track if the estimator is fitted\n",
    "\n",
    "    def fit(self, X_train, y_train):\n",
    "        # here the distances of test samples are made w.r.t train samples\n",
    "        # distances of new test samples will be computed w.r.t train samples\n",
    "        # the k number of neighbours will be selected based on the distances\n",
    "        # the mode of the labels for each test sample will be the label of the test sample\n",
    "        self.X_train = X_train\n",
    "        self.y_train = y_train\n",
    "        self.is_fitted_ = True  # Set the flag to True after fitting\n",
    "\n",
    "    def predict(self, X_test):\n",
    "        # Check if fitted\n",
    "        check_is_fitted(self, 'is_fitted_')\n",
    "        \n",
    "        neighbors = []\n",
    "        for x in X_test:\n",
    "            # compute distances of sample x of test data w.r.t all training samples\n",
    "            distances = self.dist_metric(x, self.X_train)\n",
    "            # sort labels of neighbours according to distances (closest first) \n",
    "            y_sorted = [y for _, y in sorted(zip(distances, self.y_train))]\n",
    "            # select first k nearest neighbours\n",
    "            neighbors.append(y_sorted[:self.k])\n",
    "        return np.array(list(map(most_common, neighbors)))\n",
    "\n",
    "    def evaluate(self, X_test, y_test):\n",
    "        # predict labels for test dataset\n",
    "        y_pred = self.predict(X_test)\n",
    "        # compute accuracy\n",
    "        accuracy = sum(y_pred == y_test) / len(y_test)\n",
    "        return accuracy\n"
   ]
  },
  {
   "cell_type": "code",
   "execution_count": 268,
   "id": "09c7e56f",
   "metadata": {},
   "outputs": [],
   "source": [
    "# Exercise solution\n",
    "\n",
    "from sklearn.utils.validation import check_is_fitted\n",
    "from sklearn.base import BaseEstimator\n",
    "from scipy.stats import mode\n",
    "\n",
    "def most_common(lst):\n",
    "    \"\"\"\n",
    "    Find the mode of the labels.\n",
    "    Args:\n",
    "    - lst: list of labels.\n",
    "    \n",
    "    Returns:\n",
    "    - The most frequent label.\n",
    "    \"\"\"\n",
    "    #return #max(set(lst), key=lst.count)\n",
    "    return mode(lst).mode[0]\n",
    "\n",
    "def euclidean(point, data):\n",
    "    \"\"\"\n",
    "    Compute the Euclidean distance between a point and all points in a dataset.\n",
    "    Args:\n",
    "    - point: A numpy array representing the test sample.\n",
    "    - data: A numpy array representing the training samples.\n",
    "    \n",
    "    Returns:\n",
    "    - distances: Numpy array of distances.\n",
    "    \"\"\"\n",
    "    return np.sqrt(np.sum((point - data)**2, axis=1))\n",
    "\n",
    "class My_KNeighborsClassifier(BaseEstimator):\n",
    "    def __init__(self, k=5, dist_metric=euclidean):\n",
    "        \"\"\"\n",
    "        Initialize the KNeighborsClassifier.\n",
    "        Args:\n",
    "        - k: Number of neighbors to consider.\n",
    "        - dist_metric: Function to compute the distance.\n",
    "        \"\"\"\n",
    "        self.k = k\n",
    "        self.dist_metric = dist_metric\n",
    "        self.is_fitted_ = False  # Attribute to track if the estimator is fitted\n",
    "\n",
    "    def fit(self, X_train, y_train):\n",
    "        \"\"\"\n",
    "        Fit the KNeighbors classifier with the training data.\n",
    "        Args:\n",
    "        - X_train: Training data features.\n",
    "        - y_train: Training data labels.\n",
    "        \"\"\"\n",
    "        self.X_train = X_train\n",
    "        self.y_train = y_train\n",
    "        self.is_fitted_ = True  # Indicate that fitting is complete\n",
    "\n",
    "    def predict(self, X_test):\n",
    "        \"\"\"\n",
    "        Predict the class labels for the test set.\n",
    "        Args:\n",
    "        - X_test: Test data features.\n",
    "        \n",
    "        Returns:\n",
    "        - predictions: Numpy array of predicted labels.\n",
    "        \"\"\"\n",
    "        check_is_fitted(self, 'is_fitted_')\n",
    "        \n",
    "        predictions = []\n",
    "        for x in X_test:\n",
    "            # Compute distances from x to all training samples\n",
    "            distances = self.dist_metric(x, self.X_train)\n",
    "\n",
    "            # Sort the training labels by distance and select the k nearest\n",
    "            k_nearest_labels = [y for _, y in sorted(zip(distances, self.y_train))][:self.k]\n",
    "\n",
    "            # Find the most common label among the k nearest labels\n",
    "            predicted_label = most_common(k_nearest_labels)\n",
    "\n",
    "            predictions.append(predicted_label)\n",
    "        return np.array(predictions)\n",
    "\n",
    "    def evaluate(self, X_test, y_test):\n",
    "        \"\"\"\n",
    "        Evaluate the accuracy of the classifier.\n",
    "        Args:\n",
    "        - X_test: Test data features.\n",
    "        - y_test: Test data labels.\n",
    "        \n",
    "        Returns:\n",
    "        - accuracy: The accuracy of the classifier on the test data.\n",
    "        \"\"\"\n",
    "        y_pred = self.predict(X_test)\n",
    "        accuracy = np.mean(y_pred == y_test)\n",
    "        return accuracy\n",
    "\n",
    "\n"
   ]
  },
  {
   "cell_type": "code",
   "execution_count": 269,
   "id": "ed71bb6f",
   "metadata": {},
   "outputs": [
    {
     "name": "stdout",
     "output_type": "stream",
     "text": [
      "Test accuracy my knn:  0.75\n"
     ]
    },
    {
     "name": "stderr",
     "output_type": "stream",
     "text": [
      "<ipython-input-268-ceee616328f7>:17: FutureWarning: Unlike other reduction functions (e.g. `skew`, `kurtosis`), the default behavior of `mode` typically preserves the axis it acts along. In SciPy 1.11.0, this behavior will change: the default value of `keepdims` will become False, the `axis` over which the statistic is taken will be eliminated, and the value None will no longer be accepted. Set `keepdims` to True or False to avoid this warning.\n",
      "  return mode(lst).mode[0]\n"
     ]
    }
   ],
   "source": [
    "# Preprocess data\n",
    "mypca = MyPCA(2)\n",
    "mypca.fit(X_train)\n",
    "X_train_reduced = mypca.transform(X_train)\n",
    "X_test_reduced = mypca.transform(X_test)\n",
    "\n",
    "my_knn = My_KNeighborsClassifier(k=5)\n",
    "my_knn.fit(X_train_reduced, y_train)\n",
    "y_test_pred_my_knn = my_knn.predict(X_test_reduced)\n",
    "test_accuracy_my_knn = my_knn.evaluate(X_test_reduced, y_test)\n",
    "print(\"Test accuracy my knn: \", test_accuracy_my_knn.round(4))\n"
   ]
  },
  {
   "cell_type": "markdown",
   "id": "483af00b",
   "metadata": {},
   "source": [
    "### K-Nearest Neighbours with Scikit Learn\n",
    "\n",
    "To know more about the KNeighborsClassifier from sklearn, refer to the documentation link below. They also have a number of examples which explain different concepts. \n",
    "\n",
    "https://scikit-learn.org/stable/modules/generated/sklearn.neighbors.KNeighborsClassifier.html"
   ]
  },
  {
   "cell_type": "code",
   "execution_count": 270,
   "id": "2fe07323",
   "metadata": {},
   "outputs": [],
   "source": [
    "from sklearn.neighbors import KNeighborsClassifier as sk_KNeighborsClassifier\n",
    "sk_knn = sk_KNeighborsClassifier(n_neighbors = 5)"
   ]
  },
  {
   "cell_type": "code",
   "execution_count": 271,
   "id": "7a10443a",
   "metadata": {
    "scrolled": true
   },
   "outputs": [
    {
     "data": {
      "text/html": [
       "<style>#sk-container-id-8 {color: black;}#sk-container-id-8 pre{padding: 0;}#sk-container-id-8 div.sk-toggleable {background-color: white;}#sk-container-id-8 label.sk-toggleable__label {cursor: pointer;display: block;width: 100%;margin-bottom: 0;padding: 0.3em;box-sizing: border-box;text-align: center;}#sk-container-id-8 label.sk-toggleable__label-arrow:before {content: \"▸\";float: left;margin-right: 0.25em;color: #696969;}#sk-container-id-8 label.sk-toggleable__label-arrow:hover:before {color: black;}#sk-container-id-8 div.sk-estimator:hover label.sk-toggleable__label-arrow:before {color: black;}#sk-container-id-8 div.sk-toggleable__content {max-height: 0;max-width: 0;overflow: hidden;text-align: left;background-color: #f0f8ff;}#sk-container-id-8 div.sk-toggleable__content pre {margin: 0.2em;color: black;border-radius: 0.25em;background-color: #f0f8ff;}#sk-container-id-8 input.sk-toggleable__control:checked~div.sk-toggleable__content {max-height: 200px;max-width: 100%;overflow: auto;}#sk-container-id-8 input.sk-toggleable__control:checked~label.sk-toggleable__label-arrow:before {content: \"▾\";}#sk-container-id-8 div.sk-estimator input.sk-toggleable__control:checked~label.sk-toggleable__label {background-color: #d4ebff;}#sk-container-id-8 div.sk-label input.sk-toggleable__control:checked~label.sk-toggleable__label {background-color: #d4ebff;}#sk-container-id-8 input.sk-hidden--visually {border: 0;clip: rect(1px 1px 1px 1px);clip: rect(1px, 1px, 1px, 1px);height: 1px;margin: -1px;overflow: hidden;padding: 0;position: absolute;width: 1px;}#sk-container-id-8 div.sk-estimator {font-family: monospace;background-color: #f0f8ff;border: 1px dotted black;border-radius: 0.25em;box-sizing: border-box;margin-bottom: 0.5em;}#sk-container-id-8 div.sk-estimator:hover {background-color: #d4ebff;}#sk-container-id-8 div.sk-parallel-item::after {content: \"\";width: 100%;border-bottom: 1px solid gray;flex-grow: 1;}#sk-container-id-8 div.sk-label:hover label.sk-toggleable__label {background-color: #d4ebff;}#sk-container-id-8 div.sk-serial::before {content: \"\";position: absolute;border-left: 1px solid gray;box-sizing: border-box;top: 0;bottom: 0;left: 50%;z-index: 0;}#sk-container-id-8 div.sk-serial {display: flex;flex-direction: column;align-items: center;background-color: white;padding-right: 0.2em;padding-left: 0.2em;position: relative;}#sk-container-id-8 div.sk-item {position: relative;z-index: 1;}#sk-container-id-8 div.sk-parallel {display: flex;align-items: stretch;justify-content: center;background-color: white;position: relative;}#sk-container-id-8 div.sk-item::before, #sk-container-id-8 div.sk-parallel-item::before {content: \"\";position: absolute;border-left: 1px solid gray;box-sizing: border-box;top: 0;bottom: 0;left: 50%;z-index: -1;}#sk-container-id-8 div.sk-parallel-item {display: flex;flex-direction: column;z-index: 1;position: relative;background-color: white;}#sk-container-id-8 div.sk-parallel-item:first-child::after {align-self: flex-end;width: 50%;}#sk-container-id-8 div.sk-parallel-item:last-child::after {align-self: flex-start;width: 50%;}#sk-container-id-8 div.sk-parallel-item:only-child::after {width: 0;}#sk-container-id-8 div.sk-dashed-wrapped {border: 1px dashed gray;margin: 0 0.4em 0.5em 0.4em;box-sizing: border-box;padding-bottom: 0.4em;background-color: white;}#sk-container-id-8 div.sk-label label {font-family: monospace;font-weight: bold;display: inline-block;line-height: 1.2em;}#sk-container-id-8 div.sk-label-container {text-align: center;}#sk-container-id-8 div.sk-container {/* jupyter's `normalize.less` sets `[hidden] { display: none; }` but bootstrap.min.css set `[hidden] { display: none !important; }` so we also need the `!important` here to be able to override the default hidden behavior on the sphinx rendered scikit-learn.org. See: https://github.com/scikit-learn/scikit-learn/issues/21755 */display: inline-block !important;position: relative;}#sk-container-id-8 div.sk-text-repr-fallback {display: none;}</style><div id=\"sk-container-id-8\" class=\"sk-top-container\"><div class=\"sk-text-repr-fallback\"><pre>KNeighborsClassifier()</pre><b>In a Jupyter environment, please rerun this cell to show the HTML representation or trust the notebook. <br />On GitHub, the HTML representation is unable to render, please try loading this page with nbviewer.org.</b></div><div class=\"sk-container\" hidden><div class=\"sk-item\"><div class=\"sk-estimator sk-toggleable\"><input class=\"sk-toggleable__control sk-hidden--visually\" id=\"sk-estimator-id-8\" type=\"checkbox\" checked><label for=\"sk-estimator-id-8\" class=\"sk-toggleable__label sk-toggleable__label-arrow\">KNeighborsClassifier</label><div class=\"sk-toggleable__content\"><pre>KNeighborsClassifier()</pre></div></div></div></div></div>"
      ],
      "text/plain": [
       "KNeighborsClassifier()"
      ]
     },
     "execution_count": 271,
     "metadata": {},
     "output_type": "execute_result"
    }
   ],
   "source": [
    "sk_knn.fit(X_train_reduced, y_train)"
   ]
  },
  {
   "cell_type": "code",
   "execution_count": 272,
   "id": "d9e656e6",
   "metadata": {},
   "outputs": [
    {
     "name": "stdout",
     "output_type": "stream",
     "text": [
      "Test accuracy sk learn KNN:  0.75\n"
     ]
    }
   ],
   "source": [
    "y_test_pred_sk_knn = sk_knn.predict(X_test_reduced)\n",
    "sk_knn_accuracy = np.mean(y_test_pred_sk_knn == y_test)\n",
    "print(\"Test accuracy sk learn KNN: \", sk_knn_accuracy.round(4))"
   ]
  },
  {
   "cell_type": "code",
   "execution_count": 273,
   "id": "9dfffedf",
   "metadata": {
    "scrolled": true
   },
   "outputs": [
    {
     "data": {
      "image/png": "[encoded data removed]",
      "text/plain": [
       "<Figure size 432x288 with 1 Axes>"
      ]
     },
     "metadata": {
      "needs_background": "light"
     },
     "output_type": "display_data"
    }
   ],
   "source": [
    "colors = {7: 'blue', 1: 'green', 3: 'orange', 5: 'black'}\n",
    "scatter_plot(colors, X_test_reduced, y_test, title = 'Plot of true labels of test samples')"
   ]
  },
  {
   "cell_type": "code",
   "execution_count": 274,
   "id": "56b41772",
   "metadata": {},
   "outputs": [],
   "source": [
    "from sklearn.inspection import DecisionBoundaryDisplay\n",
    "\n",
    "def plot_decision_boundary(estimator, X, y, title = 'Decision boundary', key = None):\n",
    "    \n",
    "    \"\"\"\n",
    "    Plot the decision boundary of an estimator over a given feature set and annotate with true labels.\n",
    "\n",
    "    Parameters:\n",
    "    - estimator: Fitted machine learning estimator with a predict method.\n",
    "    - X: ndarray, shape (n_samples, n_features), Feature set for plotting.\n",
    "    - y: ndarray, shape (n_samples,), True labels for coloring the plot.\n",
    "    - title: str, Title of the plot.\n",
    "    - key: dict, optional, Maps cluster indices to actual labels (useful for methods like KMeans).\n",
    "\n",
    "    This function visualizes the decision boundary for classifiers, coloring data points\n",
    "    according to their true labels and includes a legend. If a 'key' is provided, the plot\n",
    "    title is adjusted to include label mapping information.\n",
    "\n",
    "    Example:\n",
    "    plot_decision_boundary(fitted_model, X_features, y_true_labels, 'Model Decision Boundary', key={0: 'Class A', 1: 'Class B'})\n",
    "    \"\"\"\n",
    "    \n",
    "    # Plotting the decision boundary\n",
    "    disp = DecisionBoundaryDisplay.from_estimator(\n",
    "        estimator, X, response_method = 'predict', xlabel = 'PC 1', ylabel = 'PC 2', alpha = 0.5)\n",
    "\n",
    "    # Prepare to track labels and assign colors\n",
    "    unique_labels = np.unique(y)\n",
    "    colors = plt.cm.viridis(np.linspace(0, 1, len(unique_labels)))  # Use a colormap\n",
    "    label_color_dict = dict(zip(unique_labels, colors))\n",
    "\n",
    "    # Set to keep track of which labels have been added to the legend\n",
    "    legend_labels = set()\n",
    "\n",
    "    # Plot each point, ensuring each label is added to the legend only once\n",
    "    for point, label in zip(X, y):\n",
    "        if label not in legend_labels:\n",
    "            disp.ax_.scatter(point[0], point[1], color=label_color_dict[label], label=label, edgecolor='k')\n",
    "            legend_labels.add(label)  # Mark this label as added\n",
    "        else:\n",
    "            disp.ax_.scatter(point[0], point[1], color=label_color_dict[label], edgecolor='k')\n",
    "\n",
    "    # Add a legend, title and show plot\n",
    "    plt.legend(title='Label')\n",
    "    if key is not None:\n",
    "        plt.title(title + '\\n' + str(key))\n",
    "    else:\n",
    "        plt.title(title)\n",
    "    plt.show()   "
   ]
  },
  {
   "cell_type": "code",
   "execution_count": 275,
   "id": "4d54ae84",
   "metadata": {
    "scrolled": true
   },
   "outputs": [
    {
     "data": {
      "image/png": "[encoded data removed]",
      "text/plain": [
       "<Figure size 432x288 with 1 Axes>"
      ]
     },
     "metadata": {
      "needs_background": "light"
     },
     "output_type": "display_data"
    }
   ],
   "source": [
    "plot_decision_boundary(sk_knn, X_test_reduced, y_test, title = 'Decision boundary of sklearn KNN on test data', key = None)"
   ]
  },
  {
   "cell_type": "code",
   "execution_count": 276,
   "id": "3bf2c4dd",
   "metadata": {
    "scrolled": false
   },
   "outputs": [
    {
     "name": "stderr",
     "output_type": "stream",
     "text": [
      "<ipython-input-268-ceee616328f7>:17: FutureWarning: Unlike other reduction functions (e.g. `skew`, `kurtosis`), the default behavior of `mode` typically preserves the axis it acts along. In SciPy 1.11.0, this behavior will change: the default value of `keepdims` will become False, the `axis` over which the statistic is taken will be eliminated, and the value None will no longer be accepted. Set `keepdims` to True or False to avoid this warning.\n",
      "  return mode(lst).mode[0]\n"
     ]
    },
    {
     "data": {
      "image/png": "[encoded data removed]",
      "text/plain": [
       "<Figure size 432x288 with 1 Axes>"
      ]
     },
     "metadata": {
      "needs_background": "light"
     },
     "output_type": "display_data"
    }
   ],
   "source": [
    "plot_decision_boundary(my_knn, X_test_reduced, y_test, title = 'Decision boundary of my KNN on test data', key = None)"
   ]
  },
  {
   "cell_type": "code",
   "execution_count": null,
   "id": "1e654d8b",
   "metadata": {},
   "outputs": [],
   "source": []
  },
  {
   "cell_type": "markdown",
   "id": "a0602a95",
   "metadata": {},
   "source": [
    "## K-means clustering\n",
    "\n",
    "### Unsupervised learning\n",
    "\n",
    "Unsupervised learning, also known as unsupervised machine learning, uses machine learning algorithms to analyze and cluster unlabeled datasets. These algorithms discover hidden patterns or data groupings without the need for human intervention. Its ability to discover similarities and differences in information make it the ideal solution for exploratory data analysis, cross-selling strategies, customer segmentation, and image recognition. \n",
    "\n",
    "[source](https://www.ibm.com/topics/unsupervised-learning)\n",
    "\n",
    "There is no specific $y$ variable for labels, hence there is no clear ***correct*** answer."
   ]
  },
  {
   "cell_type": "markdown",
   "id": "86c0ff0c",
   "metadata": {},
   "source": [
    "### How would you go about solving this problem?\n",
    "\n",
    "The k-means clustering algorithm works by iteratively performing 2 steps:\n",
    "\n",
    "Step 1. assigning each data point to one of k clusters based on the distance between the data point and the cluster’s centroid\n",
    "\n",
    "Step 2. updating the centroid of each cluster based on the mean of the data points assigned to it.\n",
    "\n",
    "#### Defining it more clearly\n",
    "\n",
    "Let $x_1, x_2, ..., x_n$ be the $n$ data points, and let $c_1, c_2, ..., c_k$ be the centroids of the $k$ clusters. The objective of k-means clustering is to minimize the within-cluster sum of squares (WCSS), which is given by:\n",
    "\n",
    "$$\n",
    "\\sum_{i=1}^k \\sum_{x \\in c_i} ||x - \\mu_i||^2\n",
    "$$\n",
    "\n",
    "where $\\mu_i$ is the mean of the data points in cluster $c_i$.\n",
    "\n",
    "The k-means clustering algorithm works by iteratively assigning each data point to the cluster with the nearest centroid and then updating the centroid of each cluster based on the mean of the data points assigned to it. The algorithm terminates when the assignments no longer change.\n",
    "\n",
    "The assignment step can be expressed mathematically as:\n",
    "\n",
    "$$\n",
    "c_i = \\{x : ||x - \\mu_i|| \\leq ||x - \\mu_j|| \\text{ for all } 1 \\leq j \\leq k\\}\n",
    "$$\n",
    "\n",
    "Meaning: cluster $c_i$ constitutes of points $x$ whose distance to $\\mu_i$, which is the existing centroid of $c_i$ is the lowest as compared to the other cluster centroids $\\mu_j$. \n",
    "\n",
    "The update step can be expressed mathematically as:\n",
    "\n",
    "$$\n",
    "\\mu_i = \\frac{1}{|c_i|} \\sum_{x \\in c_i} x\n",
    "$$\n",
    "\n",
    "#### Algorithm\n",
    "\n",
    "1) Choose the number of clusters k\n",
    "\n",
    "2) Initialize the centroids for each cluster\n",
    "\n",
    "3) Assign each point to the closest cluster centroid\n",
    "\n",
    "4) Compute the two centroids of newly formed clusters\n",
    "\n",
    "5) Repeat the previous two steps, until there is no change in the centroid positions\n",
    "\n",
    "### Illustration\n",
    "\n",
    "![KMeans_GIF](K-means_convergence.gif)\n",
    "\n",
    "##### Note: KMeans clustering predicts the clusters to which the samples belong. Hence, their outputs are not the labels itself and need to be mapped to the corresponding labels."
   ]
  },
  {
   "cell_type": "markdown",
   "id": "7dbb4e53",
   "metadata": {},
   "source": [
    "#### ORIGINAL CODE\n",
    "\n",
    "```Python\n",
    "class My_KMeans:\n",
    "    def __init__(self, n_clusters, centroids = None, max_iter=300, tol=1e-6):\n",
    "        self.n_clusters = n_clusters\n",
    "        self.max_iter = max_iter\n",
    "        self.tol = tol\n",
    "        self.centroids = centroids\n",
    "\n",
    "    def fit(self, X):\n",
    "        n_samples, n_features = X.shape\n",
    "        \n",
    "        # initialize centroids for clusters\n",
    "        if self.centroids == None:\n",
    "        # Randomly initialize the centroids as k random samples from X\n",
    "            random_indices = np.random.choice(n_samples, self.n_clusters, replace=False)\n",
    "            #random_indices = np.arange(0, self.n_clusters, 1) \n",
    "            self.centroids = X[random_indices]\n",
    "\n",
    "        for _ in range(self.max_iter):\n",
    "            # Assign clusters based on the closest centroid\n",
    "            distances = self._compute_distances(X)\n",
    "            self.labels_ = np.argmin(distances, axis=1)\n",
    "\n",
    "            # Compute new centroids\n",
    "            # for each cluster 'i', its centroid is computed by taking the mean of all points\n",
    "            new_centroids = np.array([X[self.labels_ == i].mean(axis=0) for i in range(self.n_clusters)])\n",
    "            \n",
    "            # Check for convergence (criteria: change in the centroid positions is less than tolerance)\n",
    "            if np.all(np.abs(new_centroids - self.centroids) <= self.tol):\n",
    "                break\n",
    "            \n",
    "            # update centroids\n",
    "            self.centroids = new_centroids\n",
    "\n",
    "    def predict(self, X):\n",
    "        distances = self._compute_distances(X)\n",
    "        return np.argmin(distances, axis=1)\n",
    "\n",
    "    def _compute_distances(self, X):\n",
    "        return np.linalg.norm(X[:, np.newaxis] - self.centroids, axis=2)\n",
    " "
   ]
  },
  {
   "cell_type": "code",
   "execution_count": 277,
   "id": "01600935",
   "metadata": {},
   "outputs": [],
   "source": [
    "np.random.seed(10)\n",
    "A = np.random.rand(100).reshape(50, 2) # 50 points, 2 dim each\n"
   ]
  },
  {
   "cell_type": "code",
   "execution_count": 278,
   "id": "da135dff",
   "metadata": {},
   "outputs": [
    {
     "data": {
      "text/plain": [
       "<matplotlib.collections.PathCollection at 0x1585ba3f9a0>"
      ]
     },
     "execution_count": 278,
     "metadata": {},
     "output_type": "execute_result"
    },
    {
     "data": {
      "image/png": "[encoded data removed]",
      "text/plain": [
       "<Figure size 432x288 with 1 Axes>"
      ]
     },
     "metadata": {
      "needs_background": "light"
     },
     "output_type": "display_data"
    }
   ],
   "source": [
    "cs = np.random.choice(np.arange(A.shape[0]), 3)\n",
    "np.random.seed(10)\n",
    "centroid_randoms = A[cs]\n",
    "\n",
    "plt.scatter(A[:, 0], A[:, 1], color = 'blue')\n",
    "plt.scatter(centroid_randoms[:, 0], centroid_randoms[:, 1], color = 'red')"
   ]
  },
  {
   "cell_type": "code",
   "execution_count": 279,
   "id": "a767645d",
   "metadata": {},
   "outputs": [
    {
     "name": "stdout",
     "output_type": "stream",
     "text": [
      "(50, 3)\n",
      "[0.46856991 0.66011861 0.18303316 0.60900007 0.17418505 0.86661971\n",
      " 0.47321711 0.6614687  0.41605595 0.80795478 0.21823185 0.51135944\n",
      " 0.29307111 0.45453531 0.54375245 0.59775332 0.60318564 0.27140333\n",
      " 0.69655982 0.53888557 0.69093253 0.70331594 0.59021098 0.71952762\n",
      " 0.         0.09803853 0.4957879  0.78144531 0.72335594 0.50800524\n",
      " 0.7863079  0.47379641 0.34475391 0.28317948 0.60883667 0.38921446\n",
      " 0.47159405 0.12368609 0.81562005 0.6075385  0.44705127 0.2891517\n",
      " 0.14177378 0.08026332 0.46286934 0.19676023 0.85471212 0.33033791\n",
      " 0.70752011 0.35485493]\n",
      "0.46856990526797526\n"
     ]
    }
   ],
   "source": [
    "distances = np.linalg.norm(A[:, np.newaxis] - centroid_randoms, axis=2) #recall, the norm in this case is a scalar\n",
    "# distances of 50 points from the centroids\n",
    "# [[50 distances centroid 1], [50 distances centroid 2], [50 distances centroid 3]]\n",
    "# each distance is of dimension 2 (since our data origianlly is of dimension 2)\n",
    "\n",
    "print(distances.shape)\n",
    "print(distances[:, 0])\n",
    "distance_1_c1 = np.linalg.norm(A[0] - centroid_randoms[0])\n",
    "print(distance_1_c1)"
   ]
  },
  {
   "cell_type": "code",
   "execution_count": 280,
   "id": "b7e3db29",
   "metadata": {},
   "outputs": [
    {
     "name": "stdout",
     "output_type": "stream",
     "text": [
      "(50, 2)\n",
      "(50, 1, 2)\n"
     ]
    }
   ],
   "source": [
    "print(A.shape)\n",
    "print(A[:, np.newaxis, :].shape) #(n_samples, n_clusters, n_features)"
   ]
  },
  {
   "cell_type": "code",
   "execution_count": 281,
   "id": "8a7b9f23",
   "metadata": {},
   "outputs": [],
   "source": [
    "\n",
    "class My_KMeans:\n",
    "    def __init__(self, n_clusters, centroids=None, max_iter=300, tol=1e-6):\n",
    "        \"\"\"\n",
    "        Initialize the KMeans clustering algorithm.\n",
    "        Args:\n",
    "        - n_clusters: The number of clusters to form.\n",
    "        - centroids: Initial position of centroids, if provided.\n",
    "        - max_iter: Maximum number of iterations of the KMeans algorithm for a single run.\n",
    "        - tol: Tolerance to declare convergence.\n",
    "        \"\"\"\n",
    "        self.n_clusters = n_clusters\n",
    "        self.max_iter = max_iter\n",
    "        self.tol = tol\n",
    "        self.centroids = centroids\n",
    "\n",
    "    def fit(self, X):\n",
    "        \"\"\"\n",
    "        Compute KMeans clustering.\n",
    "        Args:\n",
    "        - X: ndarray of shape (n_samples, n_features)\n",
    "        \"\"\"\n",
    "        n_samples, n_features = X.shape\n",
    "        \n",
    "        # Initialize centroids for clusters\n",
    "        if self.centroids is None:\n",
    "            # Randomly initialize the centroids as k random samples from X\n",
    "            random_indices = np.random.choice(n_samples, self.n_clusters, replace=False)\n",
    "            self.centroids = X[random_indices]\n",
    "\n",
    "        for _ in range(self.max_iter):\n",
    "            # Assign clusters based on the closest centroid\n",
    "            distances = self._compute_distances(X)\n",
    "            self.labels_ = np.argmin(distances, axis=1)\n",
    "\n",
    "            # Compute new centroids\n",
    "            new_centroids = np.array([X[self.labels_ == i].mean(axis=0) for i in range(self.n_clusters)])\n",
    "            \n",
    "            # Check for convergence (criteria: change in the centroid positions is less than tolerance)\n",
    "            if np.all(np.linalg.norm(new_centroids - self.centroids, axis=1) <= self.tol):\n",
    "                break\n",
    "            \n",
    "            # Update centroids\n",
    "            self.centroids = new_centroids\n",
    "\n",
    "    def predict(self, X):\n",
    "        \"\"\"\n",
    "        Predict the closest cluster each sample in X belongs to.\n",
    "        Args:\n",
    "        - X: ndarray of shape (n_samples, n_features)\n",
    "        \n",
    "        Returns:\n",
    "        - labels: Index of the cluster each sample belongs to.\n",
    "        \"\"\"\n",
    "        distances = self._compute_distances(X)\n",
    "        return np.argmin(distances, axis=1)\n",
    "\n",
    "    def _compute_distances(self, X):\n",
    "        \"\"\"\n",
    "        Compute the distance between each point in X and the centroids.\n",
    "        Args:\n",
    "        - X: ndarray of shape (n_samples, n_features)\n",
    "        \n",
    "        Returns:\n",
    "        - distances: Array of distances of each sample to each centroid.\n",
    "        \"\"\"\n",
    "        # Calculate Euclidean distance\n",
    "        return np.linalg.norm(X[:, np.newaxis] - self.centroids, axis=2)\n",
    "\n",
    "\n"
   ]
  },
  {
   "cell_type": "code",
   "execution_count": 282,
   "id": "f0d976a7",
   "metadata": {},
   "outputs": [],
   "source": [
    "def map_kmeans_labels_to_original(kmeans_labels, original_labels):\n",
    "    \"\"\"\n",
    "    Map KMeans cluster labels to the most common original label in each cluster.\n",
    "\n",
    "    Parameters:\n",
    "    - kmeans_labels (np.array): Array of labels generated by KMeans.\n",
    "    - original_labels (np.array): Array of original labels for the data.\n",
    "\n",
    "    Returns:\n",
    "    - np.array: Array of original labels mapped from KMeans labels.\n",
    "    \"\"\"\n",
    "    # Initialize an empty dictionary to store the mapping from KMeans labels to original labels\n",
    "    label_mapping = {}\n",
    "\n",
    "    # Identify the most common original label in each cluster\n",
    "    for cluster_label in np.unique(kmeans_labels):\n",
    "        # Find indices where the cluster label matches\n",
    "        indices = np.where(kmeans_labels == cluster_label)\n",
    "        # Extract original labels corresponding to these indices\n",
    "        original_labels_in_cluster = original_labels[indices]\n",
    "        # Find the most frequent label\n",
    "        values, counts = np.unique(original_labels_in_cluster, return_counts=True)\n",
    "        most_common_label = values[np.argmax(counts)]\n",
    "        # Map the cluster label to the most common original label\n",
    "        label_mapping[cluster_label] = most_common_label\n",
    "    \n",
    "    \n",
    "    # Apply the mapping to the KMeans labels to create a mapped label array\n",
    "    mapped_labels = np.array([label_mapping[label] for label in kmeans_labels])\n",
    "\n",
    "    return mapped_labels, label_mapping"
   ]
  },
  {
   "cell_type": "code",
   "execution_count": 283,
   "id": "c3f026b0",
   "metadata": {},
   "outputs": [
    {
     "name": "stdout",
     "output_type": "stream",
     "text": [
      "Test accuracy with my KMeans:  0.6818\n"
     ]
    }
   ],
   "source": [
    "my_kmeans = My_KMeans(n_clusters = 4)\n",
    "my_kmeans.fit(X_train_reduced)\n",
    "\n",
    "clusters_test_my = my_kmeans.predict(X_test_reduced)\n",
    "y_test_pred_my_kmeans, _ = map_kmeans_labels_to_original(clusters_test_my, y_test)\n",
    "\n",
    "test_accuracy_my_kmeans = np.mean(y_test_pred_my_kmeans == y_test)\n",
    "print(\"Test accuracy with my KMeans: \", test_accuracy_my_kmeans.round(4))"
   ]
  },
  {
   "cell_type": "code",
   "execution_count": 284,
   "id": "371ecbbf",
   "metadata": {},
   "outputs": [
    {
     "name": "stdout",
     "output_type": "stream",
     "text": [
      "{0: 7.0, 1: 3.0, 2: 1.0, 3: 5.0}\n"
     ]
    }
   ],
   "source": [
    "# This step is necessary for plotting the decision boundary of KMeans clustering correctly\n",
    "# Convert test labels to cluster indices \n",
    "\n",
    "_, key = map_kmeans_labels_to_original(clusters_test_my, y_test)\n",
    "print(key)\n",
    "\n",
    "y_test_clusters = y_test.copy()\n",
    "\n",
    "for k, v in key.items():\n",
    "    cluster = k\n",
    "    label = v\n",
    "    y_test_clusters[y_test == label] = cluster\n",
    "    \n",
    "#print(y_test_clusters)"
   ]
  },
  {
   "cell_type": "code",
   "execution_count": 285,
   "id": "592a123f",
   "metadata": {
    "scrolled": true
   },
   "outputs": [
    {
     "data": {
      "image/png": "[encoded data removed]",
      "text/plain": [
       "<Figure size 432x288 with 1 Axes>"
      ]
     },
     "metadata": {
      "needs_background": "light"
     },
     "output_type": "display_data"
    }
   ],
   "source": [
    "\n",
    "plot_decision_boundary(my_kmeans, X_test_reduced, y_test_clusters, title = 'Decision boundary for my implemented of KMeans clustering', key = key)\n"
   ]
  },
  {
   "cell_type": "markdown",
   "id": "5127ec0d",
   "metadata": {},
   "source": [
    "## K-Means Clustering with Scikit Learn\n",
    "\n",
    "Lets see the sklearn approach of using K-Means"
   ]
  },
  {
   "cell_type": "code",
   "execution_count": 286,
   "id": "88ed8744",
   "metadata": {},
   "outputs": [
    {
     "name": "stderr",
     "output_type": "stream",
     "text": [
      "C:\\Users\\narkh\\anaconda3\\lib\\site-packages\\sklearn\\cluster\\_kmeans.py:1440: UserWarning: KMeans is known to have a memory leak on Windows with MKL, when there are less chunks than available threads. You can avoid it by setting the environment variable OMP_NUM_THREADS=2.\n",
      "  warnings.warn(\n"
     ]
    },
    {
     "data": {
      "text/html": [
       "<style>#sk-container-id-9 {color: black;}#sk-container-id-9 pre{padding: 0;}#sk-container-id-9 div.sk-toggleable {background-color: white;}#sk-container-id-9 label.sk-toggleable__label {cursor: pointer;display: block;width: 100%;margin-bottom: 0;padding: 0.3em;box-sizing: border-box;text-align: center;}#sk-container-id-9 label.sk-toggleable__label-arrow:before {content: \"▸\";float: left;margin-right: 0.25em;color: #696969;}#sk-container-id-9 label.sk-toggleable__label-arrow:hover:before {color: black;}#sk-container-id-9 div.sk-estimator:hover label.sk-toggleable__label-arrow:before {color: black;}#sk-container-id-9 div.sk-toggleable__content {max-height: 0;max-width: 0;overflow: hidden;text-align: left;background-color: #f0f8ff;}#sk-container-id-9 div.sk-toggleable__content pre {margin: 0.2em;color: black;border-radius: 0.25em;background-color: #f0f8ff;}#sk-container-id-9 input.sk-toggleable__control:checked~div.sk-toggleable__content {max-height: 200px;max-width: 100%;overflow: auto;}#sk-container-id-9 input.sk-toggleable__control:checked~label.sk-toggleable__label-arrow:before {content: \"▾\";}#sk-container-id-9 div.sk-estimator input.sk-toggleable__control:checked~label.sk-toggleable__label {background-color: #d4ebff;}#sk-container-id-9 div.sk-label input.sk-toggleable__control:checked~label.sk-toggleable__label {background-color: #d4ebff;}#sk-container-id-9 input.sk-hidden--visually {border: 0;clip: rect(1px 1px 1px 1px);clip: rect(1px, 1px, 1px, 1px);height: 1px;margin: -1px;overflow: hidden;padding: 0;position: absolute;width: 1px;}#sk-container-id-9 div.sk-estimator {font-family: monospace;background-color: #f0f8ff;border: 1px dotted black;border-radius: 0.25em;box-sizing: border-box;margin-bottom: 0.5em;}#sk-container-id-9 div.sk-estimator:hover {background-color: #d4ebff;}#sk-container-id-9 div.sk-parallel-item::after {content: \"\";width: 100%;border-bottom: 1px solid gray;flex-grow: 1;}#sk-container-id-9 div.sk-label:hover label.sk-toggleable__label {background-color: #d4ebff;}#sk-container-id-9 div.sk-serial::before {content: \"\";position: absolute;border-left: 1px solid gray;box-sizing: border-box;top: 0;bottom: 0;left: 50%;z-index: 0;}#sk-container-id-9 div.sk-serial {display: flex;flex-direction: column;align-items: center;background-color: white;padding-right: 0.2em;padding-left: 0.2em;position: relative;}#sk-container-id-9 div.sk-item {position: relative;z-index: 1;}#sk-container-id-9 div.sk-parallel {display: flex;align-items: stretch;justify-content: center;background-color: white;position: relative;}#sk-container-id-9 div.sk-item::before, #sk-container-id-9 div.sk-parallel-item::before {content: \"\";position: absolute;border-left: 1px solid gray;box-sizing: border-box;top: 0;bottom: 0;left: 50%;z-index: -1;}#sk-container-id-9 div.sk-parallel-item {display: flex;flex-direction: column;z-index: 1;position: relative;background-color: white;}#sk-container-id-9 div.sk-parallel-item:first-child::after {align-self: flex-end;width: 50%;}#sk-container-id-9 div.sk-parallel-item:last-child::after {align-self: flex-start;width: 50%;}#sk-container-id-9 div.sk-parallel-item:only-child::after {width: 0;}#sk-container-id-9 div.sk-dashed-wrapped {border: 1px dashed gray;margin: 0 0.4em 0.5em 0.4em;box-sizing: border-box;padding-bottom: 0.4em;background-color: white;}#sk-container-id-9 div.sk-label label {font-family: monospace;font-weight: bold;display: inline-block;line-height: 1.2em;}#sk-container-id-9 div.sk-label-container {text-align: center;}#sk-container-id-9 div.sk-container {/* jupyter's `normalize.less` sets `[hidden] { display: none; }` but bootstrap.min.css set `[hidden] { display: none !important; }` so we also need the `!important` here to be able to override the default hidden behavior on the sphinx rendered scikit-learn.org. See: https://github.com/scikit-learn/scikit-learn/issues/21755 */display: inline-block !important;position: relative;}#sk-container-id-9 div.sk-text-repr-fallback {display: none;}</style><div id=\"sk-container-id-9\" class=\"sk-top-container\"><div class=\"sk-text-repr-fallback\"><pre>KMeans(n_clusters=3, n_init=&#x27;auto&#x27;, random_state=0, tol=1e-06)</pre><b>In a Jupyter environment, please rerun this cell to show the HTML representation or trust the notebook. <br />On GitHub, the HTML representation is unable to render, please try loading this page with nbviewer.org.</b></div><div class=\"sk-container\" hidden><div class=\"sk-item\"><div class=\"sk-estimator sk-toggleable\"><input class=\"sk-toggleable__control sk-hidden--visually\" id=\"sk-estimator-id-9\" type=\"checkbox\" checked><label for=\"sk-estimator-id-9\" class=\"sk-toggleable__label sk-toggleable__label-arrow\">KMeans</label><div class=\"sk-toggleable__content\"><pre>KMeans(n_clusters=3, n_init=&#x27;auto&#x27;, random_state=0, tol=1e-06)</pre></div></div></div></div></div>"
      ],
      "text/plain": [
       "KMeans(n_clusters=3, n_init='auto', random_state=0, tol=1e-06)"
      ]
     },
     "execution_count": 286,
     "metadata": {},
     "output_type": "execute_result"
    }
   ],
   "source": [
    "# we shall use the data with reduced dimensionality to two principal components\n",
    "\n",
    "from sklearn.cluster import KMeans as sk_KMeans\n",
    "\n",
    "sk_kmeans = sk_KMeans(n_clusters = 3, random_state = 0, n_init = \"auto\", max_iter=300, tol=1e-6)\n",
    "sk_kmeans.fit(X_train_reduced)"
   ]
  },
  {
   "cell_type": "code",
   "execution_count": 287,
   "id": "fca353be",
   "metadata": {},
   "outputs": [
    {
     "name": "stdout",
     "output_type": "stream",
     "text": [
      "Test accuracy with sklearn KMeans:  0.6667\n"
     ]
    }
   ],
   "source": [
    "clusters_test_sk = sk_kmeans.predict(X_test_reduced)\n",
    "y_test_pred_sk_kmeans, key = map_kmeans_labels_to_original(clusters_test_sk, y_test)\n",
    "\n",
    "test_accuracy_sk_kmeans = np.mean(y_test_pred_sk_kmeans == y_test)\n",
    "print(\"Test accuracy with sklearn KMeans: \", test_accuracy_sk_kmeans.round(4))"
   ]
  },
  {
   "cell_type": "code",
   "execution_count": 288,
   "id": "ee9ddb14",
   "metadata": {},
   "outputs": [
    {
     "name": "stdout",
     "output_type": "stream",
     "text": [
      "{0: 1.0, 1: 7.0, 2: 3.0}\n"
     ]
    }
   ],
   "source": [
    "# This step is necessary for plotting the decision boundary of KMeans clustering correctly\n",
    "# Convert test labels to cluster indices \n",
    "\n",
    "_, key = map_kmeans_labels_to_original(clusters_test_sk, y_test)\n",
    "print(key)\n",
    "\n",
    "y_test_clusters = y_test.copy()\n",
    "\n",
    "for k, v in key.items():\n",
    "    cluster = k\n",
    "    label = v\n",
    "    y_test_clusters[y_test == label] = cluster\n",
    "    \n",
    "#print(y_test_clusters)"
   ]
  },
  {
   "cell_type": "code",
   "execution_count": 289,
   "id": "a669525e",
   "metadata": {
    "scrolled": true
   },
   "outputs": [
    {
     "data": {
      "image/png": "[encoded data removed]",
      "text/plain": [
       "<Figure size 432x288 with 1 Axes>"
      ]
     },
     "metadata": {
      "needs_background": "light"
     },
     "output_type": "display_data"
    }
   ],
   "source": [
    "plot_decision_boundary(sk_kmeans, X_test_reduced, y_test_clusters, title = 'Decision boundary for my sklearn KMeans clustering', key = key)\n",
    "\n"
   ]
  },
  {
   "cell_type": "code",
   "execution_count": 290,
   "id": "701ee2b1",
   "metadata": {},
   "outputs": [
    {
     "name": "stdout",
     "output_type": "stream",
     "text": [
      "No of misclassficiations of my KMeans:  42\n",
      "No of misclassficiations of sklearn KMeans:  44\n"
     ]
    }
   ],
   "source": [
    "print(\"No of misclassficiations of my KMeans: \", np.sum(y_test_pred_my_kmeans != y_test))\n",
    "\n",
    "print(\"No of misclassficiations of sklearn KMeans: \", np.sum(y_test_pred_sk_kmeans != y_test))"
   ]
  },
  {
   "cell_type": "markdown",
   "id": "90f85222",
   "metadata": {},
   "source": [
    "## Impact of scaling data \n",
    "\n",
    "For distance based methods such as K-Nearest Neighbors and KMeans Clustering, scaling the data before applying the method is necessary. The code blocks below show the effect of scaling the data. \n",
    "\n",
    "### Mathematical Explanation\n",
    "\n",
    "Consider two features in a dataset, $A$ and $B$. Suppose $A$ ranges from 0 to 1000, and $B$ ranges from 0 to 1. The Euclidean distance $d$ between two points $x = (x_A, x_B)$ and $y = (y_A, y_B)$ is calculated as:\n",
    "\n",
    "$$\n",
    "dist(x, y) = \\sqrt{(x_A - y_A)^2 + (x_B - y_B)^2}\n",
    "$$\n",
    "\n",
    "Here, the larger scale of $A$ will dominate the distance calculation, making changes in $B$ almost irrelevant, even if they are crucial for clustering or classification. This demonstrates the need for feature scaling.\n",
    "\n",
    "The image below shows the effect on K-Nearest Neighbors method if scaling is not done. \n",
    "\n",
    "![scaling_impact](\"scaling_importance.png\")\n",
    "\n",
    "The detailed code for this example can be found here: https://scikit-learn.org/stable/auto_examples/preprocessing/plot_scaling_importance.html#sphx-glr-auto-examples-preprocessing-plot-scaling-importance-py"
   ]
  },
  {
   "cell_type": "markdown",
   "id": "c7b15413",
   "metadata": {},
   "source": [
    "## Hyperparameters\n",
    "\n",
    "### How to decide the hyperparameters here ? :\n",
    "\n",
    "1) Number of neighbours in knn.\n",
    "\n",
    "2) Number of clusters in kmeans.\n",
    "\n",
    "3) Appropriate number of principal components.\n",
    "\n",
    "Let us consider the case of KNN, where we have to decide the best set of parameter pairs of number of principal components and number of nearest neighbors. \n",
    "\n",
    "Approach: \n",
    "\n",
    "### Cross-Validation\n",
    "\n",
    "![kfold_validation.png](kfold_validation.png)\n",
    "\n",
    "\n",
    "### Grid Search\n",
    "\n",
    "Grid search exhaustively generates all the possible (hyper-)parameter combinations from the given set of parameter values. Then it trains the model with all these combinaitions of hyperparameter, computes the performance metric and returns the parameters that lead to the best performance. "
   ]
  },
  {
   "cell_type": "code",
   "execution_count": 291,
   "id": "f9441fd2",
   "metadata": {},
   "outputs": [
    {
     "name": "stdout",
     "output_type": "stream",
     "text": [
      "[{'n_neighbors': 3, 'n_components': 10}, {'n_neighbors': 3, 'n_components': 20}, {'n_neighbors': 3, 'n_components': 30}, {'n_neighbors': 3, 'n_components': 40}, {'n_neighbors': 3, 'n_components': 50}, {'n_neighbors': 5, 'n_components': 10}, {'n_neighbors': 5, 'n_components': 20}, {'n_neighbors': 5, 'n_components': 30}, {'n_neighbors': 5, 'n_components': 40}, {'n_neighbors': 5, 'n_components': 50}, {'n_neighbors': 7, 'n_components': 10}, {'n_neighbors': 7, 'n_components': 20}, {'n_neighbors': 7, 'n_components': 30}, {'n_neighbors': 7, 'n_components': 40}, {'n_neighbors': 7, 'n_components': 50}] 15\n"
     ]
    }
   ],
   "source": [
    "# Example parameter grid\n",
    "param_grid = {\n",
    "    'n_neighbors': [3, 5, 7],\n",
    "    'n_components': [10, 20, 30, 40, 50]\n",
    "}\n",
    "\n",
    "param_combos = []\n",
    "    \n",
    "for n_neighbor in param_grid['n_neighbors']:\n",
    "    for n_component in param_grid['n_components']:\n",
    "        \n",
    "        param_combo = {\n",
    "            'n_neighbors': n_neighbor,\n",
    "            'n_components': n_component\n",
    "        }\n",
    "        param_combos.append(param_combo)\n",
    "        \n",
    "print(param_combos, len(param_combos))"
   ]
  },
  {
   "cell_type": "code",
   "execution_count": 292,
   "id": "20b1d7b0",
   "metadata": {},
   "outputs": [],
   "source": [
    "def k_fold_split(X, y, k=5):\n",
    "    \"\"\"Splits data into k folds for cross-validation\"\"\"\n",
    "    fold_size = len(X) // k\n",
    "    indices = np.arange(len(X))\n",
    "    #np.random.shuffle(indices)\n",
    "    \n",
    "    folds = []\n",
    "    for i in range(k):\n",
    "        val_indices = indices[i * fold_size: (i + 1) * fold_size]\n",
    "        train_indices = np.setdiff1d(indices, val_indices)\n",
    "        folds.append((train_indices, val_indices))\n",
    "    \n",
    "    return folds\n",
    "\n",
    "\n",
    "from tqdm import tqdm\n",
    "\n",
    "def grid_search_cv(X, y, param_grid, k_folds = 5, model = 'kmeans', centroids = None):\n",
    "    \n",
    "    best_score = -np.inf\n",
    "    best_params = None\n",
    "    \n",
    "    param_combinations = []\n",
    "    \n",
    "    if model == 'knn':\n",
    "    \n",
    "        for n_neighbor in param_grid['n_neighbors']:\n",
    "            for n_component in param_grid['n_components']:\n",
    "        \n",
    "                param_combo = {\n",
    "                    'n_neighbors': n_neighbor,\n",
    "                    'n_components': n_component\n",
    "                }\n",
    "                param_combinations.append(param_combo)\n",
    "                \n",
    "                \n",
    "    elif model == 'kmeans':\n",
    "        \n",
    "        for n_clusters in param_grid['n_clusters']:\n",
    "            for n_component in param_grid['n_components']:\n",
    "                \n",
    "                param_combo = {\n",
    "                    'n_clusters': n_clusters,\n",
    "                    'n_components': n_component\n",
    "                }\n",
    "                param_combinations.append(param_combo)                \n",
    "    \n",
    "    folds = k_fold_split(X, y, k = k_folds)\n",
    "    \n",
    "    with tqdm(total=len(param_combinations) * k_folds, desc='Grid Search') as pbar:\n",
    "        for params in param_combinations: \n",
    "            cv_scores = []\n",
    "        \n",
    "            for train_indices, val_indices in folds: \n",
    "                X_train, X_val = X[train_indices], X[val_indices]\n",
    "                y_train, y_val = y[train_indices], y[val_indices]\n",
    "            \n",
    "                #apply PCA\n",
    "                mypca = MyPCA(params['n_components'])\n",
    "                mypca.fit(X_train)\n",
    "                X_train_pca = mypca.transform(X_train)\n",
    "                X_val_pca = mypca.transform(X_val)\n",
    "            \n",
    "                #train with KNN\n",
    "                if model == 'knn':\n",
    "                \n",
    "                    knn = My_KNeighborsClassifier(k = params['n_neighbors'])\n",
    "                    knn.fit(X_train_pca, y_train)\n",
    "            \n",
    "                    #validate model\n",
    "                    #y_val_pred = knn.predict(X_val_pca)\n",
    "                    accuracy = knn.evaluate(X_val_pca, y_val)\n",
    "                    cv_scores.append(accuracy)\n",
    "                \n",
    "                elif model == 'kmeans':\n",
    "                    \n",
    "                    kmeans = My_KMeans(n_clusters = params['n_clusters'])\n",
    "                    kmeans.fit(X_train_pca)\n",
    "                    \n",
    "                    #validate model\n",
    "                    y_val_pred = kmeans.predict(X_val_pca)\n",
    "                    accuracy = np.mean(y_val_pred == y_val)\n",
    "                    cv_scores.append(accuracy)\n",
    "                \n",
    "                pbar.update(1)\n",
    "                \n",
    "            mean_cv_score = np.mean(cv_scores)\n",
    "        \n",
    "            if mean_cv_score > best_score:\n",
    "                best_score = mean_cv_score\n",
    "                best_params = params\n",
    "    \n",
    "    return best_params, best_score"
   ]
  },
  {
   "cell_type": "code",
   "execution_count": 293,
   "id": "b81aecb9",
   "metadata": {},
   "outputs": [
    {
     "name": "stderr",
     "output_type": "stream",
     "text": [
      "Grid Search:   0%|                                                                              | 0/60 [00:00<?, ?it/s]<ipython-input-268-ceee616328f7>:17: FutureWarning: Unlike other reduction functions (e.g. `skew`, `kurtosis`), the default behavior of `mode` typically preserves the axis it acts along. In SciPy 1.11.0, this behavior will change: the default value of `keepdims` will become False, the `axis` over which the statistic is taken will be eliminated, and the value None will no longer be accepted. Set `keepdims` to True or False to avoid this warning.\n",
      "  return mode(lst).mode[0]\n",
      "Grid Search: 100%|█████████████████████████████████████████████████████████████████████| 60/60 [00:45<00:00,  1.31it/s]"
     ]
    },
    {
     "name": "stdout",
     "output_type": "stream",
     "text": [
      "Best Parameters:  {'n_neighbors': 5, 'n_components': 20}\n",
      "Best Cross-Validation Accuracy: 0.8906\n"
     ]
    },
    {
     "name": "stderr",
     "output_type": "stream",
     "text": [
      "\n"
     ]
    }
   ],
   "source": [
    "# KNN hyperparameters: number of principal components, number of nearest neighbours\n",
    "\n",
    "# Example parameter grid\n",
    "param_grid = {\n",
    "    'n_neighbors': [5, 7, 9, 11],\n",
    "    'n_components': [10, 20, 30]\n",
    "}\n",
    "\n",
    "best_params, best_score = grid_search_cv(X_train, y_train, param_grid, k_folds = 5, model = 'knn')\n",
    "\n",
    "print(\"Best Parameters: \", best_params)\n",
    "print(\"Best Cross-Validation Accuracy: {:.4f}\".format(best_score))"
   ]
  },
  {
   "cell_type": "code",
   "execution_count": 294,
   "id": "b4f45afa",
   "metadata": {},
   "outputs": [
    {
     "name": "stdout",
     "output_type": "stream",
     "text": [
      "Best params accuracy for my KNN implementation:  0.9166666666666666\n"
     ]
    },
    {
     "name": "stderr",
     "output_type": "stream",
     "text": [
      "<ipython-input-268-ceee616328f7>:17: FutureWarning: Unlike other reduction functions (e.g. `skew`, `kurtosis`), the default behavior of `mode` typically preserves the axis it acts along. In SciPy 1.11.0, this behavior will change: the default value of `keepdims` will become False, the `axis` over which the statistic is taken will be eliminated, and the value None will no longer be accepted. Set `keepdims` to True or False to avoid this warning.\n",
      "  return mode(lst).mode[0]\n"
     ]
    }
   ],
   "source": [
    "my_pca_best = MyPCA(20)\n",
    "my_pca_best.fit(X_train)\n",
    "X_train_reduced = my_pca_best.transform(X_train)\n",
    "X_test_reduced = my_pca_best.transform(X_test)\n",
    "\n",
    "my_knn_best = My_KNeighborsClassifier(k = 5)\n",
    "my_knn_best.fit(X_train_reduced, y_train)\n",
    "\n",
    "y_test_knn_best_pred = my_knn_best.predict(X_test_reduced)\n",
    "best_knn_accuracy = np.mean(y_test_knn_best_pred == y_test)\n",
    "\n",
    "print(\"Best params accuracy for my KNN implementation: \", best_knn_accuracy)"
   ]
  },
  {
   "cell_type": "markdown",
   "id": "e7ab566d",
   "metadata": {},
   "source": [
    "### Your tasks: \n",
    "\n",
    "- Implement PCA using sklearn tools.\n",
    "\n",
    "- Implement KNeighborClassifier from sklearn tools.\n",
    "\n",
    "- Implement Grid Search and Cross-Validation using sklearn tools.\n",
    "\n",
    "- Use this for finding the best parameters for K-Nearest Neighbors, i.e. the number of principal components and the number of nearest neighbors. Use the following paramter ranges: \n",
    "    \n",
    "    ```Python\n",
    "    param_grid = {\n",
    "    'n_neighbors': range(1, 30),\n",
    "    'n_components': range(2, 50)\n",
    "     }\n",
    "    ```\n",
    "- How can you find the second best set of parameters?  \n",
    "\n",
    "- Implement all the steps, i.e. PCA, KNeighborsClassifer, Grid Search with Cross Validation using a Pipeline. "
   ]
  },
  {
   "cell_type": "code",
   "execution_count": null,
   "id": "a29f43fb",
   "metadata": {},
   "outputs": [],
   "source": []
  },
  {
   "cell_type": "code",
   "execution_count": null,
   "id": "ddefec45",
   "metadata": {},
   "outputs": [],
   "source": []
  },
  {
   "cell_type": "code",
   "execution_count": null,
   "id": "990fa291",
   "metadata": {},
   "outputs": [],
   "source": []
  },
  {
   "cell_type": "code",
   "execution_count": null,
   "id": "d28ecddb",
   "metadata": {},
   "outputs": [],
   "source": []
  }
 ],
 "metadata": {
  "kernelspec": {
   "display_name": "Python 3",
   "language": "python",
   "name": "python3"
  },
  "language_info": {
   "codemirror_mode": {
    "name": "ipython",
    "version": 3
   },
   "file_extension": ".py",
   "mimetype": "text/x-python",
   "name": "python",
   "nbconvert_exporter": "python",
   "pygments_lexer": "ipython3",
   "version": "3.8.8"
  }
 },
 "nbformat": 4,
 "nbformat_minor": 5
}
