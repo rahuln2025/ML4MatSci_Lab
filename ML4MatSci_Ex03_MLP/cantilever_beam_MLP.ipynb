{
 "cells": [
  {
   "cell_type": "markdown",
   "id": "b09f5426",
   "metadata": {},
   "source": [
    "# MLP Regression on Cantilever Beam Data\n",
    "\n",
    "## Objectives\n",
    "\n",
    "In this exercise, we shall: \n",
    "- Build and train a simple multi-layer perceptron (MLP) to predict displacements $(u_x, u_y)$ from coordinates $(x, y)$. \n",
    "- Perform train-test-validation, grid-search hyperparamter search using sklearn\n",
    "- Compare MLP accuracy agains interpolation methods from ```scipy.interpolate.griddata```\n",
    "\n",
    "## Problem Setup\n",
    "A 2D cantilever beam is modeled under small-strain, plane-strain conditions with linear-elastic behaviour:\n",
    "\n",
    "- Length $L$ = 1.0 m, Height $H$ = 0.1 m. \n",
    "- Young's Modulus $E$ = 210 GPa, Poisson's ratio $\\nu$ = 0.3\n",
    "- Constitutive Law: Hooke's law with Lame` coefficients:\n",
    "    $\\sigma = \\lambda tr(\\varepsilon)I + 2 \\mu \\varepsilon, $\n",
    "- Load: vertical tip load $P = 10^7 N$ is applied\n",
    "- Data: 500 random collocation points form the FEM displacement field:\n",
    "    - $(x, y, u_x, u_y)$ are used"
   ]
  },
  {
   "cell_type": "code",
   "execution_count": 146,
   "id": "e6545065",
   "metadata": {},
   "outputs": [],
   "source": [
    "import numpy as np\n",
    "import pandas as pd\n",
    "import matplotlib.pyplot as plt\n",
    "from sklearn.model_selection import train_test_split\n",
    "from sklearn.preprocessing import MinMaxScaler, Normalizer, StandardScaler"
   ]
  },
  {
   "cell_type": "markdown",
   "id": "4558db19",
   "metadata": {},
   "source": [
    "### Load Data & minimal EDA"
   ]
  },
  {
   "cell_type": "code",
   "execution_count": 147,
   "id": "9265f38d",
   "metadata": {},
   "outputs": [
    {
     "data": {
      "text/html": [
       "<div>\n",
       "<style scoped>\n",
       "    .dataframe tbody tr th:only-of-type {\n",
       "        vertical-align: middle;\n",
       "    }\n",
       "\n",
       "    .dataframe tbody tr th {\n",
       "        vertical-align: top;\n",
       "    }\n",
       "\n",
       "    .dataframe thead th {\n",
       "        text-align: right;\n",
       "    }\n",
       "</style>\n",
       "<table border=\"1\" class=\"dataframe\">\n",
       "  <thead>\n",
       "    <tr style=\"text-align: right;\">\n",
       "      <th></th>\n",
       "      <th>x</th>\n",
       "      <th>y</th>\n",
       "      <th>u_x</th>\n",
       "      <th>u_y</th>\n",
       "      <th>eps_xx</th>\n",
       "      <th>eps_yy</th>\n",
       "      <th>gamma_xy</th>\n",
       "      <th>sigma_xx</th>\n",
       "      <th>sigma_yy</th>\n",
       "      <th>sigma_xy</th>\n",
       "    </tr>\n",
       "  </thead>\n",
       "  <tbody>\n",
       "    <tr>\n",
       "      <th>0</th>\n",
       "      <td>0.936923</td>\n",
       "      <td>0.066693</td>\n",
       "      <td>0.003758</td>\n",
       "      <td>-0.137362</td>\n",
       "      <td>0.000493</td>\n",
       "      <td>-0.000159</td>\n",
       "      <td>-0.000677</td>\n",
       "      <td>1.201380e+08</td>\n",
       "      <td>1.468900e+07</td>\n",
       "      <td>-5.471081e+07</td>\n",
       "    </tr>\n",
       "    <tr>\n",
       "      <th>1</th>\n",
       "      <td>0.930191</td>\n",
       "      <td>0.020165</td>\n",
       "      <td>-0.006714</td>\n",
       "      <td>-0.135846</td>\n",
       "      <td>-0.000997</td>\n",
       "      <td>0.000337</td>\n",
       "      <td>-0.001232</td>\n",
       "      <td>-2.411499e+08</td>\n",
       "      <td>-2.563624e+07</td>\n",
       "      <td>-9.949554e+07</td>\n",
       "    </tr>\n",
       "    <tr>\n",
       "      <th>2</th>\n",
       "      <td>0.390042</td>\n",
       "      <td>0.025915</td>\n",
       "      <td>-0.003411</td>\n",
       "      <td>-0.030205</td>\n",
       "      <td>-0.006844</td>\n",
       "      <td>0.002971</td>\n",
       "      <td>0.003032</td>\n",
       "      <td>-1.574743e+09</td>\n",
       "      <td>1.077775e+07</td>\n",
       "      <td>2.448636e+08</td>\n",
       "    </tr>\n",
       "    <tr>\n",
       "      <th>3</th>\n",
       "      <td>0.552140</td>\n",
       "      <td>0.055487</td>\n",
       "      <td>0.000991</td>\n",
       "      <td>-0.056597</td>\n",
       "      <td>0.001060</td>\n",
       "      <td>-0.002182</td>\n",
       "      <td>-0.005750</td>\n",
       "      <td>3.541303e+07</td>\n",
       "      <td>-4.882722e+08</td>\n",
       "      <td>-4.644431e+08</td>\n",
       "    </tr>\n",
       "    <tr>\n",
       "      <th>4</th>\n",
       "      <td>0.730129</td>\n",
       "      <td>0.056415</td>\n",
       "      <td>0.001345</td>\n",
       "      <td>-0.091807</td>\n",
       "      <td>0.000802</td>\n",
       "      <td>-0.001315</td>\n",
       "      <td>-0.000687</td>\n",
       "      <td>6.747795e+07</td>\n",
       "      <td>-2.744388e+08</td>\n",
       "      <td>-5.552037e+07</td>\n",
       "    </tr>\n",
       "  </tbody>\n",
       "</table>\n",
       "</div>"
      ],
      "text/plain": [
       "          x         y       u_x       u_y    eps_xx    eps_yy  gamma_xy  \\\n",
       "0  0.936923  0.066693  0.003758 -0.137362  0.000493 -0.000159 -0.000677   \n",
       "1  0.930191  0.020165 -0.006714 -0.135846 -0.000997  0.000337 -0.001232   \n",
       "2  0.390042  0.025915 -0.003411 -0.030205 -0.006844  0.002971  0.003032   \n",
       "3  0.552140  0.055487  0.000991 -0.056597  0.001060 -0.002182 -0.005750   \n",
       "4  0.730129  0.056415  0.001345 -0.091807  0.000802 -0.001315 -0.000687   \n",
       "\n",
       "       sigma_xx      sigma_yy      sigma_xy  \n",
       "0  1.201380e+08  1.468900e+07 -5.471081e+07  \n",
       "1 -2.411499e+08 -2.563624e+07 -9.949554e+07  \n",
       "2 -1.574743e+09  1.077775e+07  2.448636e+08  \n",
       "3  3.541303e+07 -4.882722e+08 -4.644431e+08  \n",
       "4  6.747795e+07 -2.744388e+08 -5.552037e+07  "
      ]
     },
     "execution_count": 147,
     "metadata": {},
     "output_type": "execute_result"
    }
   ],
   "source": [
    "# load data\n",
    "data = pd.read_csv(\"collocation_linear.csv\")\n",
    "data.head()\n"
   ]
  },
  {
   "cell_type": "code",
   "execution_count": 148,
   "id": "abed9619",
   "metadata": {},
   "outputs": [
    {
     "name": "stdout",
     "output_type": "stream",
     "text": [
      "Train size: 450, Test size: 50\n"
     ]
    }
   ],
   "source": [
    "# inputs: x, y, target: ux, uy\n",
    "X, y = data[[\"x\", \"y\"]], data[[\"u_x\", \"u_y\"]]\n",
    "# split test train\n",
    "X_train, X_test, y_train, y_test = train_test_split(X, y, test_size=0.1, random_state=42, shuffle=True)\n",
    "\n",
    "print(f\"Train size: {len(X_train)}, Test size: {len(X_test)}\")"
   ]
  },
  {
   "cell_type": "code",
   "execution_count": 149,
   "id": "1f7eb737",
   "metadata": {},
   "outputs": [
    {
     "data": {
      "image/png": "[encoded data removed]",
      "text/plain": [
       "<Figure size 500x500 with 4 Axes>"
      ]
     },
     "metadata": {},
     "output_type": "display_data"
    }
   ],
   "source": [
    "pd.concat((X_train, y_train)).hist(figsize=(5, 5), bins=10)\n",
    "plt.show()\n",
    "\n"
   ]
  },
  {
   "cell_type": "code",
   "execution_count": 150,
   "id": "8964df0f",
   "metadata": {},
   "outputs": [
    {
     "data": {
      "image/png": "[encoded data removed]",
      "text/plain": [
       "<Figure size 500x500 with 1 Axes>"
      ]
     },
     "metadata": {},
     "output_type": "display_data"
    }
   ],
   "source": [
    "X_train.boxplot(figsize=(5, 5))\n",
    "plt.show()"
   ]
  },
  {
   "cell_type": "markdown",
   "id": "1e767b9a",
   "metadata": {},
   "source": [
    "Data does not have any outliers. However, the inputs have very different scales"
   ]
  },
  {
   "cell_type": "code",
   "execution_count": 151,
   "id": "fc2b811c",
   "metadata": {},
   "outputs": [
    {
     "data": {
      "image/png": "[encoded data removed]",
      "text/plain": [
       "<Figure size 997.897x99.6157 with 2 Axes>"
      ]
     },
     "metadata": {},
     "output_type": "display_data"
    },
    {
     "data": {
      "image/png": "[encoded data removed]",
      "text/plain": [
       "<Figure size 997.897x99.6157 with 2 Axes>"
      ]
     },
     "metadata": {},
     "output_type": "display_data"
    }
   ],
   "source": [
    "# plot targets\n",
    "for col in pd.concat((X_train, y_train)).columns[2:]:\n",
    "    len_x = data[\"x\"].max() - data[\"x\"].min()\n",
    "    len_y = data[\"y\"].max() - data[\"y\"].min()\n",
    "    plt.figure(figsize=(10*len_x, 10*len_y))\n",
    "    plt.scatter(data[\"x\"], data[\"y\"], c=data[col])\n",
    "    plt.colorbar(label=col)\n",
    "    plt.xlabel(\"x\")\n",
    "    plt.ylabel(\"y\")\n",
    "    plt.title(f\"Scatter plot of {col} over (x, y)\")\n",
    "    plt.show()"
   ]
  },
  {
   "cell_type": "code",
   "execution_count": 152,
   "id": "3e3118a1",
   "metadata": {},
   "outputs": [
    {
     "data": {
      "image/png": "[encoded data removed]",
      "text/plain": [
       "<Figure size 640x480 with 1 Axes>"
      ]
     },
     "metadata": {},
     "output_type": "display_data"
    }
   ],
   "source": [
    "# Scale data \n",
    "scaler = StandardScaler()\n",
    "# scale inputs\n",
    "X_train_scaled = scaler.fit_transform(X_train)\n",
    "\n",
    "X_train_scaled = pd.DataFrame(X_train_scaled, columns = [\"x\", \"y\"])\n",
    "X_train_scaled.boxplot()\n",
    "plt.show()\n"
   ]
  },
  {
   "cell_type": "markdown",
   "id": "716c4392",
   "metadata": {},
   "source": [
    "Now, the scaled data has both inputs are in the same scale"
   ]
  },
  {
   "cell_type": "code",
   "execution_count": 153,
   "id": "b40a85b1",
   "metadata": {},
   "outputs": [
    {
     "data": {
      "text/html": [
       "<style>#sk-container-id-31 {\n",
       "  /* Definition of color scheme common for light and dark mode */\n",
       "  --sklearn-color-text: black;\n",
       "  --sklearn-color-line: gray;\n",
       "  /* Definition of color scheme for unfitted estimators */\n",
       "  --sklearn-color-unfitted-level-0: #fff5e6;\n",
       "  --sklearn-color-unfitted-level-1: #f6e4d2;\n",
       "  --sklearn-color-unfitted-level-2: #ffe0b3;\n",
       "  --sklearn-color-unfitted-level-3: chocolate;\n",
       "  /* Definition of color scheme for fitted estimators */\n",
       "  --sklearn-color-fitted-level-0: #f0f8ff;\n",
       "  --sklearn-color-fitted-level-1: #d4ebff;\n",
       "  --sklearn-color-fitted-level-2: #b3dbfd;\n",
       "  --sklearn-color-fitted-level-3: cornflowerblue;\n",
       "\n",
       "  /* Specific color for light theme */\n",
       "  --sklearn-color-text-on-default-background: var(--sg-text-color, var(--theme-code-foreground, var(--jp-content-font-color1, black)));\n",
       "  --sklearn-color-background: var(--sg-background-color, var(--theme-background, var(--jp-layout-color0, white)));\n",
       "  --sklearn-color-border-box: var(--sg-text-color, var(--theme-code-foreground, var(--jp-content-font-color1, black)));\n",
       "  --sklearn-color-icon: #696969;\n",
       "\n",
       "  @media (prefers-color-scheme: dark) {\n",
       "    /* Redefinition of color scheme for dark theme */\n",
       "    --sklearn-color-text-on-default-background: var(--sg-text-color, var(--theme-code-foreground, var(--jp-content-font-color1, white)));\n",
       "    --sklearn-color-background: var(--sg-background-color, var(--theme-background, var(--jp-layout-color0, #111)));\n",
       "    --sklearn-color-border-box: var(--sg-text-color, var(--theme-code-foreground, var(--jp-content-font-color1, white)));\n",
       "    --sklearn-color-icon: #878787;\n",
       "  }\n",
       "}\n",
       "\n",
       "#sk-container-id-31 {\n",
       "  color: var(--sklearn-color-text);\n",
       "}\n",
       "\n",
       "#sk-container-id-31 pre {\n",
       "  padding: 0;\n",
       "}\n",
       "\n",
       "#sk-container-id-31 input.sk-hidden--visually {\n",
       "  border: 0;\n",
       "  clip: rect(1px 1px 1px 1px);\n",
       "  clip: rect(1px, 1px, 1px, 1px);\n",
       "  height: 1px;\n",
       "  margin: -1px;\n",
       "  overflow: hidden;\n",
       "  padding: 0;\n",
       "  position: absolute;\n",
       "  width: 1px;\n",
       "}\n",
       "\n",
       "#sk-container-id-31 div.sk-dashed-wrapped {\n",
       "  border: 1px dashed var(--sklearn-color-line);\n",
       "  margin: 0 0.4em 0.5em 0.4em;\n",
       "  box-sizing: border-box;\n",
       "  padding-bottom: 0.4em;\n",
       "  background-color: var(--sklearn-color-background);\n",
       "}\n",
       "\n",
       "#sk-container-id-31 div.sk-container {\n",
       "  /* jupyter's `normalize.less` sets `[hidden] { display: none; }`\n",
       "     but bootstrap.min.css set `[hidden] { display: none !important; }`\n",
       "     so we also need the `!important` here to be able to override the\n",
       "     default hidden behavior on the sphinx rendered scikit-learn.org.\n",
       "     See: https://github.com/scikit-learn/scikit-learn/issues/21755 */\n",
       "  display: inline-block !important;\n",
       "  position: relative;\n",
       "}\n",
       "\n",
       "#sk-container-id-31 div.sk-text-repr-fallback {\n",
       "  display: none;\n",
       "}\n",
       "\n",
       "div.sk-parallel-item,\n",
       "div.sk-serial,\n",
       "div.sk-item {\n",
       "  /* draw centered vertical line to link estimators */\n",
       "  background-image: linear-gradient(var(--sklearn-color-text-on-default-background), var(--sklearn-color-text-on-default-background));\n",
       "  background-size: 2px 100%;\n",
       "  background-repeat: no-repeat;\n",
       "  background-position: center center;\n",
       "}\n",
       "\n",
       "/* Parallel-specific style estimator block */\n",
       "\n",
       "#sk-container-id-31 div.sk-parallel-item::after {\n",
       "  content: \"\";\n",
       "  width: 100%;\n",
       "  border-bottom: 2px solid var(--sklearn-color-text-on-default-background);\n",
       "  flex-grow: 1;\n",
       "}\n",
       "\n",
       "#sk-container-id-31 div.sk-parallel {\n",
       "  display: flex;\n",
       "  align-items: stretch;\n",
       "  justify-content: center;\n",
       "  background-color: var(--sklearn-color-background);\n",
       "  position: relative;\n",
       "}\n",
       "\n",
       "#sk-container-id-31 div.sk-parallel-item {\n",
       "  display: flex;\n",
       "  flex-direction: column;\n",
       "}\n",
       "\n",
       "#sk-container-id-31 div.sk-parallel-item:first-child::after {\n",
       "  align-self: flex-end;\n",
       "  width: 50%;\n",
       "}\n",
       "\n",
       "#sk-container-id-31 div.sk-parallel-item:last-child::after {\n",
       "  align-self: flex-start;\n",
       "  width: 50%;\n",
       "}\n",
       "\n",
       "#sk-container-id-31 div.sk-parallel-item:only-child::after {\n",
       "  width: 0;\n",
       "}\n",
       "\n",
       "/* Serial-specific style estimator block */\n",
       "\n",
       "#sk-container-id-31 div.sk-serial {\n",
       "  display: flex;\n",
       "  flex-direction: column;\n",
       "  align-items: center;\n",
       "  background-color: var(--sklearn-color-background);\n",
       "  padding-right: 1em;\n",
       "  padding-left: 1em;\n",
       "}\n",
       "\n",
       "\n",
       "/* Toggleable style: style used for estimator/Pipeline/ColumnTransformer box that is\n",
       "clickable and can be expanded/collapsed.\n",
       "- Pipeline and ColumnTransformer use this feature and define the default style\n",
       "- Estimators will overwrite some part of the style using the `sk-estimator` class\n",
       "*/\n",
       "\n",
       "/* Pipeline and ColumnTransformer style (default) */\n",
       "\n",
       "#sk-container-id-31 div.sk-toggleable {\n",
       "  /* Default theme specific background. It is overwritten whether we have a\n",
       "  specific estimator or a Pipeline/ColumnTransformer */\n",
       "  background-color: var(--sklearn-color-background);\n",
       "}\n",
       "\n",
       "/* Toggleable label */\n",
       "#sk-container-id-31 label.sk-toggleable__label {\n",
       "  cursor: pointer;\n",
       "  display: block;\n",
       "  width: 100%;\n",
       "  margin-bottom: 0;\n",
       "  padding: 0.5em;\n",
       "  box-sizing: border-box;\n",
       "  text-align: center;\n",
       "}\n",
       "\n",
       "#sk-container-id-31 label.sk-toggleable__label-arrow:before {\n",
       "  /* Arrow on the left of the label */\n",
       "  content: \"▸\";\n",
       "  float: left;\n",
       "  margin-right: 0.25em;\n",
       "  color: var(--sklearn-color-icon);\n",
       "}\n",
       "\n",
       "#sk-container-id-31 label.sk-toggleable__label-arrow:hover:before {\n",
       "  color: var(--sklearn-color-text);\n",
       "}\n",
       "\n",
       "/* Toggleable content - dropdown */\n",
       "\n",
       "#sk-container-id-31 div.sk-toggleable__content {\n",
       "  max-height: 0;\n",
       "  max-width: 0;\n",
       "  overflow: hidden;\n",
       "  text-align: left;\n",
       "  /* unfitted */\n",
       "  background-color: var(--sklearn-color-unfitted-level-0);\n",
       "}\n",
       "\n",
       "#sk-container-id-31 div.sk-toggleable__content.fitted {\n",
       "  /* fitted */\n",
       "  background-color: var(--sklearn-color-fitted-level-0);\n",
       "}\n",
       "\n",
       "#sk-container-id-31 div.sk-toggleable__content pre {\n",
       "  margin: 0.2em;\n",
       "  border-radius: 0.25em;\n",
       "  color: var(--sklearn-color-text);\n",
       "  /* unfitted */\n",
       "  background-color: var(--sklearn-color-unfitted-level-0);\n",
       "}\n",
       "\n",
       "#sk-container-id-31 div.sk-toggleable__content.fitted pre {\n",
       "  /* unfitted */\n",
       "  background-color: var(--sklearn-color-fitted-level-0);\n",
       "}\n",
       "\n",
       "#sk-container-id-31 input.sk-toggleable__control:checked~div.sk-toggleable__content {\n",
       "  /* Expand drop-down */\n",
       "  max-height: 200px;\n",
       "  max-width: 100%;\n",
       "  overflow: auto;\n",
       "}\n",
       "\n",
       "#sk-container-id-31 input.sk-toggleable__control:checked~label.sk-toggleable__label-arrow:before {\n",
       "  content: \"▾\";\n",
       "}\n",
       "\n",
       "/* Pipeline/ColumnTransformer-specific style */\n",
       "\n",
       "#sk-container-id-31 div.sk-label input.sk-toggleable__control:checked~label.sk-toggleable__label {\n",
       "  color: var(--sklearn-color-text);\n",
       "  background-color: var(--sklearn-color-unfitted-level-2);\n",
       "}\n",
       "\n",
       "#sk-container-id-31 div.sk-label.fitted input.sk-toggleable__control:checked~label.sk-toggleable__label {\n",
       "  background-color: var(--sklearn-color-fitted-level-2);\n",
       "}\n",
       "\n",
       "/* Estimator-specific style */\n",
       "\n",
       "/* Colorize estimator box */\n",
       "#sk-container-id-31 div.sk-estimator input.sk-toggleable__control:checked~label.sk-toggleable__label {\n",
       "  /* unfitted */\n",
       "  background-color: var(--sklearn-color-unfitted-level-2);\n",
       "}\n",
       "\n",
       "#sk-container-id-31 div.sk-estimator.fitted input.sk-toggleable__control:checked~label.sk-toggleable__label {\n",
       "  /* fitted */\n",
       "  background-color: var(--sklearn-color-fitted-level-2);\n",
       "}\n",
       "\n",
       "#sk-container-id-31 div.sk-label label.sk-toggleable__label,\n",
       "#sk-container-id-31 div.sk-label label {\n",
       "  /* The background is the default theme color */\n",
       "  color: var(--sklearn-color-text-on-default-background);\n",
       "}\n",
       "\n",
       "/* On hover, darken the color of the background */\n",
       "#sk-container-id-31 div.sk-label:hover label.sk-toggleable__label {\n",
       "  color: var(--sklearn-color-text);\n",
       "  background-color: var(--sklearn-color-unfitted-level-2);\n",
       "}\n",
       "\n",
       "/* Label box, darken color on hover, fitted */\n",
       "#sk-container-id-31 div.sk-label.fitted:hover label.sk-toggleable__label.fitted {\n",
       "  color: var(--sklearn-color-text);\n",
       "  background-color: var(--sklearn-color-fitted-level-2);\n",
       "}\n",
       "\n",
       "/* Estimator label */\n",
       "\n",
       "#sk-container-id-31 div.sk-label label {\n",
       "  font-family: monospace;\n",
       "  font-weight: bold;\n",
       "  display: inline-block;\n",
       "  line-height: 1.2em;\n",
       "}\n",
       "\n",
       "#sk-container-id-31 div.sk-label-container {\n",
       "  text-align: center;\n",
       "}\n",
       "\n",
       "/* Estimator-specific */\n",
       "#sk-container-id-31 div.sk-estimator {\n",
       "  font-family: monospace;\n",
       "  border: 1px dotted var(--sklearn-color-border-box);\n",
       "  border-radius: 0.25em;\n",
       "  box-sizing: border-box;\n",
       "  margin-bottom: 0.5em;\n",
       "  /* unfitted */\n",
       "  background-color: var(--sklearn-color-unfitted-level-0);\n",
       "}\n",
       "\n",
       "#sk-container-id-31 div.sk-estimator.fitted {\n",
       "  /* fitted */\n",
       "  background-color: var(--sklearn-color-fitted-level-0);\n",
       "}\n",
       "\n",
       "/* on hover */\n",
       "#sk-container-id-31 div.sk-estimator:hover {\n",
       "  /* unfitted */\n",
       "  background-color: var(--sklearn-color-unfitted-level-2);\n",
       "}\n",
       "\n",
       "#sk-container-id-31 div.sk-estimator.fitted:hover {\n",
       "  /* fitted */\n",
       "  background-color: var(--sklearn-color-fitted-level-2);\n",
       "}\n",
       "\n",
       "/* Specification for estimator info (e.g. \"i\" and \"?\") */\n",
       "\n",
       "/* Common style for \"i\" and \"?\" */\n",
       "\n",
       ".sk-estimator-doc-link,\n",
       "a:link.sk-estimator-doc-link,\n",
       "a:visited.sk-estimator-doc-link {\n",
       "  float: right;\n",
       "  font-size: smaller;\n",
       "  line-height: 1em;\n",
       "  font-family: monospace;\n",
       "  background-color: var(--sklearn-color-background);\n",
       "  border-radius: 1em;\n",
       "  height: 1em;\n",
       "  width: 1em;\n",
       "  text-decoration: none !important;\n",
       "  margin-left: 1ex;\n",
       "  /* unfitted */\n",
       "  border: var(--sklearn-color-unfitted-level-1) 1pt solid;\n",
       "  color: var(--sklearn-color-unfitted-level-1);\n",
       "}\n",
       "\n",
       ".sk-estimator-doc-link.fitted,\n",
       "a:link.sk-estimator-doc-link.fitted,\n",
       "a:visited.sk-estimator-doc-link.fitted {\n",
       "  /* fitted */\n",
       "  border: var(--sklearn-color-fitted-level-1) 1pt solid;\n",
       "  color: var(--sklearn-color-fitted-level-1);\n",
       "}\n",
       "\n",
       "/* On hover */\n",
       "div.sk-estimator:hover .sk-estimator-doc-link:hover,\n",
       ".sk-estimator-doc-link:hover,\n",
       "div.sk-label-container:hover .sk-estimator-doc-link:hover,\n",
       ".sk-estimator-doc-link:hover {\n",
       "  /* unfitted */\n",
       "  background-color: var(--sklearn-color-unfitted-level-3);\n",
       "  color: var(--sklearn-color-background);\n",
       "  text-decoration: none;\n",
       "}\n",
       "\n",
       "div.sk-estimator.fitted:hover .sk-estimator-doc-link.fitted:hover,\n",
       ".sk-estimator-doc-link.fitted:hover,\n",
       "div.sk-label-container:hover .sk-estimator-doc-link.fitted:hover,\n",
       ".sk-estimator-doc-link.fitted:hover {\n",
       "  /* fitted */\n",
       "  background-color: var(--sklearn-color-fitted-level-3);\n",
       "  color: var(--sklearn-color-background);\n",
       "  text-decoration: none;\n",
       "}\n",
       "\n",
       "/* Span, style for the box shown on hovering the info icon */\n",
       ".sk-estimator-doc-link span {\n",
       "  display: none;\n",
       "  z-index: 9999;\n",
       "  position: relative;\n",
       "  font-weight: normal;\n",
       "  right: .2ex;\n",
       "  padding: .5ex;\n",
       "  margin: .5ex;\n",
       "  width: min-content;\n",
       "  min-width: 20ex;\n",
       "  max-width: 50ex;\n",
       "  color: var(--sklearn-color-text);\n",
       "  box-shadow: 2pt 2pt 4pt #999;\n",
       "  /* unfitted */\n",
       "  background: var(--sklearn-color-unfitted-level-0);\n",
       "  border: .5pt solid var(--sklearn-color-unfitted-level-3);\n",
       "}\n",
       "\n",
       ".sk-estimator-doc-link.fitted span {\n",
       "  /* fitted */\n",
       "  background: var(--sklearn-color-fitted-level-0);\n",
       "  border: var(--sklearn-color-fitted-level-3);\n",
       "}\n",
       "\n",
       ".sk-estimator-doc-link:hover span {\n",
       "  display: block;\n",
       "}\n",
       "\n",
       "/* \"?\"-specific style due to the `<a>` HTML tag */\n",
       "\n",
       "#sk-container-id-31 a.estimator_doc_link {\n",
       "  float: right;\n",
       "  font-size: 1rem;\n",
       "  line-height: 1em;\n",
       "  font-family: monospace;\n",
       "  background-color: var(--sklearn-color-background);\n",
       "  border-radius: 1rem;\n",
       "  height: 1rem;\n",
       "  width: 1rem;\n",
       "  text-decoration: none;\n",
       "  /* unfitted */\n",
       "  color: var(--sklearn-color-unfitted-level-1);\n",
       "  border: var(--sklearn-color-unfitted-level-1) 1pt solid;\n",
       "}\n",
       "\n",
       "#sk-container-id-31 a.estimator_doc_link.fitted {\n",
       "  /* fitted */\n",
       "  border: var(--sklearn-color-fitted-level-1) 1pt solid;\n",
       "  color: var(--sklearn-color-fitted-level-1);\n",
       "}\n",
       "\n",
       "/* On hover */\n",
       "#sk-container-id-31 a.estimator_doc_link:hover {\n",
       "  /* unfitted */\n",
       "  background-color: var(--sklearn-color-unfitted-level-3);\n",
       "  color: var(--sklearn-color-background);\n",
       "  text-decoration: none;\n",
       "}\n",
       "\n",
       "#sk-container-id-31 a.estimator_doc_link.fitted:hover {\n",
       "  /* fitted */\n",
       "  background-color: var(--sklearn-color-fitted-level-3);\n",
       "}\n",
       "</style><div id=\"sk-container-id-31\" class=\"sk-top-container\"><div class=\"sk-text-repr-fallback\"><pre>MLPRegressor(max_iter=1000, tol=1e-08)</pre><b>In a Jupyter environment, please rerun this cell to show the HTML representation or trust the notebook. <br />On GitHub, the HTML representation is unable to render, please try loading this page with nbviewer.org.</b></div><div class=\"sk-container\" hidden><div class=\"sk-item\"><div class=\"sk-estimator  sk-toggleable\"><input class=\"sk-toggleable__control sk-hidden--visually\" id=\"sk-estimator-id-31\" type=\"checkbox\" checked><label for=\"sk-estimator-id-31\" class=\"sk-toggleable__label  sk-toggleable__label-arrow \">&nbsp;&nbsp;MLPRegressor<a class=\"sk-estimator-doc-link \" rel=\"noreferrer\" target=\"_blank\" href=\"https://scikit-learn.org/1.4/modules/generated/sklearn.neural_network.MLPRegressor.html\">?<span>Documentation for MLPRegressor</span></a><span class=\"sk-estimator-doc-link \">i<span>Not fitted</span></span></label><div class=\"sk-toggleable__content \"><pre>MLPRegressor(max_iter=1000, tol=1e-08)</pre></div> </div></div></div></div>"
      ],
      "text/plain": [
       "MLPRegressor(max_iter=1000, tol=1e-08)"
      ]
     },
     "execution_count": 153,
     "metadata": {},
     "output_type": "execute_result"
    }
   ],
   "source": [
    "from sklearn.neural_network import MLPRegressor\n",
    "# parameters for the model\n",
    "params ={\n",
    "    \"solver\": \"adam\",\n",
    "    \"learning_rate\": \"constant\",\n",
    "    \"learning_rate_init\": 1e-3,\n",
    "    \"activate_function\": \"relu\",\n",
    "    \"tol\": 1e-8,\n",
    "    \"hidden_layer_sizes\": (100,), \n",
    "    \"max_iter\": 1000\n",
    "}\n",
    "\n",
    "def create_MLPRegressor(params):\n",
    "    mlp = MLPRegressor(\n",
    "        solver=params[\"solver\"],\n",
    "        learning_rate=params[\"learning_rate\"],\n",
    "        learning_rate_init=params[\"learning_rate_init\"],\n",
    "        activation=params.get(\"activate_function\", \"relu\"),\n",
    "        tol=params[\"tol\"],\n",
    "        hidden_layer_sizes=params[\"hidden_layer_sizes\"], \n",
    "        max_iter = params[\"max_iter\"]\n",
    "    \n",
    "    )\n",
    "    return mlp\n",
    "\n",
    "model = create_MLPRegressor(params)\n",
    "model\n"
   ]
  },
  {
   "cell_type": "code",
   "execution_count": 154,
   "id": "ca197b00",
   "metadata": {},
   "outputs": [
    {
     "data": {
      "text/html": [
       "<style>#sk-container-id-32 {\n",
       "  /* Definition of color scheme common for light and dark mode */\n",
       "  --sklearn-color-text: black;\n",
       "  --sklearn-color-line: gray;\n",
       "  /* Definition of color scheme for unfitted estimators */\n",
       "  --sklearn-color-unfitted-level-0: #fff5e6;\n",
       "  --sklearn-color-unfitted-level-1: #f6e4d2;\n",
       "  --sklearn-color-unfitted-level-2: #ffe0b3;\n",
       "  --sklearn-color-unfitted-level-3: chocolate;\n",
       "  /* Definition of color scheme for fitted estimators */\n",
       "  --sklearn-color-fitted-level-0: #f0f8ff;\n",
       "  --sklearn-color-fitted-level-1: #d4ebff;\n",
       "  --sklearn-color-fitted-level-2: #b3dbfd;\n",
       "  --sklearn-color-fitted-level-3: cornflowerblue;\n",
       "\n",
       "  /* Specific color for light theme */\n",
       "  --sklearn-color-text-on-default-background: var(--sg-text-color, var(--theme-code-foreground, var(--jp-content-font-color1, black)));\n",
       "  --sklearn-color-background: var(--sg-background-color, var(--theme-background, var(--jp-layout-color0, white)));\n",
       "  --sklearn-color-border-box: var(--sg-text-color, var(--theme-code-foreground, var(--jp-content-font-color1, black)));\n",
       "  --sklearn-color-icon: #696969;\n",
       "\n",
       "  @media (prefers-color-scheme: dark) {\n",
       "    /* Redefinition of color scheme for dark theme */\n",
       "    --sklearn-color-text-on-default-background: var(--sg-text-color, var(--theme-code-foreground, var(--jp-content-font-color1, white)));\n",
       "    --sklearn-color-background: var(--sg-background-color, var(--theme-background, var(--jp-layout-color0, #111)));\n",
       "    --sklearn-color-border-box: var(--sg-text-color, var(--theme-code-foreground, var(--jp-content-font-color1, white)));\n",
       "    --sklearn-color-icon: #878787;\n",
       "  }\n",
       "}\n",
       "\n",
       "#sk-container-id-32 {\n",
       "  color: var(--sklearn-color-text);\n",
       "}\n",
       "\n",
       "#sk-container-id-32 pre {\n",
       "  padding: 0;\n",
       "}\n",
       "\n",
       "#sk-container-id-32 input.sk-hidden--visually {\n",
       "  border: 0;\n",
       "  clip: rect(1px 1px 1px 1px);\n",
       "  clip: rect(1px, 1px, 1px, 1px);\n",
       "  height: 1px;\n",
       "  margin: -1px;\n",
       "  overflow: hidden;\n",
       "  padding: 0;\n",
       "  position: absolute;\n",
       "  width: 1px;\n",
       "}\n",
       "\n",
       "#sk-container-id-32 div.sk-dashed-wrapped {\n",
       "  border: 1px dashed var(--sklearn-color-line);\n",
       "  margin: 0 0.4em 0.5em 0.4em;\n",
       "  box-sizing: border-box;\n",
       "  padding-bottom: 0.4em;\n",
       "  background-color: var(--sklearn-color-background);\n",
       "}\n",
       "\n",
       "#sk-container-id-32 div.sk-container {\n",
       "  /* jupyter's `normalize.less` sets `[hidden] { display: none; }`\n",
       "     but bootstrap.min.css set `[hidden] { display: none !important; }`\n",
       "     so we also need the `!important` here to be able to override the\n",
       "     default hidden behavior on the sphinx rendered scikit-learn.org.\n",
       "     See: https://github.com/scikit-learn/scikit-learn/issues/21755 */\n",
       "  display: inline-block !important;\n",
       "  position: relative;\n",
       "}\n",
       "\n",
       "#sk-container-id-32 div.sk-text-repr-fallback {\n",
       "  display: none;\n",
       "}\n",
       "\n",
       "div.sk-parallel-item,\n",
       "div.sk-serial,\n",
       "div.sk-item {\n",
       "  /* draw centered vertical line to link estimators */\n",
       "  background-image: linear-gradient(var(--sklearn-color-text-on-default-background), var(--sklearn-color-text-on-default-background));\n",
       "  background-size: 2px 100%;\n",
       "  background-repeat: no-repeat;\n",
       "  background-position: center center;\n",
       "}\n",
       "\n",
       "/* Parallel-specific style estimator block */\n",
       "\n",
       "#sk-container-id-32 div.sk-parallel-item::after {\n",
       "  content: \"\";\n",
       "  width: 100%;\n",
       "  border-bottom: 2px solid var(--sklearn-color-text-on-default-background);\n",
       "  flex-grow: 1;\n",
       "}\n",
       "\n",
       "#sk-container-id-32 div.sk-parallel {\n",
       "  display: flex;\n",
       "  align-items: stretch;\n",
       "  justify-content: center;\n",
       "  background-color: var(--sklearn-color-background);\n",
       "  position: relative;\n",
       "}\n",
       "\n",
       "#sk-container-id-32 div.sk-parallel-item {\n",
       "  display: flex;\n",
       "  flex-direction: column;\n",
       "}\n",
       "\n",
       "#sk-container-id-32 div.sk-parallel-item:first-child::after {\n",
       "  align-self: flex-end;\n",
       "  width: 50%;\n",
       "}\n",
       "\n",
       "#sk-container-id-32 div.sk-parallel-item:last-child::after {\n",
       "  align-self: flex-start;\n",
       "  width: 50%;\n",
       "}\n",
       "\n",
       "#sk-container-id-32 div.sk-parallel-item:only-child::after {\n",
       "  width: 0;\n",
       "}\n",
       "\n",
       "/* Serial-specific style estimator block */\n",
       "\n",
       "#sk-container-id-32 div.sk-serial {\n",
       "  display: flex;\n",
       "  flex-direction: column;\n",
       "  align-items: center;\n",
       "  background-color: var(--sklearn-color-background);\n",
       "  padding-right: 1em;\n",
       "  padding-left: 1em;\n",
       "}\n",
       "\n",
       "\n",
       "/* Toggleable style: style used for estimator/Pipeline/ColumnTransformer box that is\n",
       "clickable and can be expanded/collapsed.\n",
       "- Pipeline and ColumnTransformer use this feature and define the default style\n",
       "- Estimators will overwrite some part of the style using the `sk-estimator` class\n",
       "*/\n",
       "\n",
       "/* Pipeline and ColumnTransformer style (default) */\n",
       "\n",
       "#sk-container-id-32 div.sk-toggleable {\n",
       "  /* Default theme specific background. It is overwritten whether we have a\n",
       "  specific estimator or a Pipeline/ColumnTransformer */\n",
       "  background-color: var(--sklearn-color-background);\n",
       "}\n",
       "\n",
       "/* Toggleable label */\n",
       "#sk-container-id-32 label.sk-toggleable__label {\n",
       "  cursor: pointer;\n",
       "  display: block;\n",
       "  width: 100%;\n",
       "  margin-bottom: 0;\n",
       "  padding: 0.5em;\n",
       "  box-sizing: border-box;\n",
       "  text-align: center;\n",
       "}\n",
       "\n",
       "#sk-container-id-32 label.sk-toggleable__label-arrow:before {\n",
       "  /* Arrow on the left of the label */\n",
       "  content: \"▸\";\n",
       "  float: left;\n",
       "  margin-right: 0.25em;\n",
       "  color: var(--sklearn-color-icon);\n",
       "}\n",
       "\n",
       "#sk-container-id-32 label.sk-toggleable__label-arrow:hover:before {\n",
       "  color: var(--sklearn-color-text);\n",
       "}\n",
       "\n",
       "/* Toggleable content - dropdown */\n",
       "\n",
       "#sk-container-id-32 div.sk-toggleable__content {\n",
       "  max-height: 0;\n",
       "  max-width: 0;\n",
       "  overflow: hidden;\n",
       "  text-align: left;\n",
       "  /* unfitted */\n",
       "  background-color: var(--sklearn-color-unfitted-level-0);\n",
       "}\n",
       "\n",
       "#sk-container-id-32 div.sk-toggleable__content.fitted {\n",
       "  /* fitted */\n",
       "  background-color: var(--sklearn-color-fitted-level-0);\n",
       "}\n",
       "\n",
       "#sk-container-id-32 div.sk-toggleable__content pre {\n",
       "  margin: 0.2em;\n",
       "  border-radius: 0.25em;\n",
       "  color: var(--sklearn-color-text);\n",
       "  /* unfitted */\n",
       "  background-color: var(--sklearn-color-unfitted-level-0);\n",
       "}\n",
       "\n",
       "#sk-container-id-32 div.sk-toggleable__content.fitted pre {\n",
       "  /* unfitted */\n",
       "  background-color: var(--sklearn-color-fitted-level-0);\n",
       "}\n",
       "\n",
       "#sk-container-id-32 input.sk-toggleable__control:checked~div.sk-toggleable__content {\n",
       "  /* Expand drop-down */\n",
       "  max-height: 200px;\n",
       "  max-width: 100%;\n",
       "  overflow: auto;\n",
       "}\n",
       "\n",
       "#sk-container-id-32 input.sk-toggleable__control:checked~label.sk-toggleable__label-arrow:before {\n",
       "  content: \"▾\";\n",
       "}\n",
       "\n",
       "/* Pipeline/ColumnTransformer-specific style */\n",
       "\n",
       "#sk-container-id-32 div.sk-label input.sk-toggleable__control:checked~label.sk-toggleable__label {\n",
       "  color: var(--sklearn-color-text);\n",
       "  background-color: var(--sklearn-color-unfitted-level-2);\n",
       "}\n",
       "\n",
       "#sk-container-id-32 div.sk-label.fitted input.sk-toggleable__control:checked~label.sk-toggleable__label {\n",
       "  background-color: var(--sklearn-color-fitted-level-2);\n",
       "}\n",
       "\n",
       "/* Estimator-specific style */\n",
       "\n",
       "/* Colorize estimator box */\n",
       "#sk-container-id-32 div.sk-estimator input.sk-toggleable__control:checked~label.sk-toggleable__label {\n",
       "  /* unfitted */\n",
       "  background-color: var(--sklearn-color-unfitted-level-2);\n",
       "}\n",
       "\n",
       "#sk-container-id-32 div.sk-estimator.fitted input.sk-toggleable__control:checked~label.sk-toggleable__label {\n",
       "  /* fitted */\n",
       "  background-color: var(--sklearn-color-fitted-level-2);\n",
       "}\n",
       "\n",
       "#sk-container-id-32 div.sk-label label.sk-toggleable__label,\n",
       "#sk-container-id-32 div.sk-label label {\n",
       "  /* The background is the default theme color */\n",
       "  color: var(--sklearn-color-text-on-default-background);\n",
       "}\n",
       "\n",
       "/* On hover, darken the color of the background */\n",
       "#sk-container-id-32 div.sk-label:hover label.sk-toggleable__label {\n",
       "  color: var(--sklearn-color-text);\n",
       "  background-color: var(--sklearn-color-unfitted-level-2);\n",
       "}\n",
       "\n",
       "/* Label box, darken color on hover, fitted */\n",
       "#sk-container-id-32 div.sk-label.fitted:hover label.sk-toggleable__label.fitted {\n",
       "  color: var(--sklearn-color-text);\n",
       "  background-color: var(--sklearn-color-fitted-level-2);\n",
       "}\n",
       "\n",
       "/* Estimator label */\n",
       "\n",
       "#sk-container-id-32 div.sk-label label {\n",
       "  font-family: monospace;\n",
       "  font-weight: bold;\n",
       "  display: inline-block;\n",
       "  line-height: 1.2em;\n",
       "}\n",
       "\n",
       "#sk-container-id-32 div.sk-label-container {\n",
       "  text-align: center;\n",
       "}\n",
       "\n",
       "/* Estimator-specific */\n",
       "#sk-container-id-32 div.sk-estimator {\n",
       "  font-family: monospace;\n",
       "  border: 1px dotted var(--sklearn-color-border-box);\n",
       "  border-radius: 0.25em;\n",
       "  box-sizing: border-box;\n",
       "  margin-bottom: 0.5em;\n",
       "  /* unfitted */\n",
       "  background-color: var(--sklearn-color-unfitted-level-0);\n",
       "}\n",
       "\n",
       "#sk-container-id-32 div.sk-estimator.fitted {\n",
       "  /* fitted */\n",
       "  background-color: var(--sklearn-color-fitted-level-0);\n",
       "}\n",
       "\n",
       "/* on hover */\n",
       "#sk-container-id-32 div.sk-estimator:hover {\n",
       "  /* unfitted */\n",
       "  background-color: var(--sklearn-color-unfitted-level-2);\n",
       "}\n",
       "\n",
       "#sk-container-id-32 div.sk-estimator.fitted:hover {\n",
       "  /* fitted */\n",
       "  background-color: var(--sklearn-color-fitted-level-2);\n",
       "}\n",
       "\n",
       "/* Specification for estimator info (e.g. \"i\" and \"?\") */\n",
       "\n",
       "/* Common style for \"i\" and \"?\" */\n",
       "\n",
       ".sk-estimator-doc-link,\n",
       "a:link.sk-estimator-doc-link,\n",
       "a:visited.sk-estimator-doc-link {\n",
       "  float: right;\n",
       "  font-size: smaller;\n",
       "  line-height: 1em;\n",
       "  font-family: monospace;\n",
       "  background-color: var(--sklearn-color-background);\n",
       "  border-radius: 1em;\n",
       "  height: 1em;\n",
       "  width: 1em;\n",
       "  text-decoration: none !important;\n",
       "  margin-left: 1ex;\n",
       "  /* unfitted */\n",
       "  border: var(--sklearn-color-unfitted-level-1) 1pt solid;\n",
       "  color: var(--sklearn-color-unfitted-level-1);\n",
       "}\n",
       "\n",
       ".sk-estimator-doc-link.fitted,\n",
       "a:link.sk-estimator-doc-link.fitted,\n",
       "a:visited.sk-estimator-doc-link.fitted {\n",
       "  /* fitted */\n",
       "  border: var(--sklearn-color-fitted-level-1) 1pt solid;\n",
       "  color: var(--sklearn-color-fitted-level-1);\n",
       "}\n",
       "\n",
       "/* On hover */\n",
       "div.sk-estimator:hover .sk-estimator-doc-link:hover,\n",
       ".sk-estimator-doc-link:hover,\n",
       "div.sk-label-container:hover .sk-estimator-doc-link:hover,\n",
       ".sk-estimator-doc-link:hover {\n",
       "  /* unfitted */\n",
       "  background-color: var(--sklearn-color-unfitted-level-3);\n",
       "  color: var(--sklearn-color-background);\n",
       "  text-decoration: none;\n",
       "}\n",
       "\n",
       "div.sk-estimator.fitted:hover .sk-estimator-doc-link.fitted:hover,\n",
       ".sk-estimator-doc-link.fitted:hover,\n",
       "div.sk-label-container:hover .sk-estimator-doc-link.fitted:hover,\n",
       ".sk-estimator-doc-link.fitted:hover {\n",
       "  /* fitted */\n",
       "  background-color: var(--sklearn-color-fitted-level-3);\n",
       "  color: var(--sklearn-color-background);\n",
       "  text-decoration: none;\n",
       "}\n",
       "\n",
       "/* Span, style for the box shown on hovering the info icon */\n",
       ".sk-estimator-doc-link span {\n",
       "  display: none;\n",
       "  z-index: 9999;\n",
       "  position: relative;\n",
       "  font-weight: normal;\n",
       "  right: .2ex;\n",
       "  padding: .5ex;\n",
       "  margin: .5ex;\n",
       "  width: min-content;\n",
       "  min-width: 20ex;\n",
       "  max-width: 50ex;\n",
       "  color: var(--sklearn-color-text);\n",
       "  box-shadow: 2pt 2pt 4pt #999;\n",
       "  /* unfitted */\n",
       "  background: var(--sklearn-color-unfitted-level-0);\n",
       "  border: .5pt solid var(--sklearn-color-unfitted-level-3);\n",
       "}\n",
       "\n",
       ".sk-estimator-doc-link.fitted span {\n",
       "  /* fitted */\n",
       "  background: var(--sklearn-color-fitted-level-0);\n",
       "  border: var(--sklearn-color-fitted-level-3);\n",
       "}\n",
       "\n",
       ".sk-estimator-doc-link:hover span {\n",
       "  display: block;\n",
       "}\n",
       "\n",
       "/* \"?\"-specific style due to the `<a>` HTML tag */\n",
       "\n",
       "#sk-container-id-32 a.estimator_doc_link {\n",
       "  float: right;\n",
       "  font-size: 1rem;\n",
       "  line-height: 1em;\n",
       "  font-family: monospace;\n",
       "  background-color: var(--sklearn-color-background);\n",
       "  border-radius: 1rem;\n",
       "  height: 1rem;\n",
       "  width: 1rem;\n",
       "  text-decoration: none;\n",
       "  /* unfitted */\n",
       "  color: var(--sklearn-color-unfitted-level-1);\n",
       "  border: var(--sklearn-color-unfitted-level-1) 1pt solid;\n",
       "}\n",
       "\n",
       "#sk-container-id-32 a.estimator_doc_link.fitted {\n",
       "  /* fitted */\n",
       "  border: var(--sklearn-color-fitted-level-1) 1pt solid;\n",
       "  color: var(--sklearn-color-fitted-level-1);\n",
       "}\n",
       "\n",
       "/* On hover */\n",
       "#sk-container-id-32 a.estimator_doc_link:hover {\n",
       "  /* unfitted */\n",
       "  background-color: var(--sklearn-color-unfitted-level-3);\n",
       "  color: var(--sklearn-color-background);\n",
       "  text-decoration: none;\n",
       "}\n",
       "\n",
       "#sk-container-id-32 a.estimator_doc_link.fitted:hover {\n",
       "  /* fitted */\n",
       "  background-color: var(--sklearn-color-fitted-level-3);\n",
       "}\n",
       "</style><div id=\"sk-container-id-32\" class=\"sk-top-container\"><div class=\"sk-text-repr-fallback\"><pre>MLPRegressor(max_iter=1000, tol=1e-08)</pre><b>In a Jupyter environment, please rerun this cell to show the HTML representation or trust the notebook. <br />On GitHub, the HTML representation is unable to render, please try loading this page with nbviewer.org.</b></div><div class=\"sk-container\" hidden><div class=\"sk-item\"><div class=\"sk-estimator fitted sk-toggleable\"><input class=\"sk-toggleable__control sk-hidden--visually\" id=\"sk-estimator-id-32\" type=\"checkbox\" checked><label for=\"sk-estimator-id-32\" class=\"sk-toggleable__label fitted sk-toggleable__label-arrow fitted\">&nbsp;&nbsp;MLPRegressor<a class=\"sk-estimator-doc-link fitted\" rel=\"noreferrer\" target=\"_blank\" href=\"https://scikit-learn.org/1.4/modules/generated/sklearn.neural_network.MLPRegressor.html\">?<span>Documentation for MLPRegressor</span></a><span class=\"sk-estimator-doc-link fitted\">i<span>Fitted</span></span></label><div class=\"sk-toggleable__content fitted\"><pre>MLPRegressor(max_iter=1000, tol=1e-08)</pre></div> </div></div></div></div>"
      ],
      "text/plain": [
       "MLPRegressor(max_iter=1000, tol=1e-08)"
      ]
     },
     "execution_count": 154,
     "metadata": {},
     "output_type": "execute_result"
    }
   ],
   "source": [
    "# fit model on train data\n",
    "model.fit(X_train_scaled, y_train)"
   ]
  },
  {
   "cell_type": "code",
   "execution_count": 155,
   "id": "1a59e56e",
   "metadata": {},
   "outputs": [],
   "source": [
    "# predict using model\n",
    "y_pred = model.predict(pd.DataFrame(scaler.transform(X_test), columns=[\"x\", \"y\"]))"
   ]
  },
  {
   "cell_type": "code",
   "execution_count": 156,
   "id": "9742d00f",
   "metadata": {},
   "outputs": [
    {
     "name": "stdout",
     "output_type": "stream",
     "text": [
      "7.160280129440367e-06\n",
      "0.8988442562530907\n"
     ]
    }
   ],
   "source": [
    "from sklearn.metrics import mean_squared_error, mean_absolute_percentage_error\n",
    "mse = mean_squared_error(y_pred, y_test)\n",
    "mape = mean_absolute_percentage_error(y_pred, y_test)\n",
    "print(mse)\n",
    "print(mape)"
   ]
  },
  {
   "cell_type": "code",
   "execution_count": 157,
   "id": "ae13d5a1",
   "metadata": {},
   "outputs": [],
   "source": [
    " # use grid_searchCV\n",
    "from sklearn.model_selection import GridSearchCV\n",
    "\n",
    "param_grid = {\n",
    "    \"solver\": [\"adam\", \"sgd\", \"lbfgs\"],\n",
    "    \"learning_rate_init\": [1e-2, 1e-4, 1e-6],\n",
    "    \"activation\": [\"relu\",\"tanh\"],\n",
    "    \"hidden_layer_sizes\": [(100,), (100, 100,), (100, 100, 100, )], \n",
    "}\n",
    "\n",
    "def hyperparameter_tuning(X_train, y_train, param_grid):\n",
    "    mlp_cv = MLPRegressor()\n",
    "    grid_search = GridSearchCV(estimator=mlp_cv,\n",
    "                               param_grid=param_grid,\n",
    "                               cv=3,\n",
    "                               n_jobs=4,\n",
    "                               scoring = \"neg_mean_squared_error\",\n",
    "                               )\n",
    "    grid_search.fit(X_train, y_train)\n",
    "    return grid_search"
   ]
  },
  {
   "cell_type": "code",
   "execution_count": 158,
   "id": "0d4f0120",
   "metadata": {},
   "outputs": [
    {
     "name": "stdout",
     "output_type": "stream",
     "text": [
      "Performing hyperparameter tuning...\n",
      "Grid search completed. Testing 54 parameter combinations...\n",
      "Grid search completed. Testing 54 parameter combinations...\n"
     ]
    },
    {
     "name": "stderr",
     "output_type": "stream",
     "text": [
      "2025/09/14 17:48:12 WARNING mlflow.models.model: `artifact_path` is deprecated. Please use `name` instead.\n"
     ]
    },
    {
     "name": "stdout",
     "output_type": "stream",
     "text": [
      "Model  1: solver=adam  , lr=1e-02, activation=relu, layers=(100,)          -> MSE: 0.000081, MAPE: 8.2500\n",
      "🏃 View run MLP_Model_1 at:  http://127.0.0.1:8080/#/experiments/981756139167564774/runs/7ffab0b6365347639bccb01d5f8a0aca\n",
      "🧪 View experiment at:  http://127.0.0.1:8080/#/experiments/981756139167564774\n"
     ]
    },
    {
     "name": "stderr",
     "output_type": "stream",
     "text": [
      "2025/09/14 17:48:18 WARNING mlflow.models.model: `artifact_path` is deprecated. Please use `name` instead.\n"
     ]
    },
    {
     "name": "stdout",
     "output_type": "stream",
     "text": [
      "Model  2: solver=sgd   , lr=1e-02, activation=relu, layers=(100,)          -> MSE: 0.000535, MAPE: 29.0733\n",
      "🏃 View run MLP_Model_2 at:  http://127.0.0.1:8080/#/experiments/981756139167564774/runs/cfe8c540c3ac42169daea159f921dddb\n",
      "🧪 View experiment at:  http://127.0.0.1:8080/#/experiments/981756139167564774\n"
     ]
    },
    {
     "name": "stderr",
     "output_type": "stream",
     "text": [
      "2025/09/14 17:48:24 WARNING mlflow.models.model: `artifact_path` is deprecated. Please use `name` instead.\n"
     ]
    },
    {
     "name": "stdout",
     "output_type": "stream",
     "text": [
      "Model  3: solver=lbfgs , lr=1e-02, activation=relu, layers=(100,)          -> MSE: 0.000023, MAPE: 4.2088\n",
      "🏃 View run MLP_Model_3 at:  http://127.0.0.1:8080/#/experiments/981756139167564774/runs/2193c5cf533e43a880effff1dd1f4072\n",
      "🧪 View experiment at:  http://127.0.0.1:8080/#/experiments/981756139167564774\n"
     ]
    },
    {
     "name": "stderr",
     "output_type": "stream",
     "text": [
      "2025/09/14 17:48:29 WARNING mlflow.models.model: `artifact_path` is deprecated. Please use `name` instead.\n"
     ]
    },
    {
     "name": "stdout",
     "output_type": "stream",
     "text": [
      "Model  4: solver=adam  , lr=1e-04, activation=relu, layers=(100,)          -> MSE: 0.003204, MAPE: 34.6358\n",
      "🏃 View run MLP_Model_4 at:  http://127.0.0.1:8080/#/experiments/981756139167564774/runs/bc94e434ed84483a9670f3e0f6e61799\n",
      "🧪 View experiment at:  http://127.0.0.1:8080/#/experiments/981756139167564774\n"
     ]
    },
    {
     "name": "stderr",
     "output_type": "stream",
     "text": [
      "2025/09/14 17:48:34 WARNING mlflow.models.model: `artifact_path` is deprecated. Please use `name` instead.\n"
     ]
    },
    {
     "name": "stdout",
     "output_type": "stream",
     "text": [
      "Model  5: solver=sgd   , lr=1e-04, activation=relu, layers=(100,)          -> MSE: 0.013584, MAPE: 27.6592\n",
      "🏃 View run MLP_Model_5 at:  http://127.0.0.1:8080/#/experiments/981756139167564774/runs/8cbc71a85c464aeeb0d6164f085a4e07\n",
      "🧪 View experiment at:  http://127.0.0.1:8080/#/experiments/981756139167564774\n"
     ]
    },
    {
     "name": "stderr",
     "output_type": "stream",
     "text": [
      "2025/09/14 17:48:39 WARNING mlflow.models.model: `artifact_path` is deprecated. Please use `name` instead.\n"
     ]
    },
    {
     "name": "stdout",
     "output_type": "stream",
     "text": [
      "Model  6: solver=lbfgs , lr=1e-04, activation=relu, layers=(100,)          -> MSE: 0.000023, MAPE: 4.2088\n",
      "🏃 View run MLP_Model_6 at:  http://127.0.0.1:8080/#/experiments/981756139167564774/runs/11e925b86e2a405da6ebc369c75e6949\n",
      "🧪 View experiment at:  http://127.0.0.1:8080/#/experiments/981756139167564774\n"
     ]
    },
    {
     "name": "stderr",
     "output_type": "stream",
     "text": [
      "2025/09/14 17:48:44 WARNING mlflow.models.model: `artifact_path` is deprecated. Please use `name` instead.\n"
     ]
    },
    {
     "name": "stdout",
     "output_type": "stream",
     "text": [
      "Model  7: solver=adam  , lr=1e-06, activation=relu, layers=(100,)          -> MSE: 0.047547, MAPE: 46.1922\n",
      "🏃 View run MLP_Model_7 at:  http://127.0.0.1:8080/#/experiments/981756139167564774/runs/9f7757bf609d4c97ba85e1d2507a8f46\n",
      "🧪 View experiment at:  http://127.0.0.1:8080/#/experiments/981756139167564774\n"
     ]
    },
    {
     "name": "stderr",
     "output_type": "stream",
     "text": [
      "2025/09/14 17:48:49 WARNING mlflow.models.model: `artifact_path` is deprecated. Please use `name` instead.\n"
     ]
    },
    {
     "name": "stdout",
     "output_type": "stream",
     "text": [
      "Model  8: solver=sgd   , lr=1e-06, activation=relu, layers=(100,)          -> MSE: 0.047694, MAPE: 46.5509\n",
      "🏃 View run MLP_Model_8 at:  http://127.0.0.1:8080/#/experiments/981756139167564774/runs/49845f7ed45c40e9aa128a8be1001d9d\n",
      "🧪 View experiment at:  http://127.0.0.1:8080/#/experiments/981756139167564774\n"
     ]
    },
    {
     "name": "stderr",
     "output_type": "stream",
     "text": [
      "2025/09/14 17:48:54 WARNING mlflow.models.model: `artifact_path` is deprecated. Please use `name` instead.\n"
     ]
    },
    {
     "name": "stdout",
     "output_type": "stream",
     "text": [
      "Model  9: solver=lbfgs , lr=1e-06, activation=relu, layers=(100,)          -> MSE: 0.000023, MAPE: 4.2088\n",
      "🏃 View run MLP_Model_9 at:  http://127.0.0.1:8080/#/experiments/981756139167564774/runs/f8c408cb6ac94f04be14fb76491b8d25\n",
      "🧪 View experiment at:  http://127.0.0.1:8080/#/experiments/981756139167564774\n"
     ]
    },
    {
     "name": "stderr",
     "output_type": "stream",
     "text": [
      "2025/09/14 17:48:59 WARNING mlflow.models.model: `artifact_path` is deprecated. Please use `name` instead.\n"
     ]
    },
    {
     "name": "stdout",
     "output_type": "stream",
     "text": [
      "Model 10: solver=adam  , lr=1e-02, activation=relu, layers=(100, 100)      -> MSE: 0.000035, MAPE: 4.8849\n",
      "🏃 View run MLP_Model_10 at:  http://127.0.0.1:8080/#/experiments/981756139167564774/runs/6c3e0eaba669429f9a84a604b048984c\n",
      "🧪 View experiment at:  http://127.0.0.1:8080/#/experiments/981756139167564774\n"
     ]
    },
    {
     "name": "stderr",
     "output_type": "stream",
     "text": [
      "2025/09/14 17:49:03 WARNING mlflow.models.model: `artifact_path` is deprecated. Please use `name` instead.\n"
     ]
    },
    {
     "name": "stdout",
     "output_type": "stream",
     "text": [
      "Model 11: solver=sgd   , lr=1e-02, activation=relu, layers=(100, 100)      -> MSE: 0.000403, MAPE: 11.1051\n",
      "🏃 View run MLP_Model_11 at:  http://127.0.0.1:8080/#/experiments/981756139167564774/runs/26fad065149d48f594d53c1fcae12c77\n",
      "🧪 View experiment at:  http://127.0.0.1:8080/#/experiments/981756139167564774\n"
     ]
    },
    {
     "name": "stderr",
     "output_type": "stream",
     "text": [
      "2025/09/14 17:49:08 WARNING mlflow.models.model: `artifact_path` is deprecated. Please use `name` instead.\n"
     ]
    },
    {
     "name": "stdout",
     "output_type": "stream",
     "text": [
      "Model 12: solver=lbfgs , lr=1e-02, activation=relu, layers=(100, 100)      -> MSE: 0.000026, MAPE: 4.8109\n",
      "🏃 View run MLP_Model_12 at:  http://127.0.0.1:8080/#/experiments/981756139167564774/runs/9cab9b3ea28f4dfa83f91b3d63d5f02e\n",
      "🧪 View experiment at:  http://127.0.0.1:8080/#/experiments/981756139167564774\n"
     ]
    },
    {
     "name": "stderr",
     "output_type": "stream",
     "text": [
      "2025/09/14 17:49:13 WARNING mlflow.models.model: `artifact_path` is deprecated. Please use `name` instead.\n"
     ]
    },
    {
     "name": "stdout",
     "output_type": "stream",
     "text": [
      "Model 13: solver=adam  , lr=1e-04, activation=relu, layers=(100, 100)      -> MSE: 0.000436, MAPE: 16.7918\n",
      "🏃 View run MLP_Model_13 at:  http://127.0.0.1:8080/#/experiments/981756139167564774/runs/854edaaeb020462ea684847f71d96525\n",
      "🧪 View experiment at:  http://127.0.0.1:8080/#/experiments/981756139167564774\n"
     ]
    },
    {
     "name": "stderr",
     "output_type": "stream",
     "text": [
      "2025/09/14 17:49:19 WARNING mlflow.models.model: `artifact_path` is deprecated. Please use `name` instead.\n"
     ]
    },
    {
     "name": "stdout",
     "output_type": "stream",
     "text": [
      "Model 14: solver=sgd   , lr=1e-04, activation=relu, layers=(100, 100)      -> MSE: 0.014763, MAPE: 97.8594\n",
      "🏃 View run MLP_Model_14 at:  http://127.0.0.1:8080/#/experiments/981756139167564774/runs/992327e6c09f426497cf34eff399b35b\n",
      "🧪 View experiment at:  http://127.0.0.1:8080/#/experiments/981756139167564774\n"
     ]
    },
    {
     "name": "stderr",
     "output_type": "stream",
     "text": [
      "2025/09/14 17:49:54 WARNING mlflow.models.model: `artifact_path` is deprecated. Please use `name` instead.\n"
     ]
    },
    {
     "name": "stdout",
     "output_type": "stream",
     "text": [
      "Model 15: solver=lbfgs , lr=1e-04, activation=relu, layers=(100, 100)      -> MSE: 0.000026, MAPE: 4.8109\n",
      "🏃 View run MLP_Model_15 at:  http://127.0.0.1:8080/#/experiments/981756139167564774/runs/527b3fbc8bf24e7faa365fb94ebd7193\n",
      "🧪 View experiment at:  http://127.0.0.1:8080/#/experiments/981756139167564774\n"
     ]
    },
    {
     "name": "stderr",
     "output_type": "stream",
     "text": [
      "2025/09/14 17:49:59 WARNING mlflow.models.model: `artifact_path` is deprecated. Please use `name` instead.\n"
     ]
    },
    {
     "name": "stdout",
     "output_type": "stream",
     "text": [
      "Model 16: solver=adam  , lr=1e-06, activation=relu, layers=(100, 100)      -> MSE: 0.024113, MAPE: 143.5028\n",
      "🏃 View run MLP_Model_16 at:  http://127.0.0.1:8080/#/experiments/981756139167564774/runs/689e7185e03949abbd591cc86dad996f\n",
      "🧪 View experiment at:  http://127.0.0.1:8080/#/experiments/981756139167564774\n"
     ]
    },
    {
     "name": "stderr",
     "output_type": "stream",
     "text": [
      "2025/09/14 17:50:04 WARNING mlflow.models.model: `artifact_path` is deprecated. Please use `name` instead.\n"
     ]
    },
    {
     "name": "stdout",
     "output_type": "stream",
     "text": [
      "Model 17: solver=sgd   , lr=1e-06, activation=relu, layers=(100, 100)      -> MSE: 0.024549, MAPE: 145.3361\n",
      "🏃 View run MLP_Model_17 at:  http://127.0.0.1:8080/#/experiments/981756139167564774/runs/790626d798b944b8ba91b6ae39309190\n",
      "🧪 View experiment at:  http://127.0.0.1:8080/#/experiments/981756139167564774\n"
     ]
    },
    {
     "name": "stderr",
     "output_type": "stream",
     "text": [
      "2025/09/14 17:50:10 WARNING mlflow.models.model: `artifact_path` is deprecated. Please use `name` instead.\n"
     ]
    },
    {
     "name": "stdout",
     "output_type": "stream",
     "text": [
      "Model 18: solver=lbfgs , lr=1e-06, activation=relu, layers=(100, 100)      -> MSE: 0.000026, MAPE: 4.8109\n",
      "🏃 View run MLP_Model_18 at:  http://127.0.0.1:8080/#/experiments/981756139167564774/runs/bb5f7fa991b94d7493ffa2754d1a6b5f\n",
      "🧪 View experiment at:  http://127.0.0.1:8080/#/experiments/981756139167564774\n"
     ]
    },
    {
     "name": "stderr",
     "output_type": "stream",
     "text": [
      "2025/09/14 17:50:15 WARNING mlflow.models.model: `artifact_path` is deprecated. Please use `name` instead.\n"
     ]
    },
    {
     "name": "stdout",
     "output_type": "stream",
     "text": [
      "Model 19: solver=adam  , lr=1e-02, activation=relu, layers=(100, 100, 100) -> MSE: 0.000026, MAPE: 5.5118\n",
      "🏃 View run MLP_Model_19 at:  http://127.0.0.1:8080/#/experiments/981756139167564774/runs/619a27b231bc46958ec1498ff0ff9625\n",
      "🧪 View experiment at:  http://127.0.0.1:8080/#/experiments/981756139167564774\n"
     ]
    },
    {
     "name": "stderr",
     "output_type": "stream",
     "text": [
      "2025/09/14 17:50:20 WARNING mlflow.models.model: `artifact_path` is deprecated. Please use `name` instead.\n"
     ]
    },
    {
     "name": "stdout",
     "output_type": "stream",
     "text": [
      "Model 20: solver=sgd   , lr=1e-02, activation=relu, layers=(100, 100, 100) -> MSE: 0.000186, MAPE: 10.6931\n",
      "🏃 View run MLP_Model_20 at:  http://127.0.0.1:8080/#/experiments/981756139167564774/runs/7c0527bab76041ac92c44dbeb08d33da\n",
      "🧪 View experiment at:  http://127.0.0.1:8080/#/experiments/981756139167564774\n"
     ]
    },
    {
     "name": "stderr",
     "output_type": "stream",
     "text": [
      "2025/09/14 17:50:25 WARNING mlflow.models.model: `artifact_path` is deprecated. Please use `name` instead.\n"
     ]
    },
    {
     "name": "stdout",
     "output_type": "stream",
     "text": [
      "Model 21: solver=lbfgs , lr=1e-02, activation=relu, layers=(100, 100, 100) -> MSE: 0.000013, MAPE: 4.3741\n",
      "🏃 View run MLP_Model_21 at:  http://127.0.0.1:8080/#/experiments/981756139167564774/runs/f1b7074de2124ab1a36887e576491650\n",
      "🧪 View experiment at:  http://127.0.0.1:8080/#/experiments/981756139167564774\n"
     ]
    },
    {
     "name": "stderr",
     "output_type": "stream",
     "text": [
      "2025/09/14 17:50:30 WARNING mlflow.models.model: `artifact_path` is deprecated. Please use `name` instead.\n"
     ]
    },
    {
     "name": "stdout",
     "output_type": "stream",
     "text": [
      "Model 22: solver=adam  , lr=1e-04, activation=relu, layers=(100, 100, 100) -> MSE: 0.000485, MAPE: 28.1017\n",
      "🏃 View run MLP_Model_22 at:  http://127.0.0.1:8080/#/experiments/981756139167564774/runs/a75f66b34f7f44e8b2fdc241906bb7e9\n",
      "🧪 View experiment at:  http://127.0.0.1:8080/#/experiments/981756139167564774\n"
     ]
    },
    {
     "name": "stderr",
     "output_type": "stream",
     "text": [
      "2025/09/14 17:50:36 WARNING mlflow.models.model: `artifact_path` is deprecated. Please use `name` instead.\n"
     ]
    },
    {
     "name": "stdout",
     "output_type": "stream",
     "text": [
      "Model 23: solver=sgd   , lr=1e-04, activation=relu, layers=(100, 100, 100) -> MSE: 0.012305, MAPE: 105.9900\n",
      "🏃 View run MLP_Model_23 at:  http://127.0.0.1:8080/#/experiments/981756139167564774/runs/1fa0f890f34e459cb2594d9408ee6e44\n",
      "🧪 View experiment at:  http://127.0.0.1:8080/#/experiments/981756139167564774\n"
     ]
    },
    {
     "name": "stderr",
     "output_type": "stream",
     "text": [
      "2025/09/14 17:50:41 WARNING mlflow.models.model: `artifact_path` is deprecated. Please use `name` instead.\n"
     ]
    },
    {
     "name": "stdout",
     "output_type": "stream",
     "text": [
      "Model 24: solver=lbfgs , lr=1e-04, activation=relu, layers=(100, 100, 100) -> MSE: 0.000013, MAPE: 4.3741\n",
      "🏃 View run MLP_Model_24 at:  http://127.0.0.1:8080/#/experiments/981756139167564774/runs/330db401c2754377919189892b9dec74\n",
      "🧪 View experiment at:  http://127.0.0.1:8080/#/experiments/981756139167564774\n"
     ]
    },
    {
     "name": "stderr",
     "output_type": "stream",
     "text": [
      "2025/09/14 17:50:46 WARNING mlflow.models.model: `artifact_path` is deprecated. Please use `name` instead.\n"
     ]
    },
    {
     "name": "stdout",
     "output_type": "stream",
     "text": [
      "Model 25: solver=adam  , lr=1e-06, activation=relu, layers=(100, 100, 100) -> MSE: 0.062626, MAPE: 295.9570\n",
      "🏃 View run MLP_Model_25 at:  http://127.0.0.1:8080/#/experiments/981756139167564774/runs/f6666795126c43c5a3a359e4a0755136\n",
      "🧪 View experiment at:  http://127.0.0.1:8080/#/experiments/981756139167564774\n"
     ]
    },
    {
     "name": "stderr",
     "output_type": "stream",
     "text": [
      "2025/09/14 17:50:51 WARNING mlflow.models.model: `artifact_path` is deprecated. Please use `name` instead.\n"
     ]
    },
    {
     "name": "stdout",
     "output_type": "stream",
     "text": [
      "Model 26: solver=sgd   , lr=1e-06, activation=relu, layers=(100, 100, 100) -> MSE: 0.063603, MAPE: 298.5020\n",
      "🏃 View run MLP_Model_26 at:  http://127.0.0.1:8080/#/experiments/981756139167564774/runs/1514b49879c44e4aa0d3c605273899cd\n",
      "🧪 View experiment at:  http://127.0.0.1:8080/#/experiments/981756139167564774\n"
     ]
    },
    {
     "name": "stderr",
     "output_type": "stream",
     "text": [
      "2025/09/14 17:50:56 WARNING mlflow.models.model: `artifact_path` is deprecated. Please use `name` instead.\n"
     ]
    },
    {
     "name": "stdout",
     "output_type": "stream",
     "text": [
      "Model 27: solver=lbfgs , lr=1e-06, activation=relu, layers=(100, 100, 100) -> MSE: 0.000013, MAPE: 4.3741\n",
      "🏃 View run MLP_Model_27 at:  http://127.0.0.1:8080/#/experiments/981756139167564774/runs/164fd0752c5f40b18216bb20d818680b\n",
      "🧪 View experiment at:  http://127.0.0.1:8080/#/experiments/981756139167564774\n"
     ]
    },
    {
     "name": "stderr",
     "output_type": "stream",
     "text": [
      "2025/09/14 17:51:01 WARNING mlflow.models.model: `artifact_path` is deprecated. Please use `name` instead.\n"
     ]
    },
    {
     "name": "stdout",
     "output_type": "stream",
     "text": [
      "Model 28: solver=adam  , lr=1e-02, activation=tanh, layers=(100,)          -> MSE: 0.000068, MAPE: 10.2555\n",
      "🏃 View run MLP_Model_28 at:  http://127.0.0.1:8080/#/experiments/981756139167564774/runs/e888addbb9d74fb5ad139bf1a1eceb23\n",
      "🧪 View experiment at:  http://127.0.0.1:8080/#/experiments/981756139167564774\n"
     ]
    },
    {
     "name": "stderr",
     "output_type": "stream",
     "text": [
      "2025/09/14 17:51:06 WARNING mlflow.models.model: `artifact_path` is deprecated. Please use `name` instead.\n"
     ]
    },
    {
     "name": "stdout",
     "output_type": "stream",
     "text": [
      "Model 29: solver=sgd   , lr=1e-02, activation=tanh, layers=(100,)          -> MSE: 0.000093, MAPE: 7.9822\n",
      "🏃 View run MLP_Model_29 at:  http://127.0.0.1:8080/#/experiments/981756139167564774/runs/ed98c34464e64e1990f4ab80dc294bad\n",
      "🧪 View experiment at:  http://127.0.0.1:8080/#/experiments/981756139167564774\n"
     ]
    },
    {
     "name": "stderr",
     "output_type": "stream",
     "text": [
      "2025/09/14 17:51:11 WARNING mlflow.models.model: `artifact_path` is deprecated. Please use `name` instead.\n"
     ]
    },
    {
     "name": "stdout",
     "output_type": "stream",
     "text": [
      "Model 30: solver=lbfgs , lr=1e-02, activation=tanh, layers=(100,)          -> MSE: 0.000002, MAPE: 0.9147\n",
      "🏃 View run MLP_Model_30 at:  http://127.0.0.1:8080/#/experiments/981756139167564774/runs/defc89f618e44989bdb444b22aef947f\n",
      "🧪 View experiment at:  http://127.0.0.1:8080/#/experiments/981756139167564774\n"
     ]
    },
    {
     "name": "stderr",
     "output_type": "stream",
     "text": [
      "2025/09/14 17:51:16 WARNING mlflow.models.model: `artifact_path` is deprecated. Please use `name` instead.\n"
     ]
    },
    {
     "name": "stdout",
     "output_type": "stream",
     "text": [
      "Model 31: solver=adam  , lr=1e-04, activation=tanh, layers=(100,)          -> MSE: 0.000245, MAPE: 13.6823\n",
      "🏃 View run MLP_Model_31 at:  http://127.0.0.1:8080/#/experiments/981756139167564774/runs/e5da53160e104111b0fa8ffc2858ee92\n",
      "🧪 View experiment at:  http://127.0.0.1:8080/#/experiments/981756139167564774\n"
     ]
    },
    {
     "name": "stderr",
     "output_type": "stream",
     "text": [
      "2025/09/14 17:51:21 WARNING mlflow.models.model: `artifact_path` is deprecated. Please use `name` instead.\n"
     ]
    },
    {
     "name": "stdout",
     "output_type": "stream",
     "text": [
      "Model 32: solver=sgd   , lr=1e-04, activation=tanh, layers=(100,)          -> MSE: 0.005078, MAPE: 74.3931\n",
      "🏃 View run MLP_Model_32 at:  http://127.0.0.1:8080/#/experiments/981756139167564774/runs/27d224bf6c364b828442148ea0ffe99d\n",
      "🧪 View experiment at:  http://127.0.0.1:8080/#/experiments/981756139167564774\n"
     ]
    },
    {
     "name": "stderr",
     "output_type": "stream",
     "text": [
      "2025/09/14 17:51:26 WARNING mlflow.models.model: `artifact_path` is deprecated. Please use `name` instead.\n"
     ]
    },
    {
     "name": "stdout",
     "output_type": "stream",
     "text": [
      "Model 33: solver=lbfgs , lr=1e-04, activation=tanh, layers=(100,)          -> MSE: 0.000002, MAPE: 0.9147\n",
      "🏃 View run MLP_Model_33 at:  http://127.0.0.1:8080/#/experiments/981756139167564774/runs/669edc75643c4336b24250a8ca7aeb5c\n",
      "🧪 View experiment at:  http://127.0.0.1:8080/#/experiments/981756139167564774\n"
     ]
    },
    {
     "name": "stderr",
     "output_type": "stream",
     "text": [
      "2025/09/14 17:51:31 WARNING mlflow.models.model: `artifact_path` is deprecated. Please use `name` instead.\n"
     ]
    },
    {
     "name": "stdout",
     "output_type": "stream",
     "text": [
      "Model 34: solver=adam  , lr=1e-06, activation=tanh, layers=(100,)          -> MSE: 0.030480, MAPE: 201.8266\n",
      "🏃 View run MLP_Model_34 at:  http://127.0.0.1:8080/#/experiments/981756139167564774/runs/3afd9bf5125f4e1694e065ddec7bdf10\n",
      "🧪 View experiment at:  http://127.0.0.1:8080/#/experiments/981756139167564774\n"
     ]
    },
    {
     "name": "stderr",
     "output_type": "stream",
     "text": [
      "2025/09/14 17:51:36 WARNING mlflow.models.model: `artifact_path` is deprecated. Please use `name` instead.\n"
     ]
    },
    {
     "name": "stdout",
     "output_type": "stream",
     "text": [
      "Model 35: solver=sgd   , lr=1e-06, activation=tanh, layers=(100,)          -> MSE: 0.030706, MAPE: 202.5086\n",
      "🏃 View run MLP_Model_35 at:  http://127.0.0.1:8080/#/experiments/981756139167564774/runs/2c438377c2ff47c7b5115b9a89aae0cf\n",
      "🧪 View experiment at:  http://127.0.0.1:8080/#/experiments/981756139167564774\n"
     ]
    },
    {
     "name": "stderr",
     "output_type": "stream",
     "text": [
      "2025/09/14 17:51:41 WARNING mlflow.models.model: `artifact_path` is deprecated. Please use `name` instead.\n"
     ]
    },
    {
     "name": "stdout",
     "output_type": "stream",
     "text": [
      "Model 36: solver=lbfgs , lr=1e-06, activation=tanh, layers=(100,)          -> MSE: 0.000002, MAPE: 0.9147\n",
      "🏃 View run MLP_Model_36 at:  http://127.0.0.1:8080/#/experiments/981756139167564774/runs/f96eca8c5aaa46f491b96a8e02f1a8b5\n",
      "🧪 View experiment at:  http://127.0.0.1:8080/#/experiments/981756139167564774\n"
     ]
    },
    {
     "name": "stderr",
     "output_type": "stream",
     "text": [
      "2025/09/14 17:51:46 WARNING mlflow.models.model: `artifact_path` is deprecated. Please use `name` instead.\n"
     ]
    },
    {
     "name": "stdout",
     "output_type": "stream",
     "text": [
      "Model 37: solver=adam  , lr=1e-02, activation=tanh, layers=(100, 100)      -> MSE: 0.000051, MAPE: 3.4577\n",
      "🏃 View run MLP_Model_37 at:  http://127.0.0.1:8080/#/experiments/981756139167564774/runs/2cf1ed0fae094818a5eb05bdf03188dd\n",
      "🧪 View experiment at:  http://127.0.0.1:8080/#/experiments/981756139167564774\n"
     ]
    },
    {
     "name": "stderr",
     "output_type": "stream",
     "text": [
      "2025/09/14 17:51:51 WARNING mlflow.models.model: `artifact_path` is deprecated. Please use `name` instead.\n"
     ]
    },
    {
     "name": "stdout",
     "output_type": "stream",
     "text": [
      "Model 38: solver=sgd   , lr=1e-02, activation=tanh, layers=(100, 100)      -> MSE: 0.000210, MAPE: 9.9951\n",
      "🏃 View run MLP_Model_38 at:  http://127.0.0.1:8080/#/experiments/981756139167564774/runs/014de171f02d43d88c7c4bfd9fea588f\n",
      "🧪 View experiment at:  http://127.0.0.1:8080/#/experiments/981756139167564774\n"
     ]
    },
    {
     "name": "stderr",
     "output_type": "stream",
     "text": [
      "2025/09/14 17:51:56 WARNING mlflow.models.model: `artifact_path` is deprecated. Please use `name` instead.\n"
     ]
    },
    {
     "name": "stdout",
     "output_type": "stream",
     "text": [
      "Model 39: solver=lbfgs , lr=1e-02, activation=tanh, layers=(100, 100)      -> MSE: 0.000008, MAPE: 1.6383\n",
      "🏃 View run MLP_Model_39 at:  http://127.0.0.1:8080/#/experiments/981756139167564774/runs/3e8b22451847413ca0fd3d59da940bc9\n",
      "🧪 View experiment at:  http://127.0.0.1:8080/#/experiments/981756139167564774\n"
     ]
    },
    {
     "name": "stderr",
     "output_type": "stream",
     "text": [
      "2025/09/14 17:52:29 WARNING mlflow.models.model: `artifact_path` is deprecated. Please use `name` instead.\n"
     ]
    },
    {
     "name": "stdout",
     "output_type": "stream",
     "text": [
      "Model 40: solver=adam  , lr=1e-04, activation=tanh, layers=(100, 100)      -> MSE: 0.000248, MAPE: 11.0214\n",
      "🏃 View run MLP_Model_40 at:  http://127.0.0.1:8080/#/experiments/981756139167564774/runs/d5c9f67500014dc5ab9131c5a78b8aa7\n",
      "🧪 View experiment at:  http://127.0.0.1:8080/#/experiments/981756139167564774\n"
     ]
    },
    {
     "name": "stderr",
     "output_type": "stream",
     "text": [
      "2025/09/14 17:52:35 WARNING mlflow.models.model: `artifact_path` is deprecated. Please use `name` instead.\n"
     ]
    },
    {
     "name": "stdout",
     "output_type": "stream",
     "text": [
      "Model 41: solver=sgd   , lr=1e-04, activation=tanh, layers=(100, 100)      -> MSE: 0.003237, MAPE: 52.1194\n",
      "🏃 View run MLP_Model_41 at:  http://127.0.0.1:8080/#/experiments/981756139167564774/runs/720958b120c043b7b8bc30488c8232ad\n",
      "🧪 View experiment at:  http://127.0.0.1:8080/#/experiments/981756139167564774\n"
     ]
    },
    {
     "name": "stderr",
     "output_type": "stream",
     "text": [
      "2025/09/14 17:52:41 WARNING mlflow.models.model: `artifact_path` is deprecated. Please use `name` instead.\n"
     ]
    },
    {
     "name": "stdout",
     "output_type": "stream",
     "text": [
      "Model 42: solver=lbfgs , lr=1e-04, activation=tanh, layers=(100, 100)      -> MSE: 0.000008, MAPE: 1.6383\n",
      "🏃 View run MLP_Model_42 at:  http://127.0.0.1:8080/#/experiments/981756139167564774/runs/5a3b98515e45441abc22bfe6f4e73670\n",
      "🧪 View experiment at:  http://127.0.0.1:8080/#/experiments/981756139167564774\n"
     ]
    },
    {
     "name": "stderr",
     "output_type": "stream",
     "text": [
      "2025/09/14 17:52:46 WARNING mlflow.models.model: `artifact_path` is deprecated. Please use `name` instead.\n"
     ]
    },
    {
     "name": "stdout",
     "output_type": "stream",
     "text": [
      "Model 43: solver=adam  , lr=1e-06, activation=tanh, layers=(100, 100)      -> MSE: 0.072092, MAPE: 317.0017\n",
      "🏃 View run MLP_Model_43 at:  http://127.0.0.1:8080/#/experiments/981756139167564774/runs/0691b3857927486885a84bbf1153002c\n",
      "🧪 View experiment at:  http://127.0.0.1:8080/#/experiments/981756139167564774\n"
     ]
    },
    {
     "name": "stderr",
     "output_type": "stream",
     "text": [
      "2025/09/14 17:52:52 WARNING mlflow.models.model: `artifact_path` is deprecated. Please use `name` instead.\n"
     ]
    },
    {
     "name": "stdout",
     "output_type": "stream",
     "text": [
      "Model 44: solver=sgd   , lr=1e-06, activation=tanh, layers=(100, 100)      -> MSE: 0.074085, MAPE: 321.5615\n",
      "🏃 View run MLP_Model_44 at:  http://127.0.0.1:8080/#/experiments/981756139167564774/runs/1c3c72e4c15147728e607350d3acc634\n",
      "🧪 View experiment at:  http://127.0.0.1:8080/#/experiments/981756139167564774\n"
     ]
    },
    {
     "name": "stderr",
     "output_type": "stream",
     "text": [
      "2025/09/14 17:52:58 WARNING mlflow.models.model: `artifact_path` is deprecated. Please use `name` instead.\n"
     ]
    },
    {
     "name": "stdout",
     "output_type": "stream",
     "text": [
      "Model 45: solver=lbfgs , lr=1e-06, activation=tanh, layers=(100, 100)      -> MSE: 0.000008, MAPE: 1.6383\n",
      "🏃 View run MLP_Model_45 at:  http://127.0.0.1:8080/#/experiments/981756139167564774/runs/562698bccf124941857071788af5dc1c\n",
      "🧪 View experiment at:  http://127.0.0.1:8080/#/experiments/981756139167564774\n"
     ]
    },
    {
     "name": "stderr",
     "output_type": "stream",
     "text": [
      "2025/09/14 17:53:32 WARNING mlflow.models.model: `artifact_path` is deprecated. Please use `name` instead.\n"
     ]
    },
    {
     "name": "stdout",
     "output_type": "stream",
     "text": [
      "Model 46: solver=adam  , lr=1e-02, activation=tanh, layers=(100, 100, 100) -> MSE: 0.000041, MAPE: 5.0443\n",
      "🏃 View run MLP_Model_46 at:  http://127.0.0.1:8080/#/experiments/981756139167564774/runs/621c54b96a5a42449738ec897aa5e38d\n",
      "🧪 View experiment at:  http://127.0.0.1:8080/#/experiments/981756139167564774\n"
     ]
    },
    {
     "name": "stderr",
     "output_type": "stream",
     "text": [
      "2025/09/14 17:53:38 WARNING mlflow.models.model: `artifact_path` is deprecated. Please use `name` instead.\n"
     ]
    },
    {
     "name": "stdout",
     "output_type": "stream",
     "text": [
      "Model 47: solver=sgd   , lr=1e-02, activation=tanh, layers=(100, 100, 100) -> MSE: 0.000151, MAPE: 11.2455\n",
      "🏃 View run MLP_Model_47 at:  http://127.0.0.1:8080/#/experiments/981756139167564774/runs/4f54b1df784342d494501a093e23b6f8\n",
      "🧪 View experiment at:  http://127.0.0.1:8080/#/experiments/981756139167564774\n"
     ]
    },
    {
     "name": "stderr",
     "output_type": "stream",
     "text": [
      "2025/09/14 17:53:43 WARNING mlflow.models.model: `artifact_path` is deprecated. Please use `name` instead.\n"
     ]
    },
    {
     "name": "stdout",
     "output_type": "stream",
     "text": [
      "Model 48: solver=lbfgs , lr=1e-02, activation=tanh, layers=(100, 100, 100) -> MSE: 0.000010, MAPE: 1.9468\n",
      "🏃 View run MLP_Model_48 at:  http://127.0.0.1:8080/#/experiments/981756139167564774/runs/e33f7d92ed9349648c7358056c627795\n",
      "🧪 View experiment at:  http://127.0.0.1:8080/#/experiments/981756139167564774\n"
     ]
    },
    {
     "name": "stderr",
     "output_type": "stream",
     "text": [
      "2025/09/14 17:53:48 WARNING mlflow.models.model: `artifact_path` is deprecated. Please use `name` instead.\n"
     ]
    },
    {
     "name": "stdout",
     "output_type": "stream",
     "text": [
      "Model 49: solver=adam  , lr=1e-04, activation=tanh, layers=(100, 100, 100) -> MSE: 0.000262, MAPE: 16.0409\n",
      "🏃 View run MLP_Model_49 at:  http://127.0.0.1:8080/#/experiments/981756139167564774/runs/34ab1bd506044b0faf3258d27108db84\n",
      "🧪 View experiment at:  http://127.0.0.1:8080/#/experiments/981756139167564774\n"
     ]
    },
    {
     "name": "stderr",
     "output_type": "stream",
     "text": [
      "2025/09/14 17:53:53 WARNING mlflow.models.model: `artifact_path` is deprecated. Please use `name` instead.\n"
     ]
    },
    {
     "name": "stdout",
     "output_type": "stream",
     "text": [
      "Model 50: solver=sgd   , lr=1e-04, activation=tanh, layers=(100, 100, 100) -> MSE: 0.001998, MAPE: 19.3354\n",
      "🏃 View run MLP_Model_50 at:  http://127.0.0.1:8080/#/experiments/981756139167564774/runs/d327ddec29ad416dae0c2bd077ce36f5\n",
      "🧪 View experiment at:  http://127.0.0.1:8080/#/experiments/981756139167564774\n"
     ]
    },
    {
     "name": "stderr",
     "output_type": "stream",
     "text": [
      "2025/09/14 17:53:58 WARNING mlflow.models.model: `artifact_path` is deprecated. Please use `name` instead.\n"
     ]
    },
    {
     "name": "stdout",
     "output_type": "stream",
     "text": [
      "Model 51: solver=lbfgs , lr=1e-04, activation=tanh, layers=(100, 100, 100) -> MSE: 0.000010, MAPE: 1.9468\n",
      "🏃 View run MLP_Model_51 at:  http://127.0.0.1:8080/#/experiments/981756139167564774/runs/e600347d1e3a40dfac0f4ccd8fc247d7\n",
      "🧪 View experiment at:  http://127.0.0.1:8080/#/experiments/981756139167564774\n"
     ]
    },
    {
     "name": "stderr",
     "output_type": "stream",
     "text": [
      "2025/09/14 17:54:07 WARNING mlflow.models.model: `artifact_path` is deprecated. Please use `name` instead.\n"
     ]
    },
    {
     "name": "stdout",
     "output_type": "stream",
     "text": [
      "Model 52: solver=adam  , lr=1e-06, activation=tanh, layers=(100, 100, 100) -> MSE: 0.045125, MAPE: 141.9707\n",
      "🏃 View run MLP_Model_52 at:  http://127.0.0.1:8080/#/experiments/981756139167564774/runs/41fbfd08a92845e2b6ded0c4d95f4214\n",
      "🧪 View experiment at:  http://127.0.0.1:8080/#/experiments/981756139167564774\n"
     ]
    },
    {
     "name": "stderr",
     "output_type": "stream",
     "text": [
      "2025/09/14 17:54:13 WARNING mlflow.models.model: `artifact_path` is deprecated. Please use `name` instead.\n"
     ]
    },
    {
     "name": "stdout",
     "output_type": "stream",
     "text": [
      "Model 53: solver=sgd   , lr=1e-06, activation=tanh, layers=(100, 100, 100) -> MSE: 0.231443, MAPE: 338.3847\n",
      "🏃 View run MLP_Model_53 at:  http://127.0.0.1:8080/#/experiments/981756139167564774/runs/9cd7f8aaf3d84dd1b0d97a0611d1de25\n",
      "🧪 View experiment at:  http://127.0.0.1:8080/#/experiments/981756139167564774\n"
     ]
    },
    {
     "name": "stderr",
     "output_type": "stream",
     "text": [
      "2025/09/14 17:54:18 WARNING mlflow.models.model: `artifact_path` is deprecated. Please use `name` instead.\n"
     ]
    },
    {
     "name": "stdout",
     "output_type": "stream",
     "text": [
      "Model 54: solver=lbfgs , lr=1e-06, activation=tanh, layers=(100, 100, 100) -> MSE: 0.000010, MAPE: 1.9468\n",
      "🏃 View run MLP_Model_54 at:  http://127.0.0.1:8080/#/experiments/981756139167564774/runs/fbdc91eb96294684b43dd4d4e335034f\n",
      "🧪 View experiment at:  http://127.0.0.1:8080/#/experiments/981756139167564774\n"
     ]
    },
    {
     "name": "stderr",
     "output_type": "stream",
     "text": [
      "2025/09/14 17:54:23 WARNING mlflow.models.model: `artifact_path` is deprecated. Please use `name` instead.\n",
      "Registered model 'Best_MLP_Cantilever_Regressor' already exists. Creating a new version of this model...\n",
      "2025/09/14 17:54:28 INFO mlflow.store.model_registry.abstract_store: Waiting up to 300 seconds for model version to finish creation. Model name: Best_MLP_Cantilever_Regressor, version 3\n",
      "Registered model 'Best_MLP_Cantilever_Regressor' already exists. Creating a new version of this model...\n",
      "2025/09/14 17:54:28 INFO mlflow.store.model_registry.abstract_store: Waiting up to 300 seconds for model version to finish creation. Model name: Best_MLP_Cantilever_Regressor, version 3\n",
      "Created version '3' of model 'Best_MLP_Cantilever_Regressor'.\n",
      "Created version '3' of model 'Best_MLP_Cantilever_Regressor'.\n"
     ]
    },
    {
     "name": "stdout",
     "output_type": "stream",
     "text": [
      "\n",
      "============================================================\n",
      "BEST MODEL RESULTS:\n",
      "============================================================\n",
      "Best Hyperparams: {'activation': 'tanh', 'hidden_layer_sizes': (100, 100), 'learning_rate_init': 1e-06, 'solver': 'lbfgs'}\n",
      "Best CV Score: 0.000006\n",
      "Test MSE: 0.000007\n",
      "Test MAPE: 2.9361\n",
      "============================================================\n",
      "🏃 View run BEST_MLP_Model at:  http://127.0.0.1:8080/#/experiments/981756139167564774/runs/aa35d80599364ac1bc4224423f8f2111\n",
      "🧪 View experiment at:  http://127.0.0.1:8080/#/experiments/981756139167564774\n",
      "\n",
      "SUMMARY: 54 models tracked in MLflow!\n",
      "Access MLflow UI at: http://127.0.0.1:8080\n"
     ]
    }
   ],
   "source": [
    "# set mflow tracking of experiments\n",
    "import mlflow\n",
    "import mlflow.sklearn\n",
    "\n",
    "from mlflow.models import infer_signature\n",
    "from urllib.parse import urlparse\n",
    "\n",
    "# Define MLFlow Experiment\n",
    "mlflow.set_experiment(\"MLP_Cantilever_Beam_Regression3\")\n",
    "\n",
    "# Perform hyperparameter search first\n",
    "print(\"Performing hyperparameter tuning...\")\n",
    "grid_search = hyperparameter_tuning(X_train_scaled, y_train, param_grid)\n",
    "\n",
    "# Get all CV results\n",
    "cv_results = grid_search.cv_results_\n",
    "print(f\"Grid search completed. Testing {len(cv_results['params'])} parameter combinations...\")\n",
    "\n",
    "# Prepare test data\n",
    "X_test_scaled = pd.DataFrame(scaler.transform(X_test), columns=[\"x\", \"y\"])\n",
    "signature = infer_signature(X_train_scaled, y_train)\n",
    "\n",
    "# Log all individual models from grid search\n",
    "for i in range(len(cv_results['params'])):\n",
    "    with mlflow.start_run(run_name=f\"MLP_Model_{i+1}\"):\n",
    "        # Get parameters for this model\n",
    "        params = cv_results['params'][i]\n",
    "        \n",
    "        # Create and train model with these exact parameters\n",
    "        model = MLPRegressor(\n",
    "            solver=params[\"solver\"],\n",
    "            learning_rate_init=params[\"learning_rate_init\"],\n",
    "            activation=params[\"activation\"],\n",
    "            hidden_layer_sizes=params[\"hidden_layer_sizes\"],\n",
    "            max_iter=1000,\n",
    "            random_state=42\n",
    "        )\n",
    "        \n",
    "        # Fit the model\n",
    "        model.fit(X_train_scaled, y_train)\n",
    "        \n",
    "        # Predict on test set\n",
    "        y_pred = model.predict(X_test_scaled)\n",
    "        \n",
    "        # Calculate metrics\n",
    "        mse = mean_squared_error(y_test, y_pred)\n",
    "        mape = mean_absolute_percentage_error(y_test, y_pred)\n",
    "        \n",
    "        # Log parameters\n",
    "        mlflow.log_param(\"solver\", params[\"solver\"])\n",
    "        mlflow.log_param(\"learning_rate_init\", params[\"learning_rate_init\"])\n",
    "        mlflow.log_param(\"activation\", params[\"activation\"])\n",
    "        mlflow.log_param(\"hidden_layer_sizes\", str(params[\"hidden_layer_sizes\"]))\n",
    "        \n",
    "        # Log metrics\n",
    "        mlflow.log_metric(\"mse\", mse)\n",
    "        mlflow.log_metric(\"mape\", mape)\n",
    "        mlflow.log_metric(\"cv_mean_score\", -cv_results['mean_test_score'][i])  # Convert from negative MSE\n",
    "        mlflow.log_metric(\"cv_std_score\", cv_results['std_test_score'][i])\n",
    "        \n",
    "        # Log model\n",
    "        mlflow.sklearn.log_model(model, \"model\", signature=signature)\n",
    "        \n",
    "        print(f\"Model {i+1:2d}: solver={params['solver']:6s}, lr={params['learning_rate_init']:.0e}, \"\n",
    "              f\"activation={params['activation']:4s}, layers={str(params['hidden_layer_sizes']):15s} \"\n",
    "              f\"-> MSE: {mse:.6f}, MAPE: {mape:.4f}\")\n",
    "\n",
    "# Log best model separately with special identifier\n",
    "with mlflow.start_run(run_name=\"BEST_MLP_Model\"):\n",
    "    best_model = grid_search.best_estimator_\n",
    "    best_params = grid_search.best_params_\n",
    "    \n",
    "    # Predict on test set\n",
    "    y_pred_best = best_model.predict(X_test_scaled)\n",
    "    \n",
    "    # Calculate metrics\n",
    "    best_mse = mean_squared_error(y_test, y_pred_best)\n",
    "    best_mape = mean_absolute_percentage_error(y_test, y_pred_best)\n",
    "    \n",
    "    # Log parameters with \"best_\" prefix\n",
    "    for param_name, param_value in best_params.items():\n",
    "        mlflow.log_param(f\"best_{param_name}\", param_value)\n",
    "    \n",
    "    # Log metrics\n",
    "    mlflow.log_metric(\"mse\", best_mse)\n",
    "    mlflow.log_metric(\"mape\", best_mape)\n",
    "    mlflow.log_metric(\"cv_best_score\", -grid_search.best_score_)\n",
    "    \n",
    "    # Set special tags for identification\n",
    "    mlflow.set_tag(\"model_type\", \"best_model\")\n",
    "    mlflow.set_tag(\"is_best\", \"true\")\n",
    "    \n",
    "    # Log model\n",
    "    mlflow.sklearn.log_model(best_model, \"best_model\", \n",
    "                            signature=signature,\n",
    "                            registered_model_name=\"Best_MLP_Cantilever_Regressor\")\n",
    "    \n",
    "    print(f\"\\n{'='*60}\")\n",
    "    print(f\"BEST MODEL RESULTS:\")\n",
    "    print(f\"{'='*60}\")\n",
    "    print(f\"Best Hyperparams: {best_params}\")\n",
    "    print(f\"Best CV Score: {-grid_search.best_score_:.6f}\")\n",
    "    print(f\"Test MSE: {best_mse:.6f}\")\n",
    "    print(f\"Test MAPE: {best_mape:.4f}\")\n",
    "    print(f\"{'='*60}\")\n",
    "\n",
    "print(f\"\\nSUMMARY: {len(cv_results['params'])} models tracked in MLflow!\")\n",
    "print(\"Access MLflow UI at: http://127.0.0.1:8080\")\n",
    "\n",
    "\n"
   ]
  },
  {
   "cell_type": "code",
   "execution_count": 159,
   "id": "4a78ada1",
   "metadata": {},
   "outputs": [],
   "source": [
    "# lots of things can be visualized on MLFlow\n",
    "# tabular summary of all runs is downloaded separately\n",
    "grid_df = pd.read_csv(\"runs.csv\")\n",
    "grid_df = grid_df[[\"Name\", \"activation\", \"hidden_layer_sizes\", \"learning_rate_init\", \"solver\", \"cv_mean_score\"]]\n",
    "grid_df = grid_df.drop(index=54)"
   ]
  },
  {
   "cell_type": "code",
   "execution_count": 160,
   "id": "ebc16c09",
   "metadata": {},
   "outputs": [
    {
     "data": {
      "text/html": [
       "<div>\n",
       "<style scoped>\n",
       "    .dataframe tbody tr th:only-of-type {\n",
       "        vertical-align: middle;\n",
       "    }\n",
       "\n",
       "    .dataframe tbody tr th {\n",
       "        vertical-align: top;\n",
       "    }\n",
       "\n",
       "    .dataframe thead th {\n",
       "        text-align: right;\n",
       "    }\n",
       "</style>\n",
       "<table border=\"1\" class=\"dataframe\">\n",
       "  <thead>\n",
       "    <tr style=\"text-align: right;\">\n",
       "      <th></th>\n",
       "      <th>Name</th>\n",
       "      <th>activation</th>\n",
       "      <th>hidden_layer_sizes</th>\n",
       "      <th>learning_rate_init</th>\n",
       "      <th>solver</th>\n",
       "      <th>cv_mean_score</th>\n",
       "    </tr>\n",
       "  </thead>\n",
       "  <tbody>\n",
       "    <tr>\n",
       "      <th>0</th>\n",
       "      <td>MLP_Model_12</td>\n",
       "      <td>relu</td>\n",
       "      <td>(100, 100)</td>\n",
       "      <td>0.01</td>\n",
       "      <td>lbfgs</td>\n",
       "      <td>0.000004</td>\n",
       "    </tr>\n",
       "  </tbody>\n",
       "</table>\n",
       "</div>"
      ],
      "text/plain": [
       "           Name activation hidden_layer_sizes  learning_rate_init solver  \\\n",
       "0  MLP_Model_12       relu         (100, 100)                0.01  lbfgs   \n",
       "\n",
       "   cv_mean_score  \n",
       "0       0.000004  "
      ]
     },
     "execution_count": 160,
     "metadata": {},
     "output_type": "execute_result"
    }
   ],
   "source": [
    "# grid_df.sort_values(by=\"cv_mean_score\", ascending=True)\n",
    "best_model = grid_df[grid_df[\"cv_mean_score\"] == grid_df[\"cv_mean_score\"].min()]\n",
    "best_model"
   ]
  },
  {
   "cell_type": "code",
   "execution_count": 161,
   "id": "59a83712",
   "metadata": {},
   "outputs": [
    {
     "name": "stdout",
     "output_type": "stream",
     "text": [
      "MSE: 2.5856476539711176e-05\n"
     ]
    }
   ],
   "source": [
    "# best MLPRegressor\n",
    "mlp_best = MLPRegressor(hidden_layer_sizes=(100, 100,),\n",
    "                        activation = \"relu\",\n",
    "                        solver = \"lbfgs\",\n",
    "                        learning_rate=\"constant\",\n",
    "                        learning_rate_init=0.01)\n",
    "\n",
    "mlp_best.fit(X_train_scaled, y_train)\n",
    "y_pred_test = mlp_best.predict(X_test_scaled)\n",
    "\n",
    "print(f\"MSE: {mean_squared_error(y_pred_test, y_test)}\")"
   ]
  },
  {
   "cell_type": "code",
   "execution_count": null,
   "id": "7c9b3099",
   "metadata": {},
   "outputs": [
    {
     "name": "stdout",
     "output_type": "stream",
     "text": [
      "MSE MLP: 2.5856476539711176e-05\n",
      "MSE nearest interpolation: 8.700284288131084e-07\n",
      "MSE linear interpolation: 8.700284288131084e-07\n",
      "MSE cubic interpolation: 8.700284288131084e-07\n"
     ]
    }
   ],
   "source": [
    "# use scipy interpolate griddata to interpolate data\n",
    "from scipy.interpolate import griddata\n",
    "\n",
    "\n",
    "interp_u_nearest = griddata(X_train.to_numpy(), y_train.to_numpy(), X_test, method = \"nearest\", fill_value=0)\n",
    "interp_u_linear = griddata(X_train.to_numpy(), y_train.to_numpy(), X_test, method = \"linear\", fill_value=0)\n",
    "interp_u_cubic = griddata(X_train.to_numpy(), y_train.to_numpy(), X_test, method = \"cubic\", fill_value=0)\n",
    "\n",
    "print(f\"MSE MLP: {mean_squared_error(y_pred_test, y_test)}\")\n",
    "print(f\"MSE nearest interpolation: {mean_squared_error(interp_u_nearest,y_test)}\")\n",
    "print(f\"MSE linear interpolation: {mean_squared_error(interp_u_nearest,y_test)}\")\n",
    "print(f\"MSE cubic interpolation: {mean_squared_error(interp_u_nearest,y_test)}\")"
   ]
  }
 ],
 "metadata": {
  "kernelspec": {
   "display_name": "MicroSeg",
   "language": "python",
   "name": "python3"
  },
  "language_info": {
   "codemirror_mode": {
    "name": "ipython",
    "version": 3
   },
   "file_extension": ".py",
   "mimetype": "text/x-python",
   "name": "python",
   "nbconvert_exporter": "python",
   "pygments_lexer": "ipython3",
   "version": "3.12.4"
  }
 },
 "nbformat": 4,
 "nbformat_minor": 5
}
